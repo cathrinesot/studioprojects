{
 "cells": [
  {
   "cell_type": "code",
   "execution_count": 1215,
   "metadata": {
    "collapsed": true
   },
   "outputs": [],
   "source": [
    "from urllib.request import urlopen\n",
    "from bs4 import BeautifulSoup\n",
    "%matplotlib inline\n",
    "import pandas as pd\n",
    "import matplotlib.pyplot as plt\n",
    "import matplotlib\n",
    "matplotlib.rcParams['pdf.fonttype'] = 42\n",
    "import numpy as np\n",
    "import seaborn as sns"
   ]
  },
  {
   "cell_type": "code",
   "execution_count": 1216,
   "metadata": {
    "collapsed": true
   },
   "outputs": [],
   "source": [
    "states = pd.read_excel(\"2007-2016-PIT-Counts-by-State.xlsx\")"
   ]
  },
  {
   "cell_type": "code",
   "execution_count": 1217,
   "metadata": {},
   "outputs": [
    {
     "data": {
      "text/html": [
       "<div>\n",
       "<style>\n",
       "    .dataframe thead tr:only-child th {\n",
       "        text-align: right;\n",
       "    }\n",
       "\n",
       "    .dataframe thead th {\n",
       "        text-align: left;\n",
       "    }\n",
       "\n",
       "    .dataframe tbody tr th {\n",
       "        vertical-align: top;\n",
       "    }\n",
       "</style>\n",
       "<table border=\"1\" class=\"dataframe\">\n",
       "  <thead>\n",
       "    <tr style=\"text-align: right;\">\n",
       "      <th></th>\n",
       "      <th>state</th>\n",
       "      <th>Change in Total Homelessness, 2015-2016</th>\n",
       "      <th>Change in Total Homelessness, 2014-2016</th>\n",
       "      <th>Change in Total Homelessness, 2013-2016</th>\n",
       "      <th>Change in Total Homelessness, 2012-2016</th>\n",
       "      <th>Change in Total Homelessness, 2011-2016</th>\n",
       "      <th>Change in Total Homelessness, 2010-2016</th>\n",
       "      <th>Change in Total Homelessness, 2009-2016</th>\n",
       "      <th>Change in Total Homelessness, 2008-2016</th>\n",
       "      <th>Change in Total Homelessness, 2007-2016</th>\n",
       "    </tr>\n",
       "  </thead>\n",
       "  <tbody>\n",
       "    <tr>\n",
       "      <th>0</th>\n",
       "      <td>AK</td>\n",
       "      <td>-0.008180</td>\n",
       "      <td>0.087444</td>\n",
       "      <td>-0.003083</td>\n",
       "      <td>0.014114</td>\n",
       "      <td>-0.088346</td>\n",
       "      <td>0.041331</td>\n",
       "      <td>-0.026104</td>\n",
       "      <td>0.178615</td>\n",
       "      <td>0.181486</td>\n",
       "    </tr>\n",
       "    <tr>\n",
       "      <th>1</th>\n",
       "      <td>AL</td>\n",
       "      <td>0.035516</td>\n",
       "      <td>-0.098663</td>\n",
       "      <td>-0.123267</td>\n",
       "      <td>-0.210789</td>\n",
       "      <td>-0.260345</td>\n",
       "      <td>-0.320046</td>\n",
       "      <td>-0.323849</td>\n",
       "      <td>-0.236867</td>\n",
       "      <td>-0.245965</td>\n",
       "    </tr>\n",
       "    <tr>\n",
       "      <th>2</th>\n",
       "      <td>AR</td>\n",
       "      <td>-0.037891</td>\n",
       "      <td>-0.161104</td>\n",
       "      <td>-0.353882</td>\n",
       "      <td>-0.415520</td>\n",
       "      <td>-0.280666</td>\n",
       "      <td>-0.108255</td>\n",
       "      <td>-0.136396</td>\n",
       "      <td>-0.243318</td>\n",
       "      <td>-0.357925</td>\n",
       "    </tr>\n",
       "    <tr>\n",
       "      <th>3</th>\n",
       "      <td>AZ</td>\n",
       "      <td>-0.019099</td>\n",
       "      <td>-0.075083</td>\n",
       "      <td>-0.080951</td>\n",
       "      <td>-0.141125</td>\n",
       "      <td>-0.075876</td>\n",
       "      <td>-0.292028</td>\n",
       "      <td>-0.340602</td>\n",
       "      <td>-0.222694</td>\n",
       "      <td>-0.337225</td>\n",
       "    </tr>\n",
       "    <tr>\n",
       "      <th>4</th>\n",
       "      <td>CA</td>\n",
       "      <td>0.020771</td>\n",
       "      <td>0.036770</td>\n",
       "      <td>-0.003458</td>\n",
       "      <td>-0.016287</td>\n",
       "      <td>-0.055831</td>\n",
       "      <td>-0.043230</td>\n",
       "      <td>-0.044761</td>\n",
       "      <td>-0.134687</td>\n",
       "      <td>-0.149972</td>\n",
       "    </tr>\n",
       "  </tbody>\n",
       "</table>\n",
       "</div>"
      ],
      "text/plain": [
       "  state  Change in Total Homelessness, 2015-2016  \\\n",
       "0    AK                                -0.008180   \n",
       "1    AL                                 0.035516   \n",
       "2    AR                                -0.037891   \n",
       "3    AZ                                -0.019099   \n",
       "4    CA                                 0.020771   \n",
       "\n",
       "   Change in Total Homelessness, 2014-2016  \\\n",
       "0                                 0.087444   \n",
       "1                                -0.098663   \n",
       "2                                -0.161104   \n",
       "3                                -0.075083   \n",
       "4                                 0.036770   \n",
       "\n",
       "   Change in Total Homelessness, 2013-2016  \\\n",
       "0                                -0.003083   \n",
       "1                                -0.123267   \n",
       "2                                -0.353882   \n",
       "3                                -0.080951   \n",
       "4                                -0.003458   \n",
       "\n",
       "   Change in Total Homelessness, 2012-2016  \\\n",
       "0                                 0.014114   \n",
       "1                                -0.210789   \n",
       "2                                -0.415520   \n",
       "3                                -0.141125   \n",
       "4                                -0.016287   \n",
       "\n",
       "   Change in Total Homelessness, 2011-2016  \\\n",
       "0                                -0.088346   \n",
       "1                                -0.260345   \n",
       "2                                -0.280666   \n",
       "3                                -0.075876   \n",
       "4                                -0.055831   \n",
       "\n",
       "   Change in Total Homelessness, 2010-2016  \\\n",
       "0                                 0.041331   \n",
       "1                                -0.320046   \n",
       "2                                -0.108255   \n",
       "3                                -0.292028   \n",
       "4                                -0.043230   \n",
       "\n",
       "   Change in Total Homelessness, 2009-2016  \\\n",
       "0                                -0.026104   \n",
       "1                                -0.323849   \n",
       "2                                -0.136396   \n",
       "3                                -0.340602   \n",
       "4                                -0.044761   \n",
       "\n",
       "   Change in Total Homelessness, 2008-2016  \\\n",
       "0                                 0.178615   \n",
       "1                                -0.236867   \n",
       "2                                -0.243318   \n",
       "3                                -0.222694   \n",
       "4                                -0.134687   \n",
       "\n",
       "   Change in Total Homelessness, 2007-2016  \n",
       "0                                 0.181486  \n",
       "1                                -0.245965  \n",
       "2                                -0.357925  \n",
       "3                                -0.337225  \n",
       "4                                -0.149972  "
      ]
     },
     "execution_count": 1217,
     "metadata": {},
     "output_type": "execute_result"
    }
   ],
   "source": [
    "states.head()"
   ]
  },
  {
   "cell_type": "code",
   "execution_count": 1218,
   "metadata": {},
   "outputs": [],
   "source": [
    "details_16 = pd.read_excel(\"2007-2016-PIT-Counts-by-CoC.xlsx\")"
   ]
  },
  {
   "cell_type": "code",
   "execution_count": 1219,
   "metadata": {},
   "outputs": [
    {
     "data": {
      "text/html": [
       "<div>\n",
       "<style>\n",
       "    .dataframe thead tr:only-child th {\n",
       "        text-align: right;\n",
       "    }\n",
       "\n",
       "    .dataframe thead th {\n",
       "        text-align: left;\n",
       "    }\n",
       "\n",
       "    .dataframe tbody tr th {\n",
       "        vertical-align: top;\n",
       "    }\n",
       "</style>\n",
       "<table border=\"1\" class=\"dataframe\">\n",
       "  <thead>\n",
       "    <tr style=\"text-align: right;\">\n",
       "      <th></th>\n",
       "      <th>CoC Number</th>\n",
       "      <th>CoC Name</th>\n",
       "      <th>Total Homeless, 2016</th>\n",
       "      <th>Sheltered Homeless, 2016</th>\n",
       "      <th>Unsheltered Homeless, 2016</th>\n",
       "      <th>Homeless Individuals, 2016</th>\n",
       "      <th>Sheltered Homeless Individuals, 2016</th>\n",
       "      <th>Unsheltered Homeless Individuals, 2016</th>\n",
       "      <th>Homeless People in Families, 2016</th>\n",
       "      <th>Sheltered Homeless People in Families, 2016</th>\n",
       "      <th>...</th>\n",
       "      <th>Unsheltered Parenting Youth (Under 25), 2016</th>\n",
       "      <th>Parenting Youth Under 18, 2016</th>\n",
       "      <th>Sheltered Parenting Youth Under 18, 2016</th>\n",
       "      <th>Unsheltered Parenting Youth Under 18, 2016</th>\n",
       "      <th>Parenting Youth Age 18-24, 2016</th>\n",
       "      <th>Sheltered Parenting Youth Age 18-24, 2016</th>\n",
       "      <th>Unsheltered Parenting Youth Age 18-24, 2016</th>\n",
       "      <th>Children of Parenting Youth, 2016</th>\n",
       "      <th>Sheltered Children of Parenting Youth, 2016</th>\n",
       "      <th>Unsheltered Children of Parenting Youth, 2016</th>\n",
       "    </tr>\n",
       "  </thead>\n",
       "  <tbody>\n",
       "    <tr>\n",
       "      <th>0</th>\n",
       "      <td>AK-500</td>\n",
       "      <td>Anchorage CoC</td>\n",
       "      <td>1105.0</td>\n",
       "      <td>865.0</td>\n",
       "      <td>240.0</td>\n",
       "      <td>905.0</td>\n",
       "      <td>665.0</td>\n",
       "      <td>240.0</td>\n",
       "      <td>200.0</td>\n",
       "      <td>200.0</td>\n",
       "      <td>...</td>\n",
       "      <td>0.0</td>\n",
       "      <td>0.0</td>\n",
       "      <td>0.0</td>\n",
       "      <td>0.0</td>\n",
       "      <td>6.0</td>\n",
       "      <td>6.0</td>\n",
       "      <td>0.0</td>\n",
       "      <td>6.0</td>\n",
       "      <td>6.0</td>\n",
       "      <td>0.0</td>\n",
       "    </tr>\n",
       "    <tr>\n",
       "      <th>1</th>\n",
       "      <td>AK-501</td>\n",
       "      <td>Alaska Balance of State CoC</td>\n",
       "      <td>835.0</td>\n",
       "      <td>633.0</td>\n",
       "      <td>202.0</td>\n",
       "      <td>622.0</td>\n",
       "      <td>424.0</td>\n",
       "      <td>198.0</td>\n",
       "      <td>213.0</td>\n",
       "      <td>209.0</td>\n",
       "      <td>...</td>\n",
       "      <td>0.0</td>\n",
       "      <td>0.0</td>\n",
       "      <td>0.0</td>\n",
       "      <td>0.0</td>\n",
       "      <td>3.0</td>\n",
       "      <td>3.0</td>\n",
       "      <td>0.0</td>\n",
       "      <td>4.0</td>\n",
       "      <td>4.0</td>\n",
       "      <td>0.0</td>\n",
       "    </tr>\n",
       "    <tr>\n",
       "      <th>2</th>\n",
       "      <td>AL-500</td>\n",
       "      <td>Birmingham/Jefferson, St. Clair, Shelby Counti...</td>\n",
       "      <td>1228.0</td>\n",
       "      <td>1032.0</td>\n",
       "      <td>196.0</td>\n",
       "      <td>927.0</td>\n",
       "      <td>743.0</td>\n",
       "      <td>184.0</td>\n",
       "      <td>301.0</td>\n",
       "      <td>289.0</td>\n",
       "      <td>...</td>\n",
       "      <td>0.0</td>\n",
       "      <td>5.0</td>\n",
       "      <td>5.0</td>\n",
       "      <td>0.0</td>\n",
       "      <td>7.0</td>\n",
       "      <td>7.0</td>\n",
       "      <td>0.0</td>\n",
       "      <td>19.0</td>\n",
       "      <td>19.0</td>\n",
       "      <td>0.0</td>\n",
       "    </tr>\n",
       "    <tr>\n",
       "      <th>3</th>\n",
       "      <td>AL-501</td>\n",
       "      <td>Mobile City &amp; County/Baldwin County CoC</td>\n",
       "      <td>623.0</td>\n",
       "      <td>387.0</td>\n",
       "      <td>236.0</td>\n",
       "      <td>477.0</td>\n",
       "      <td>253.0</td>\n",
       "      <td>224.0</td>\n",
       "      <td>146.0</td>\n",
       "      <td>134.0</td>\n",
       "      <td>...</td>\n",
       "      <td>1.0</td>\n",
       "      <td>0.0</td>\n",
       "      <td>0.0</td>\n",
       "      <td>0.0</td>\n",
       "      <td>7.0</td>\n",
       "      <td>6.0</td>\n",
       "      <td>1.0</td>\n",
       "      <td>9.0</td>\n",
       "      <td>8.0</td>\n",
       "      <td>1.0</td>\n",
       "    </tr>\n",
       "    <tr>\n",
       "      <th>4</th>\n",
       "      <td>AL-502</td>\n",
       "      <td>Florence/Northwest Alabama CoC</td>\n",
       "      <td>337.0</td>\n",
       "      <td>286.0</td>\n",
       "      <td>51.0</td>\n",
       "      <td>194.0</td>\n",
       "      <td>155.0</td>\n",
       "      <td>39.0</td>\n",
       "      <td>143.0</td>\n",
       "      <td>131.0</td>\n",
       "      <td>...</td>\n",
       "      <td>0.0</td>\n",
       "      <td>0.0</td>\n",
       "      <td>0.0</td>\n",
       "      <td>0.0</td>\n",
       "      <td>0.0</td>\n",
       "      <td>0.0</td>\n",
       "      <td>0.0</td>\n",
       "      <td>0.0</td>\n",
       "      <td>0.0</td>\n",
       "      <td>0.0</td>\n",
       "    </tr>\n",
       "  </tbody>\n",
       "</table>\n",
       "<p>5 rows × 44 columns</p>\n",
       "</div>"
      ],
      "text/plain": [
       "  CoC Number                                           CoC Name  \\\n",
       "0     AK-500                                      Anchorage CoC   \n",
       "1     AK-501                        Alaska Balance of State CoC   \n",
       "2     AL-500  Birmingham/Jefferson, St. Clair, Shelby Counti...   \n",
       "3     AL-501            Mobile City & County/Baldwin County CoC   \n",
       "4     AL-502                     Florence/Northwest Alabama CoC   \n",
       "\n",
       "   Total Homeless, 2016  Sheltered Homeless, 2016  Unsheltered Homeless, 2016  \\\n",
       "0                1105.0                     865.0                       240.0   \n",
       "1                 835.0                     633.0                       202.0   \n",
       "2                1228.0                    1032.0                       196.0   \n",
       "3                 623.0                     387.0                       236.0   \n",
       "4                 337.0                     286.0                        51.0   \n",
       "\n",
       "   Homeless Individuals, 2016  Sheltered Homeless Individuals, 2016  \\\n",
       "0                       905.0                                 665.0   \n",
       "1                       622.0                                 424.0   \n",
       "2                       927.0                                 743.0   \n",
       "3                       477.0                                 253.0   \n",
       "4                       194.0                                 155.0   \n",
       "\n",
       "   Unsheltered Homeless Individuals, 2016  Homeless People in Families, 2016  \\\n",
       "0                                   240.0                              200.0   \n",
       "1                                   198.0                              213.0   \n",
       "2                                   184.0                              301.0   \n",
       "3                                   224.0                              146.0   \n",
       "4                                    39.0                              143.0   \n",
       "\n",
       "   Sheltered Homeless People in Families, 2016  \\\n",
       "0                                        200.0   \n",
       "1                                        209.0   \n",
       "2                                        289.0   \n",
       "3                                        134.0   \n",
       "4                                        131.0   \n",
       "\n",
       "                       ...                        \\\n",
       "0                      ...                         \n",
       "1                      ...                         \n",
       "2                      ...                         \n",
       "3                      ...                         \n",
       "4                      ...                         \n",
       "\n",
       "   Unsheltered Parenting Youth (Under 25), 2016  \\\n",
       "0                                           0.0   \n",
       "1                                           0.0   \n",
       "2                                           0.0   \n",
       "3                                           1.0   \n",
       "4                                           0.0   \n",
       "\n",
       "   Parenting Youth Under 18, 2016  Sheltered Parenting Youth Under 18, 2016  \\\n",
       "0                             0.0                                       0.0   \n",
       "1                             0.0                                       0.0   \n",
       "2                             5.0                                       5.0   \n",
       "3                             0.0                                       0.0   \n",
       "4                             0.0                                       0.0   \n",
       "\n",
       "   Unsheltered Parenting Youth Under 18, 2016  \\\n",
       "0                                         0.0   \n",
       "1                                         0.0   \n",
       "2                                         0.0   \n",
       "3                                         0.0   \n",
       "4                                         0.0   \n",
       "\n",
       "   Parenting Youth Age 18-24, 2016  Sheltered Parenting Youth Age 18-24, 2016  \\\n",
       "0                              6.0                                        6.0   \n",
       "1                              3.0                                        3.0   \n",
       "2                              7.0                                        7.0   \n",
       "3                              7.0                                        6.0   \n",
       "4                              0.0                                        0.0   \n",
       "\n",
       "   Unsheltered Parenting Youth Age 18-24, 2016  \\\n",
       "0                                          0.0   \n",
       "1                                          0.0   \n",
       "2                                          0.0   \n",
       "3                                          1.0   \n",
       "4                                          0.0   \n",
       "\n",
       "   Children of Parenting Youth, 2016  \\\n",
       "0                                6.0   \n",
       "1                                4.0   \n",
       "2                               19.0   \n",
       "3                                9.0   \n",
       "4                                0.0   \n",
       "\n",
       "   Sheltered Children of Parenting Youth, 2016  \\\n",
       "0                                          6.0   \n",
       "1                                          4.0   \n",
       "2                                         19.0   \n",
       "3                                          8.0   \n",
       "4                                          0.0   \n",
       "\n",
       "   Unsheltered Children of Parenting Youth, 2016  \n",
       "0                                            0.0  \n",
       "1                                            0.0  \n",
       "2                                            0.0  \n",
       "3                                            1.0  \n",
       "4                                            0.0  \n",
       "\n",
       "[5 rows x 44 columns]"
      ]
     },
     "execution_count": 1219,
     "metadata": {},
     "output_type": "execute_result"
    }
   ],
   "source": [
    "details_16.head()"
   ]
  },
  {
   "cell_type": "code",
   "execution_count": 1220,
   "metadata": {
    "collapsed": true
   },
   "outputs": [],
   "source": [
    "details = pd.read_excel(\"2007-2016-PIT-Counts-by-CoC.xlsx\")"
   ]
  },
  {
   "cell_type": "code",
   "execution_count": 1317,
   "metadata": {},
   "outputs": [
    {
     "data": {
      "text/html": [
       "<div>\n",
       "<style>\n",
       "    .dataframe thead tr:only-child th {\n",
       "        text-align: right;\n",
       "    }\n",
       "\n",
       "    .dataframe thead th {\n",
       "        text-align: left;\n",
       "    }\n",
       "\n",
       "    .dataframe tbody tr th {\n",
       "        vertical-align: top;\n",
       "    }\n",
       "</style>\n",
       "<table border=\"1\" class=\"dataframe\">\n",
       "  <thead>\n",
       "    <tr style=\"text-align: right;\">\n",
       "      <th></th>\n",
       "      <th>CoC Number</th>\n",
       "      <th>CoC Name</th>\n",
       "      <th>Total Homeless, 2016</th>\n",
       "      <th>Sheltered Homeless, 2016</th>\n",
       "      <th>Unsheltered Homeless, 2016</th>\n",
       "      <th>Homeless Individuals, 2016</th>\n",
       "      <th>Sheltered Homeless Individuals, 2016</th>\n",
       "      <th>Unsheltered Homeless Individuals, 2016</th>\n",
       "      <th>Homeless People in Families, 2016</th>\n",
       "      <th>Sheltered Homeless People in Families, 2016</th>\n",
       "      <th>...</th>\n",
       "      <th>Unsheltered Parenting Youth (Under 25), 2016</th>\n",
       "      <th>Parenting Youth Under 18, 2016</th>\n",
       "      <th>Sheltered Parenting Youth Under 18, 2016</th>\n",
       "      <th>Unsheltered Parenting Youth Under 18, 2016</th>\n",
       "      <th>Parenting Youth Age 18-24, 2016</th>\n",
       "      <th>Sheltered Parenting Youth Age 18-24, 2016</th>\n",
       "      <th>Unsheltered Parenting Youth Age 18-24, 2016</th>\n",
       "      <th>Children of Parenting Youth, 2016</th>\n",
       "      <th>Sheltered Children of Parenting Youth, 2016</th>\n",
       "      <th>Unsheltered Children of Parenting Youth, 2016</th>\n",
       "    </tr>\n",
       "  </thead>\n",
       "  <tbody>\n",
       "    <tr>\n",
       "      <th>0</th>\n",
       "      <td>AK-500</td>\n",
       "      <td>Anchorage CoC</td>\n",
       "      <td>1105.0</td>\n",
       "      <td>865.0</td>\n",
       "      <td>240.0</td>\n",
       "      <td>905.0</td>\n",
       "      <td>665.0</td>\n",
       "      <td>240.0</td>\n",
       "      <td>200.0</td>\n",
       "      <td>200.0</td>\n",
       "      <td>...</td>\n",
       "      <td>0.0</td>\n",
       "      <td>0.0</td>\n",
       "      <td>0.0</td>\n",
       "      <td>0.0</td>\n",
       "      <td>6.0</td>\n",
       "      <td>6.0</td>\n",
       "      <td>0.0</td>\n",
       "      <td>6.0</td>\n",
       "      <td>6.0</td>\n",
       "      <td>0.0</td>\n",
       "    </tr>\n",
       "    <tr>\n",
       "      <th>1</th>\n",
       "      <td>AK-501</td>\n",
       "      <td>Alaska Balance of State CoC</td>\n",
       "      <td>835.0</td>\n",
       "      <td>633.0</td>\n",
       "      <td>202.0</td>\n",
       "      <td>622.0</td>\n",
       "      <td>424.0</td>\n",
       "      <td>198.0</td>\n",
       "      <td>213.0</td>\n",
       "      <td>209.0</td>\n",
       "      <td>...</td>\n",
       "      <td>0.0</td>\n",
       "      <td>0.0</td>\n",
       "      <td>0.0</td>\n",
       "      <td>0.0</td>\n",
       "      <td>3.0</td>\n",
       "      <td>3.0</td>\n",
       "      <td>0.0</td>\n",
       "      <td>4.0</td>\n",
       "      <td>4.0</td>\n",
       "      <td>0.0</td>\n",
       "    </tr>\n",
       "    <tr>\n",
       "      <th>2</th>\n",
       "      <td>AL-500</td>\n",
       "      <td>Birmingham/Jefferson, St. Clair, Shelby Counti...</td>\n",
       "      <td>1228.0</td>\n",
       "      <td>1032.0</td>\n",
       "      <td>196.0</td>\n",
       "      <td>927.0</td>\n",
       "      <td>743.0</td>\n",
       "      <td>184.0</td>\n",
       "      <td>301.0</td>\n",
       "      <td>289.0</td>\n",
       "      <td>...</td>\n",
       "      <td>0.0</td>\n",
       "      <td>5.0</td>\n",
       "      <td>5.0</td>\n",
       "      <td>0.0</td>\n",
       "      <td>7.0</td>\n",
       "      <td>7.0</td>\n",
       "      <td>0.0</td>\n",
       "      <td>19.0</td>\n",
       "      <td>19.0</td>\n",
       "      <td>0.0</td>\n",
       "    </tr>\n",
       "    <tr>\n",
       "      <th>3</th>\n",
       "      <td>AL-501</td>\n",
       "      <td>Mobile City &amp; County/Baldwin County CoC</td>\n",
       "      <td>623.0</td>\n",
       "      <td>387.0</td>\n",
       "      <td>236.0</td>\n",
       "      <td>477.0</td>\n",
       "      <td>253.0</td>\n",
       "      <td>224.0</td>\n",
       "      <td>146.0</td>\n",
       "      <td>134.0</td>\n",
       "      <td>...</td>\n",
       "      <td>1.0</td>\n",
       "      <td>0.0</td>\n",
       "      <td>0.0</td>\n",
       "      <td>0.0</td>\n",
       "      <td>7.0</td>\n",
       "      <td>6.0</td>\n",
       "      <td>1.0</td>\n",
       "      <td>9.0</td>\n",
       "      <td>8.0</td>\n",
       "      <td>1.0</td>\n",
       "    </tr>\n",
       "    <tr>\n",
       "      <th>4</th>\n",
       "      <td>AL-502</td>\n",
       "      <td>Florence/Northwest Alabama CoC</td>\n",
       "      <td>337.0</td>\n",
       "      <td>286.0</td>\n",
       "      <td>51.0</td>\n",
       "      <td>194.0</td>\n",
       "      <td>155.0</td>\n",
       "      <td>39.0</td>\n",
       "      <td>143.0</td>\n",
       "      <td>131.0</td>\n",
       "      <td>...</td>\n",
       "      <td>0.0</td>\n",
       "      <td>0.0</td>\n",
       "      <td>0.0</td>\n",
       "      <td>0.0</td>\n",
       "      <td>0.0</td>\n",
       "      <td>0.0</td>\n",
       "      <td>0.0</td>\n",
       "      <td>0.0</td>\n",
       "      <td>0.0</td>\n",
       "      <td>0.0</td>\n",
       "    </tr>\n",
       "  </tbody>\n",
       "</table>\n",
       "<p>5 rows × 44 columns</p>\n",
       "</div>"
      ],
      "text/plain": [
       "  CoC Number                                           CoC Name  \\\n",
       "0     AK-500                                      Anchorage CoC   \n",
       "1     AK-501                        Alaska Balance of State CoC   \n",
       "2     AL-500  Birmingham/Jefferson, St. Clair, Shelby Counti...   \n",
       "3     AL-501            Mobile City & County/Baldwin County CoC   \n",
       "4     AL-502                     Florence/Northwest Alabama CoC   \n",
       "\n",
       "   Total Homeless, 2016  Sheltered Homeless, 2016  Unsheltered Homeless, 2016  \\\n",
       "0                1105.0                     865.0                       240.0   \n",
       "1                 835.0                     633.0                       202.0   \n",
       "2                1228.0                    1032.0                       196.0   \n",
       "3                 623.0                     387.0                       236.0   \n",
       "4                 337.0                     286.0                        51.0   \n",
       "\n",
       "   Homeless Individuals, 2016  Sheltered Homeless Individuals, 2016  \\\n",
       "0                       905.0                                 665.0   \n",
       "1                       622.0                                 424.0   \n",
       "2                       927.0                                 743.0   \n",
       "3                       477.0                                 253.0   \n",
       "4                       194.0                                 155.0   \n",
       "\n",
       "   Unsheltered Homeless Individuals, 2016  Homeless People in Families, 2016  \\\n",
       "0                                   240.0                              200.0   \n",
       "1                                   198.0                              213.0   \n",
       "2                                   184.0                              301.0   \n",
       "3                                   224.0                              146.0   \n",
       "4                                    39.0                              143.0   \n",
       "\n",
       "   Sheltered Homeless People in Families, 2016  \\\n",
       "0                                        200.0   \n",
       "1                                        209.0   \n",
       "2                                        289.0   \n",
       "3                                        134.0   \n",
       "4                                        131.0   \n",
       "\n",
       "                       ...                        \\\n",
       "0                      ...                         \n",
       "1                      ...                         \n",
       "2                      ...                         \n",
       "3                      ...                         \n",
       "4                      ...                         \n",
       "\n",
       "   Unsheltered Parenting Youth (Under 25), 2016  \\\n",
       "0                                           0.0   \n",
       "1                                           0.0   \n",
       "2                                           0.0   \n",
       "3                                           1.0   \n",
       "4                                           0.0   \n",
       "\n",
       "   Parenting Youth Under 18, 2016  Sheltered Parenting Youth Under 18, 2016  \\\n",
       "0                             0.0                                       0.0   \n",
       "1                             0.0                                       0.0   \n",
       "2                             5.0                                       5.0   \n",
       "3                             0.0                                       0.0   \n",
       "4                             0.0                                       0.0   \n",
       "\n",
       "   Unsheltered Parenting Youth Under 18, 2016  \\\n",
       "0                                         0.0   \n",
       "1                                         0.0   \n",
       "2                                         0.0   \n",
       "3                                         0.0   \n",
       "4                                         0.0   \n",
       "\n",
       "   Parenting Youth Age 18-24, 2016  Sheltered Parenting Youth Age 18-24, 2016  \\\n",
       "0                              6.0                                        6.0   \n",
       "1                              3.0                                        3.0   \n",
       "2                              7.0                                        7.0   \n",
       "3                              7.0                                        6.0   \n",
       "4                              0.0                                        0.0   \n",
       "\n",
       "   Unsheltered Parenting Youth Age 18-24, 2016  \\\n",
       "0                                          0.0   \n",
       "1                                          0.0   \n",
       "2                                          0.0   \n",
       "3                                          1.0   \n",
       "4                                          0.0   \n",
       "\n",
       "   Children of Parenting Youth, 2016  \\\n",
       "0                                6.0   \n",
       "1                                4.0   \n",
       "2                               19.0   \n",
       "3                                9.0   \n",
       "4                                0.0   \n",
       "\n",
       "   Sheltered Children of Parenting Youth, 2016  \\\n",
       "0                                          6.0   \n",
       "1                                          4.0   \n",
       "2                                         19.0   \n",
       "3                                          8.0   \n",
       "4                                          0.0   \n",
       "\n",
       "   Unsheltered Children of Parenting Youth, 2016  \n",
       "0                                            0.0  \n",
       "1                                            0.0  \n",
       "2                                            0.0  \n",
       "3                                            1.0  \n",
       "4                                            0.0  \n",
       "\n",
       "[5 rows x 44 columns]"
      ]
     },
     "execution_count": 1317,
     "metadata": {},
     "output_type": "execute_result"
    }
   ],
   "source": [
    "details.head()"
   ]
  },
  {
   "cell_type": "code",
   "execution_count": 1222,
   "metadata": {},
   "outputs": [],
   "source": [
    "df = pd.read_csv(\"2007-2016-HIC-Counts-by-CoC.csv\")"
   ]
  },
  {
   "cell_type": "code",
   "execution_count": 1223,
   "metadata": {},
   "outputs": [
    {
     "data": {
      "text/html": [
       "<div>\n",
       "<style>\n",
       "    .dataframe thead tr:only-child th {\n",
       "        text-align: right;\n",
       "    }\n",
       "\n",
       "    .dataframe thead th {\n",
       "        text-align: left;\n",
       "    }\n",
       "\n",
       "    .dataframe tbody tr th {\n",
       "        vertical-align: top;\n",
       "    }\n",
       "</style>\n",
       "<table border=\"1\" class=\"dataframe\">\n",
       "  <thead>\n",
       "    <tr style=\"text-align: right;\">\n",
       "      <th></th>\n",
       "      <th>Year</th>\n",
       "      <th>State</th>\n",
       "      <th>CoC Number</th>\n",
       "      <th>CoC Name</th>\n",
       "      <th>Measures</th>\n",
       "      <th>Count</th>\n",
       "    </tr>\n",
       "  </thead>\n",
       "  <tbody>\n",
       "    <tr>\n",
       "      <th>0</th>\n",
       "      <td>1/1/2007</td>\n",
       "      <td>AK</td>\n",
       "      <td>AK-500</td>\n",
       "      <td>Anchorage CoC</td>\n",
       "      <td>Chronically Homeless Individuals</td>\n",
       "      <td>224</td>\n",
       "    </tr>\n",
       "    <tr>\n",
       "      <th>1</th>\n",
       "      <td>1/1/2007</td>\n",
       "      <td>AK</td>\n",
       "      <td>AK-500</td>\n",
       "      <td>Anchorage CoC</td>\n",
       "      <td>Homeless Individuals</td>\n",
       "      <td>696</td>\n",
       "    </tr>\n",
       "    <tr>\n",
       "      <th>2</th>\n",
       "      <td>1/1/2007</td>\n",
       "      <td>AK</td>\n",
       "      <td>AK-500</td>\n",
       "      <td>Anchorage CoC</td>\n",
       "      <td>Homeless People in Families</td>\n",
       "      <td>278</td>\n",
       "    </tr>\n",
       "    <tr>\n",
       "      <th>3</th>\n",
       "      <td>1/1/2007</td>\n",
       "      <td>AK</td>\n",
       "      <td>AK-500</td>\n",
       "      <td>Anchorage CoC</td>\n",
       "      <td>Sheltered Chronically Homeless Individuals</td>\n",
       "      <td>187</td>\n",
       "    </tr>\n",
       "    <tr>\n",
       "      <th>4</th>\n",
       "      <td>1/1/2007</td>\n",
       "      <td>AK</td>\n",
       "      <td>AK-500</td>\n",
       "      <td>Anchorage CoC</td>\n",
       "      <td>Sheltered Homeless</td>\n",
       "      <td>842</td>\n",
       "    </tr>\n",
       "  </tbody>\n",
       "</table>\n",
       "</div>"
      ],
      "text/plain": [
       "       Year State CoC Number       CoC Name  \\\n",
       "0  1/1/2007    AK     AK-500  Anchorage CoC   \n",
       "1  1/1/2007    AK     AK-500  Anchorage CoC   \n",
       "2  1/1/2007    AK     AK-500  Anchorage CoC   \n",
       "3  1/1/2007    AK     AK-500  Anchorage CoC   \n",
       "4  1/1/2007    AK     AK-500  Anchorage CoC   \n",
       "\n",
       "                                     Measures Count  \n",
       "0            Chronically Homeless Individuals   224  \n",
       "1                        Homeless Individuals   696  \n",
       "2                 Homeless People in Families   278  \n",
       "3  Sheltered Chronically Homeless Individuals   187  \n",
       "4                          Sheltered Homeless   842  "
      ]
     },
     "execution_count": 1223,
     "metadata": {},
     "output_type": "execute_result"
    }
   ],
   "source": [
    "df.head()"
   ]
  },
  {
   "cell_type": "code",
   "execution_count": 1224,
   "metadata": {},
   "outputs": [
    {
     "data": {
      "text/plain": [
       "array(['Chronically Homeless Individuals', 'Homeless Individuals',\n",
       "       'Homeless People in Families',\n",
       "       'Sheltered Chronically Homeless Individuals', 'Sheltered Homeless',\n",
       "       'Sheltered Homeless Individuals',\n",
       "       'Sheltered Homeless People in Families', 'Total Homeless',\n",
       "       'Unsheltered Chronically Homeless Individuals',\n",
       "       'Unsheltered Homeless', 'Unsheltered Homeless Individuals',\n",
       "       'Unsheltered Homeless People in Families', 'Chronically Homeless',\n",
       "       'Chronically Homeless People in Families', 'Homeless Veterans',\n",
       "       'Sheltered Chronically Homeless',\n",
       "       'Sheltered Chronically Homeless People in Families',\n",
       "       'Sheltered Homeless Veterans', 'Unsheltered Chronically Homeless',\n",
       "       'Unsheltered Chronically Homeless People in Families',\n",
       "       'Unsheltered Homeless Veterans', 'Children of Parenting Youth',\n",
       "       'Homeless Unaccompanied Children (Under 18)',\n",
       "       'Homeless Unaccompanied Young Adults (Age 18-24)',\n",
       "       'Homeless Unaccompanied Youth (Under 25)',\n",
       "       'Parenting Youth (Under 25)', 'Parenting Youth Age 18-24',\n",
       "       'Parenting Youth Under 18', 'Sheltered Children of Parenting Youth',\n",
       "       'Sheltered Homeless Unaccompanied Children (Under 18)',\n",
       "       'Sheltered Homeless Unaccompanied Young Adults (Age 18-24)',\n",
       "       'Sheltered Homeless Unaccompanied Youth (Under 25)',\n",
       "       'Sheltered Parenting Youth (Under 25)',\n",
       "       'Sheltered Parenting Youth Age 18-24',\n",
       "       'Sheltered Parenting Youth Under 18',\n",
       "       'Unsheltered Children of Parenting Youth',\n",
       "       'Unsheltered Homeless Unaccompanied Children (Under 18)',\n",
       "       'Unsheltered Homeless Unaccompanied Young Adults (Age 18-24)',\n",
       "       'Unsheltered Homeless Unaccompanied Youth (Under 25)',\n",
       "       'Unsheltered Parenting Youth (Under 25)',\n",
       "       'Unsheltered Parenting Youth Age 18-24',\n",
       "       'Unsheltered Parenting Youth Under 18'], dtype=object)"
      ]
     },
     "execution_count": 1224,
     "metadata": {},
     "output_type": "execute_result"
    }
   ],
   "source": [
    "df.Measures.unique()"
   ]
  },
  {
   "cell_type": "code",
   "execution_count": 1225,
   "metadata": {},
   "outputs": [
    {
     "data": {
      "text/plain": [
       "(86529, 6)"
      ]
     },
     "execution_count": 1225,
     "metadata": {},
     "output_type": "execute_result"
    }
   ],
   "source": [
    "df.shape"
   ]
  },
  {
   "cell_type": "code",
   "execution_count": 1226,
   "metadata": {},
   "outputs": [
    {
     "data": {
      "text/plain": [
       "Year          object\n",
       "State         object\n",
       "CoC Number    object\n",
       "CoC Name      object\n",
       "Measures      object\n",
       "Count         object\n",
       "dtype: object"
      ]
     },
     "execution_count": 1226,
     "metadata": {},
     "output_type": "execute_result"
    }
   ],
   "source": [
    "df.dtypes"
   ]
  },
  {
   "cell_type": "code",
   "execution_count": 1227,
   "metadata": {},
   "outputs": [
    {
     "data": {
      "text/html": [
       "<div>\n",
       "<style>\n",
       "    .dataframe thead tr:only-child th {\n",
       "        text-align: right;\n",
       "    }\n",
       "\n",
       "    .dataframe thead th {\n",
       "        text-align: left;\n",
       "    }\n",
       "\n",
       "    .dataframe tbody tr th {\n",
       "        vertical-align: top;\n",
       "    }\n",
       "</style>\n",
       "<table border=\"1\" class=\"dataframe\">\n",
       "  <thead>\n",
       "    <tr style=\"text-align: right;\">\n",
       "      <th></th>\n",
       "      <th></th>\n",
       "      <th>Count</th>\n",
       "    </tr>\n",
       "    <tr>\n",
       "      <th>State</th>\n",
       "      <th>Year</th>\n",
       "      <th></th>\n",
       "    </tr>\n",
       "  </thead>\n",
       "  <tbody>\n",
       "    <tr>\n",
       "      <th rowspan=\"5\" valign=\"top\">AK</th>\n",
       "      <th>1/1/2007</th>\n",
       "      <td>974668</td>\n",
       "    </tr>\n",
       "    <tr>\n",
       "      <th>1/1/2008</th>\n",
       "      <td>1,023623</td>\n",
       "    </tr>\n",
       "    <tr>\n",
       "      <th>1/1/2009</th>\n",
       "      <td>1,267725</td>\n",
       "    </tr>\n",
       "    <tr>\n",
       "      <th>1/1/2010</th>\n",
       "      <td>1,231632</td>\n",
       "    </tr>\n",
       "    <tr>\n",
       "      <th>1/1/2011</th>\n",
       "      <td>1,223905</td>\n",
       "    </tr>\n",
       "  </tbody>\n",
       "</table>\n",
       "</div>"
      ],
      "text/plain": [
       "                   Count\n",
       "State Year              \n",
       "AK    1/1/2007    974668\n",
       "      1/1/2008  1,023623\n",
       "      1/1/2009  1,267725\n",
       "      1/1/2010  1,231632\n",
       "      1/1/2011  1,223905"
      ]
     },
     "execution_count": 1227,
     "metadata": {},
     "output_type": "execute_result"
    }
   ],
   "source": [
    "df[df['Measures']=='Total Homeless'].groupby(['State', 'Year'])[['Count']].sum().head()"
   ]
  },
  {
   "cell_type": "code",
   "execution_count": 1228,
   "metadata": {
    "collapsed": true
   },
   "outputs": [],
   "source": [
    "df['Count'] = df['Count'].str.replace(',', '').astype(int)"
   ]
  },
  {
   "cell_type": "code",
   "execution_count": 1229,
   "metadata": {},
   "outputs": [
    {
     "data": {
      "text/plain": [
       "Year          object\n",
       "State         object\n",
       "CoC Number    object\n",
       "CoC Name      object\n",
       "Measures      object\n",
       "Count          int64\n",
       "dtype: object"
      ]
     },
     "execution_count": 1229,
     "metadata": {},
     "output_type": "execute_result"
    }
   ],
   "source": [
    "df.dtypes"
   ]
  },
  {
   "cell_type": "code",
   "execution_count": 1230,
   "metadata": {},
   "outputs": [
    {
     "data": {
      "text/html": [
       "<div>\n",
       "<style>\n",
       "    .dataframe thead tr:only-child th {\n",
       "        text-align: right;\n",
       "    }\n",
       "\n",
       "    .dataframe thead th {\n",
       "        text-align: left;\n",
       "    }\n",
       "\n",
       "    .dataframe tbody tr th {\n",
       "        vertical-align: top;\n",
       "    }\n",
       "</style>\n",
       "<table border=\"1\" class=\"dataframe\">\n",
       "  <thead>\n",
       "    <tr style=\"text-align: right;\">\n",
       "      <th></th>\n",
       "      <th></th>\n",
       "      <th>Count</th>\n",
       "    </tr>\n",
       "    <tr>\n",
       "      <th>State</th>\n",
       "      <th>Year</th>\n",
       "      <th></th>\n",
       "    </tr>\n",
       "  </thead>\n",
       "  <tbody>\n",
       "    <tr>\n",
       "      <th rowspan=\"5\" valign=\"top\">AK</th>\n",
       "      <th>1/1/2007</th>\n",
       "      <td>1642</td>\n",
       "    </tr>\n",
       "    <tr>\n",
       "      <th>1/1/2008</th>\n",
       "      <td>1646</td>\n",
       "    </tr>\n",
       "    <tr>\n",
       "      <th>1/1/2009</th>\n",
       "      <td>1992</td>\n",
       "    </tr>\n",
       "    <tr>\n",
       "      <th>1/1/2010</th>\n",
       "      <td>1863</td>\n",
       "    </tr>\n",
       "    <tr>\n",
       "      <th>1/1/2011</th>\n",
       "      <td>2128</td>\n",
       "    </tr>\n",
       "  </tbody>\n",
       "</table>\n",
       "</div>"
      ],
      "text/plain": [
       "                Count\n",
       "State Year           \n",
       "AK    1/1/2007   1642\n",
       "      1/1/2008   1646\n",
       "      1/1/2009   1992\n",
       "      1/1/2010   1863\n",
       "      1/1/2011   2128"
      ]
     },
     "execution_count": 1230,
     "metadata": {},
     "output_type": "execute_result"
    }
   ],
   "source": [
    "df[df['Measures']=='Total Homeless'].groupby(['State', 'Year'])[['Count']].sum().head()"
   ]
  },
  {
   "cell_type": "code",
   "execution_count": 1231,
   "metadata": {},
   "outputs": [
    {
     "data": {
      "text/html": [
       "<div>\n",
       "<style>\n",
       "    .dataframe thead tr:only-child th {\n",
       "        text-align: right;\n",
       "    }\n",
       "\n",
       "    .dataframe thead th {\n",
       "        text-align: left;\n",
       "    }\n",
       "\n",
       "    .dataframe tbody tr th {\n",
       "        vertical-align: top;\n",
       "    }\n",
       "</style>\n",
       "<table border=\"1\" class=\"dataframe\">\n",
       "  <thead>\n",
       "    <tr style=\"text-align: right;\">\n",
       "      <th></th>\n",
       "      <th></th>\n",
       "      <th>Count</th>\n",
       "    </tr>\n",
       "    <tr>\n",
       "      <th>State</th>\n",
       "      <th>Year</th>\n",
       "      <th></th>\n",
       "    </tr>\n",
       "  </thead>\n",
       "  <tbody>\n",
       "    <tr>\n",
       "      <th rowspan=\"5\" valign=\"top\">AK</th>\n",
       "      <th>1/1/2007</th>\n",
       "      <td>1642</td>\n",
       "    </tr>\n",
       "    <tr>\n",
       "      <th>1/1/2008</th>\n",
       "      <td>1646</td>\n",
       "    </tr>\n",
       "    <tr>\n",
       "      <th>1/1/2009</th>\n",
       "      <td>1992</td>\n",
       "    </tr>\n",
       "    <tr>\n",
       "      <th>1/1/2010</th>\n",
       "      <td>1863</td>\n",
       "    </tr>\n",
       "    <tr>\n",
       "      <th>1/1/2011</th>\n",
       "      <td>2128</td>\n",
       "    </tr>\n",
       "  </tbody>\n",
       "</table>\n",
       "</div>"
      ],
      "text/plain": [
       "                Count\n",
       "State Year           \n",
       "AK    1/1/2007   1642\n",
       "      1/1/2008   1646\n",
       "      1/1/2009   1992\n",
       "      1/1/2010   1863\n",
       "      1/1/2011   2128"
      ]
     },
     "execution_count": 1231,
     "metadata": {},
     "output_type": "execute_result"
    }
   ],
   "source": [
    "df[df['Measures']=='Total Homeless'].groupby(['State', 'Year'])[['Count']].sum().head()"
   ]
  },
  {
   "cell_type": "code",
   "execution_count": 1232,
   "metadata": {
    "collapsed": true
   },
   "outputs": [],
   "source": [
    "import re"
   ]
  },
  {
   "cell_type": "code",
   "execution_count": 1233,
   "metadata": {},
   "outputs": [
    {
     "name": "stderr",
     "output_type": "stream",
     "text": [
      "/usr/local/lib/python3.6/site-packages/ipykernel_launcher.py:1: FutureWarning: currently extract(expand=None) means expand=False (return Index/Series/DataFrame) but in a future version of pandas this will be changed to expand=True (return DataFrame)\n",
      "  \"\"\"Entry point for launching an IPython kernel.\n"
     ]
    }
   ],
   "source": [
    "df['Year'] = df['Year'].str.extract('\\d{1,2}/\\d{1,2}/(\\d{2,4})')"
   ]
  },
  {
   "cell_type": "code",
   "execution_count": 1234,
   "metadata": {},
   "outputs": [
    {
     "data": {
      "text/html": [
       "<div>\n",
       "<style>\n",
       "    .dataframe thead tr:only-child th {\n",
       "        text-align: right;\n",
       "    }\n",
       "\n",
       "    .dataframe thead th {\n",
       "        text-align: left;\n",
       "    }\n",
       "\n",
       "    .dataframe tbody tr th {\n",
       "        vertical-align: top;\n",
       "    }\n",
       "</style>\n",
       "<table border=\"1\" class=\"dataframe\">\n",
       "  <thead>\n",
       "    <tr style=\"text-align: right;\">\n",
       "      <th></th>\n",
       "      <th>Year</th>\n",
       "      <th>State</th>\n",
       "      <th>CoC Number</th>\n",
       "      <th>CoC Name</th>\n",
       "      <th>Measures</th>\n",
       "      <th>Count</th>\n",
       "    </tr>\n",
       "  </thead>\n",
       "  <tbody>\n",
       "    <tr>\n",
       "      <th>0</th>\n",
       "      <td>2007</td>\n",
       "      <td>AK</td>\n",
       "      <td>AK-500</td>\n",
       "      <td>Anchorage CoC</td>\n",
       "      <td>Chronically Homeless Individuals</td>\n",
       "      <td>224</td>\n",
       "    </tr>\n",
       "    <tr>\n",
       "      <th>1</th>\n",
       "      <td>2007</td>\n",
       "      <td>AK</td>\n",
       "      <td>AK-500</td>\n",
       "      <td>Anchorage CoC</td>\n",
       "      <td>Homeless Individuals</td>\n",
       "      <td>696</td>\n",
       "    </tr>\n",
       "    <tr>\n",
       "      <th>2</th>\n",
       "      <td>2007</td>\n",
       "      <td>AK</td>\n",
       "      <td>AK-500</td>\n",
       "      <td>Anchorage CoC</td>\n",
       "      <td>Homeless People in Families</td>\n",
       "      <td>278</td>\n",
       "    </tr>\n",
       "    <tr>\n",
       "      <th>3</th>\n",
       "      <td>2007</td>\n",
       "      <td>AK</td>\n",
       "      <td>AK-500</td>\n",
       "      <td>Anchorage CoC</td>\n",
       "      <td>Sheltered Chronically Homeless Individuals</td>\n",
       "      <td>187</td>\n",
       "    </tr>\n",
       "    <tr>\n",
       "      <th>4</th>\n",
       "      <td>2007</td>\n",
       "      <td>AK</td>\n",
       "      <td>AK-500</td>\n",
       "      <td>Anchorage CoC</td>\n",
       "      <td>Sheltered Homeless</td>\n",
       "      <td>842</td>\n",
       "    </tr>\n",
       "  </tbody>\n",
       "</table>\n",
       "</div>"
      ],
      "text/plain": [
       "   Year State CoC Number       CoC Name  \\\n",
       "0  2007    AK     AK-500  Anchorage CoC   \n",
       "1  2007    AK     AK-500  Anchorage CoC   \n",
       "2  2007    AK     AK-500  Anchorage CoC   \n",
       "3  2007    AK     AK-500  Anchorage CoC   \n",
       "4  2007    AK     AK-500  Anchorage CoC   \n",
       "\n",
       "                                     Measures  Count  \n",
       "0            Chronically Homeless Individuals    224  \n",
       "1                        Homeless Individuals    696  \n",
       "2                 Homeless People in Families    278  \n",
       "3  Sheltered Chronically Homeless Individuals    187  \n",
       "4                          Sheltered Homeless    842  "
      ]
     },
     "execution_count": 1234,
     "metadata": {},
     "output_type": "execute_result"
    }
   ],
   "source": [
    "df.head()"
   ]
  },
  {
   "cell_type": "code",
   "execution_count": 1235,
   "metadata": {
    "collapsed": true
   },
   "outputs": [],
   "source": [
    "df.drop(['CoC Number','CoC Name'], axis=1, inplace=True)"
   ]
  },
  {
   "cell_type": "code",
   "execution_count": 1236,
   "metadata": {},
   "outputs": [
    {
     "data": {
      "text/html": [
       "<div>\n",
       "<style>\n",
       "    .dataframe thead tr:only-child th {\n",
       "        text-align: right;\n",
       "    }\n",
       "\n",
       "    .dataframe thead th {\n",
       "        text-align: left;\n",
       "    }\n",
       "\n",
       "    .dataframe tbody tr th {\n",
       "        vertical-align: top;\n",
       "    }\n",
       "</style>\n",
       "<table border=\"1\" class=\"dataframe\">\n",
       "  <thead>\n",
       "    <tr style=\"text-align: right;\">\n",
       "      <th></th>\n",
       "      <th>Year</th>\n",
       "      <th>State</th>\n",
       "      <th>Measures</th>\n",
       "      <th>Count</th>\n",
       "    </tr>\n",
       "  </thead>\n",
       "  <tbody>\n",
       "    <tr>\n",
       "      <th>0</th>\n",
       "      <td>2007</td>\n",
       "      <td>AK</td>\n",
       "      <td>Chronically Homeless Individuals</td>\n",
       "      <td>224</td>\n",
       "    </tr>\n",
       "    <tr>\n",
       "      <th>1</th>\n",
       "      <td>2007</td>\n",
       "      <td>AK</td>\n",
       "      <td>Homeless Individuals</td>\n",
       "      <td>696</td>\n",
       "    </tr>\n",
       "    <tr>\n",
       "      <th>2</th>\n",
       "      <td>2007</td>\n",
       "      <td>AK</td>\n",
       "      <td>Homeless People in Families</td>\n",
       "      <td>278</td>\n",
       "    </tr>\n",
       "    <tr>\n",
       "      <th>3</th>\n",
       "      <td>2007</td>\n",
       "      <td>AK</td>\n",
       "      <td>Sheltered Chronically Homeless Individuals</td>\n",
       "      <td>187</td>\n",
       "    </tr>\n",
       "    <tr>\n",
       "      <th>4</th>\n",
       "      <td>2007</td>\n",
       "      <td>AK</td>\n",
       "      <td>Sheltered Homeless</td>\n",
       "      <td>842</td>\n",
       "    </tr>\n",
       "  </tbody>\n",
       "</table>\n",
       "</div>"
      ],
      "text/plain": [
       "   Year State                                    Measures  Count\n",
       "0  2007    AK            Chronically Homeless Individuals    224\n",
       "1  2007    AK                        Homeless Individuals    696\n",
       "2  2007    AK                 Homeless People in Families    278\n",
       "3  2007    AK  Sheltered Chronically Homeless Individuals    187\n",
       "4  2007    AK                          Sheltered Homeless    842"
      ]
     },
     "execution_count": 1236,
     "metadata": {},
     "output_type": "execute_result"
    }
   ],
   "source": [
    "df.head()"
   ]
  },
  {
   "cell_type": "code",
   "execution_count": 1237,
   "metadata": {},
   "outputs": [
    {
     "data": {
      "text/plain": [
       "Measures\n",
       "Total Homeless                 6081137\n",
       "Sheltered Homeless             3927844\n",
       "Homeless Individuals           3816262\n",
       "Homeless People in Families    2264875\n",
       "Unsheltered Homeless           2153293\n",
       "Name: Count, dtype: int64"
      ]
     },
     "execution_count": 1237,
     "metadata": {},
     "output_type": "execute_result"
    }
   ],
   "source": [
    "df.groupby('Measures')['Count'].sum().sort_values(ascending=False).head()"
   ]
  },
  {
   "cell_type": "code",
   "execution_count": 1238,
   "metadata": {},
   "outputs": [
    {
     "data": {
      "text/plain": [
       "<matplotlib.axes._subplots.AxesSubplot at 0x150827128>"
      ]
     },
     "execution_count": 1238,
     "metadata": {},
     "output_type": "execute_result"
    },
    {
     "data": {
      "image/png": "[encoded data removed]",
      "text/plain": [
       "<matplotlib.figure.Figure at 0x15082d550>"
      ]
     },
     "metadata": {},
     "output_type": "display_data"
    }
   ],
   "source": [
    "df.groupby('Measures')['Count'].sum().sort_values(ascending=True).plot(kind='barh', )"
   ]
  },
  {
   "cell_type": "code",
   "execution_count": 1239,
   "metadata": {
    "scrolled": true
   },
   "outputs": [
    {
     "data": {
      "image/png": "[encoded data removed]",
      "text/plain": [
       "<matplotlib.figure.Figure at 0x1507547b8>"
      ]
     },
     "metadata": {},
     "output_type": "display_data"
    }
   ],
   "source": [
    "ax = df.groupby('Measures')['Count'].sum().sort_values(ascending=False).plot(kind='bar',figsize=(10,10))\n",
    "ax.set_title(\"Homeless people in the US from 2007 to 2016\")\n",
    "ax.set_xlabel(\"Category\")\n",
    "\n",
    "plt.savefig(\"homeless_category.pdf\")"
   ]
  },
  {
   "cell_type": "code",
   "execution_count": 1240,
   "metadata": {},
   "outputs": [
    {
     "data": {
      "text/html": [
       "<div>\n",
       "<style>\n",
       "    .dataframe thead tr:only-child th {\n",
       "        text-align: right;\n",
       "    }\n",
       "\n",
       "    .dataframe thead th {\n",
       "        text-align: left;\n",
       "    }\n",
       "\n",
       "    .dataframe tbody tr th {\n",
       "        vertical-align: top;\n",
       "    }\n",
       "</style>\n",
       "<table border=\"1\" class=\"dataframe\">\n",
       "  <thead>\n",
       "    <tr style=\"text-align: right;\">\n",
       "      <th></th>\n",
       "      <th>Year</th>\n",
       "      <th>State</th>\n",
       "      <th>Measures</th>\n",
       "      <th>Count</th>\n",
       "    </tr>\n",
       "  </thead>\n",
       "  <tbody>\n",
       "    <tr>\n",
       "      <th>4</th>\n",
       "      <td>2007</td>\n",
       "      <td>AK</td>\n",
       "      <td>Sheltered Homeless</td>\n",
       "      <td>842</td>\n",
       "    </tr>\n",
       "    <tr>\n",
       "      <th>16</th>\n",
       "      <td>2007</td>\n",
       "      <td>AK</td>\n",
       "      <td>Sheltered Homeless</td>\n",
       "      <td>545</td>\n",
       "    </tr>\n",
       "    <tr>\n",
       "      <th>28</th>\n",
       "      <td>2007</td>\n",
       "      <td>AL</td>\n",
       "      <td>Sheltered Homeless</td>\n",
       "      <td>1240</td>\n",
       "    </tr>\n",
       "    <tr>\n",
       "      <th>40</th>\n",
       "      <td>2007</td>\n",
       "      <td>AL</td>\n",
       "      <td>Sheltered Homeless</td>\n",
       "      <td>410</td>\n",
       "    </tr>\n",
       "    <tr>\n",
       "      <th>52</th>\n",
       "      <td>2007</td>\n",
       "      <td>AL</td>\n",
       "      <td>Sheltered Homeless</td>\n",
       "      <td>131</td>\n",
       "    </tr>\n",
       "  </tbody>\n",
       "</table>\n",
       "</div>"
      ],
      "text/plain": [
       "    Year State            Measures  Count\n",
       "4   2007    AK  Sheltered Homeless    842\n",
       "16  2007    AK  Sheltered Homeless    545\n",
       "28  2007    AL  Sheltered Homeless   1240\n",
       "40  2007    AL  Sheltered Homeless    410\n",
       "52  2007    AL  Sheltered Homeless    131"
      ]
     },
     "execution_count": 1240,
     "metadata": {},
     "output_type": "execute_result"
    }
   ],
   "source": [
    "shel = df[df['Measures'] == 'Sheltered Homeless'] \n",
    "shel.head()"
   ]
  },
  {
   "cell_type": "code",
   "execution_count": 1241,
   "metadata": {},
   "outputs": [
    {
     "data": {
      "text/html": [
       "<div>\n",
       "<style>\n",
       "    .dataframe thead tr:only-child th {\n",
       "        text-align: right;\n",
       "    }\n",
       "\n",
       "    .dataframe thead th {\n",
       "        text-align: left;\n",
       "    }\n",
       "\n",
       "    .dataframe tbody tr th {\n",
       "        vertical-align: top;\n",
       "    }\n",
       "</style>\n",
       "<table border=\"1\" class=\"dataframe\">\n",
       "  <thead>\n",
       "    <tr style=\"text-align: right;\">\n",
       "      <th></th>\n",
       "      <th>Year</th>\n",
       "      <th>State</th>\n",
       "      <th>Measures</th>\n",
       "      <th>Count</th>\n",
       "    </tr>\n",
       "  </thead>\n",
       "  <tbody>\n",
       "    <tr>\n",
       "      <th>9</th>\n",
       "      <td>2007</td>\n",
       "      <td>AK</td>\n",
       "      <td>Unsheltered Homeless</td>\n",
       "      <td>132</td>\n",
       "    </tr>\n",
       "    <tr>\n",
       "      <th>21</th>\n",
       "      <td>2007</td>\n",
       "      <td>AK</td>\n",
       "      <td>Unsheltered Homeless</td>\n",
       "      <td>123</td>\n",
       "    </tr>\n",
       "    <tr>\n",
       "      <th>33</th>\n",
       "      <td>2007</td>\n",
       "      <td>AL</td>\n",
       "      <td>Unsheltered Homeless</td>\n",
       "      <td>864</td>\n",
       "    </tr>\n",
       "    <tr>\n",
       "      <th>45</th>\n",
       "      <td>2007</td>\n",
       "      <td>AL</td>\n",
       "      <td>Unsheltered Homeless</td>\n",
       "      <td>239</td>\n",
       "    </tr>\n",
       "    <tr>\n",
       "      <th>57</th>\n",
       "      <td>2007</td>\n",
       "      <td>AL</td>\n",
       "      <td>Unsheltered Homeless</td>\n",
       "      <td>134</td>\n",
       "    </tr>\n",
       "  </tbody>\n",
       "</table>\n",
       "</div>"
      ],
      "text/plain": [
       "    Year State              Measures  Count\n",
       "9   2007    AK  Unsheltered Homeless    132\n",
       "21  2007    AK  Unsheltered Homeless    123\n",
       "33  2007    AL  Unsheltered Homeless    864\n",
       "45  2007    AL  Unsheltered Homeless    239\n",
       "57  2007    AL  Unsheltered Homeless    134"
      ]
     },
     "execution_count": 1241,
     "metadata": {},
     "output_type": "execute_result"
    }
   ],
   "source": [
    "unshel = df[df['Measures'] == 'Unsheltered Homeless']\n",
    "unshel.head()"
   ]
  },
  {
   "cell_type": "code",
   "execution_count": 1242,
   "metadata": {},
   "outputs": [
    {
     "data": {
      "text/plain": [
       "3927844"
      ]
     },
     "execution_count": 1242,
     "metadata": {},
     "output_type": "execute_result"
    }
   ],
   "source": [
    "shel.Count.sum()"
   ]
  },
  {
   "cell_type": "code",
   "execution_count": 1243,
   "metadata": {},
   "outputs": [
    {
     "data": {
      "text/plain": [
       "2153293"
      ]
     },
     "execution_count": 1243,
     "metadata": {},
     "output_type": "execute_result"
    }
   ],
   "source": [
    "unshel.Count.sum()"
   ]
  },
  {
   "cell_type": "code",
   "execution_count": 1244,
   "metadata": {},
   "outputs": [
    {
     "data": {
      "text/plain": [
       "6081137"
      ]
     },
     "execution_count": 1244,
     "metadata": {},
     "output_type": "execute_result"
    }
   ],
   "source": [
    "#just checking that the number is correct with the result \n",
    "3927844 + 2153293"
   ]
  },
  {
   "cell_type": "code",
   "execution_count": 1245,
   "metadata": {},
   "outputs": [
    {
     "data": {
      "text/html": [
       "<div>\n",
       "<style>\n",
       "    .dataframe thead tr:only-child th {\n",
       "        text-align: right;\n",
       "    }\n",
       "\n",
       "    .dataframe thead th {\n",
       "        text-align: left;\n",
       "    }\n",
       "\n",
       "    .dataframe tbody tr th {\n",
       "        vertical-align: top;\n",
       "    }\n",
       "</style>\n",
       "<table border=\"1\" class=\"dataframe\">\n",
       "  <thead>\n",
       "    <tr style=\"text-align: right;\">\n",
       "      <th></th>\n",
       "      <th>Year</th>\n",
       "      <th>State</th>\n",
       "      <th>Measures</th>\n",
       "      <th>Count</th>\n",
       "    </tr>\n",
       "  </thead>\n",
       "  <tbody>\n",
       "    <tr>\n",
       "      <th>52754</th>\n",
       "      <td>2015</td>\n",
       "      <td>AK</td>\n",
       "      <td>Unsheltered Homeless Unaccompanied Children (U...</td>\n",
       "      <td>3</td>\n",
       "    </tr>\n",
       "    <tr>\n",
       "      <th>52796</th>\n",
       "      <td>2015</td>\n",
       "      <td>AK</td>\n",
       "      <td>Unsheltered Homeless Unaccompanied Children (U...</td>\n",
       "      <td>3</td>\n",
       "    </tr>\n",
       "    <tr>\n",
       "      <th>52838</th>\n",
       "      <td>2015</td>\n",
       "      <td>AL</td>\n",
       "      <td>Unsheltered Homeless Unaccompanied Children (U...</td>\n",
       "      <td>0</td>\n",
       "    </tr>\n",
       "    <tr>\n",
       "      <th>52880</th>\n",
       "      <td>2015</td>\n",
       "      <td>AL</td>\n",
       "      <td>Unsheltered Homeless Unaccompanied Children (U...</td>\n",
       "      <td>0</td>\n",
       "    </tr>\n",
       "    <tr>\n",
       "      <th>52922</th>\n",
       "      <td>2015</td>\n",
       "      <td>AL</td>\n",
       "      <td>Unsheltered Homeless Unaccompanied Children (U...</td>\n",
       "      <td>0</td>\n",
       "    </tr>\n",
       "  </tbody>\n",
       "</table>\n",
       "</div>"
      ],
      "text/plain": [
       "       Year State                                           Measures  Count\n",
       "52754  2015    AK  Unsheltered Homeless Unaccompanied Children (U...      3\n",
       "52796  2015    AK  Unsheltered Homeless Unaccompanied Children (U...      3\n",
       "52838  2015    AL  Unsheltered Homeless Unaccompanied Children (U...      0\n",
       "52880  2015    AL  Unsheltered Homeless Unaccompanied Children (U...      0\n",
       "52922  2015    AL  Unsheltered Homeless Unaccompanied Children (U...      0"
      ]
     },
     "execution_count": 1245,
     "metadata": {},
     "output_type": "execute_result"
    }
   ],
   "source": [
    "unshel_kids = df[df['Measures'] == 'Unsheltered Homeless Unaccompanied Children (Under 18)']\n",
    "unshel_kids.head()"
   ]
  },
  {
   "cell_type": "code",
   "execution_count": 1246,
   "metadata": {},
   "outputs": [
    {
     "data": {
      "text/html": [
       "<div>\n",
       "<style>\n",
       "    .dataframe thead tr:only-child th {\n",
       "        text-align: right;\n",
       "    }\n",
       "\n",
       "    .dataframe thead th {\n",
       "        text-align: left;\n",
       "    }\n",
       "\n",
       "    .dataframe tbody tr th {\n",
       "        vertical-align: top;\n",
       "    }\n",
       "</style>\n",
       "<table border=\"1\" class=\"dataframe\">\n",
       "  <thead>\n",
       "    <tr style=\"text-align: right;\">\n",
       "      <th></th>\n",
       "      <th>Year</th>\n",
       "      <th>State</th>\n",
       "      <th>Measures</th>\n",
       "      <th>Count</th>\n",
       "    </tr>\n",
       "  </thead>\n",
       "  <tbody>\n",
       "    <tr>\n",
       "      <th>52739</th>\n",
       "      <td>2015</td>\n",
       "      <td>AK</td>\n",
       "      <td>Sheltered Homeless Unaccompanied Children (Und...</td>\n",
       "      <td>9</td>\n",
       "    </tr>\n",
       "    <tr>\n",
       "      <th>52781</th>\n",
       "      <td>2015</td>\n",
       "      <td>AK</td>\n",
       "      <td>Sheltered Homeless Unaccompanied Children (Und...</td>\n",
       "      <td>9</td>\n",
       "    </tr>\n",
       "    <tr>\n",
       "      <th>52823</th>\n",
       "      <td>2015</td>\n",
       "      <td>AL</td>\n",
       "      <td>Sheltered Homeless Unaccompanied Children (Und...</td>\n",
       "      <td>9</td>\n",
       "    </tr>\n",
       "    <tr>\n",
       "      <th>52865</th>\n",
       "      <td>2015</td>\n",
       "      <td>AL</td>\n",
       "      <td>Sheltered Homeless Unaccompanied Children (Und...</td>\n",
       "      <td>1</td>\n",
       "    </tr>\n",
       "    <tr>\n",
       "      <th>52907</th>\n",
       "      <td>2015</td>\n",
       "      <td>AL</td>\n",
       "      <td>Sheltered Homeless Unaccompanied Children (Und...</td>\n",
       "      <td>0</td>\n",
       "    </tr>\n",
       "  </tbody>\n",
       "</table>\n",
       "</div>"
      ],
      "text/plain": [
       "       Year State                                           Measures  Count\n",
       "52739  2015    AK  Sheltered Homeless Unaccompanied Children (Und...      9\n",
       "52781  2015    AK  Sheltered Homeless Unaccompanied Children (Und...      9\n",
       "52823  2015    AL  Sheltered Homeless Unaccompanied Children (Und...      9\n",
       "52865  2015    AL  Sheltered Homeless Unaccompanied Children (Und...      1\n",
       "52907  2015    AL  Sheltered Homeless Unaccompanied Children (Und...      0"
      ]
     },
     "execution_count": 1246,
     "metadata": {},
     "output_type": "execute_result"
    }
   ],
   "source": [
    "shel_kids = df[df['Measures'] == 'Sheltered Homeless Unaccompanied Children (Under 18)']\n",
    "shel_kids.head()"
   ]
  },
  {
   "cell_type": "code",
   "execution_count": 1247,
   "metadata": {},
   "outputs": [
    {
     "data": {
      "text/html": [
       "<div>\n",
       "<style>\n",
       "    .dataframe thead tr:only-child th {\n",
       "        text-align: right;\n",
       "    }\n",
       "\n",
       "    .dataframe thead th {\n",
       "        text-align: left;\n",
       "    }\n",
       "\n",
       "    .dataframe tbody tr th {\n",
       "        vertical-align: top;\n",
       "    }\n",
       "</style>\n",
       "<table border=\"1\" class=\"dataframe\">\n",
       "  <thead>\n",
       "    <tr style=\"text-align: right;\">\n",
       "      <th></th>\n",
       "      <th>Year</th>\n",
       "      <th>State</th>\n",
       "      <th>Measures</th>\n",
       "      <th>Count</th>\n",
       "    </tr>\n",
       "  </thead>\n",
       "  <tbody>\n",
       "    <tr>\n",
       "      <th>0</th>\n",
       "      <td>2015</td>\n",
       "      <td>AK</td>\n",
       "      <td>Sheltered Homeless Unaccompanied Children (Und...</td>\n",
       "      <td>9</td>\n",
       "    </tr>\n",
       "    <tr>\n",
       "      <th>1</th>\n",
       "      <td>2015</td>\n",
       "      <td>AK</td>\n",
       "      <td>Sheltered Homeless Unaccompanied Children (Und...</td>\n",
       "      <td>9</td>\n",
       "    </tr>\n",
       "    <tr>\n",
       "      <th>2</th>\n",
       "      <td>2015</td>\n",
       "      <td>AL</td>\n",
       "      <td>Sheltered Homeless Unaccompanied Children (Und...</td>\n",
       "      <td>9</td>\n",
       "    </tr>\n",
       "    <tr>\n",
       "      <th>3</th>\n",
       "      <td>2015</td>\n",
       "      <td>AL</td>\n",
       "      <td>Sheltered Homeless Unaccompanied Children (Und...</td>\n",
       "      <td>1</td>\n",
       "    </tr>\n",
       "    <tr>\n",
       "      <th>4</th>\n",
       "      <td>2015</td>\n",
       "      <td>AL</td>\n",
       "      <td>Sheltered Homeless Unaccompanied Children (Und...</td>\n",
       "      <td>0</td>\n",
       "    </tr>\n",
       "  </tbody>\n",
       "</table>\n",
       "</div>"
      ],
      "text/plain": [
       "   Year State                                           Measures  Count\n",
       "0  2015    AK  Sheltered Homeless Unaccompanied Children (Und...      9\n",
       "1  2015    AK  Sheltered Homeless Unaccompanied Children (Und...      9\n",
       "2  2015    AL  Sheltered Homeless Unaccompanied Children (Und...      9\n",
       "3  2015    AL  Sheltered Homeless Unaccompanied Children (Und...      1\n",
       "4  2015    AL  Sheltered Homeless Unaccompanied Children (Und...      0"
      ]
     },
     "execution_count": 1247,
     "metadata": {},
     "output_type": "execute_result"
    }
   ],
   "source": [
    "df_kids = pd.concat([shel_kids, unshel_kids], ignore_index=True)\n",
    "df_kids.head()"
   ]
  },
  {
   "cell_type": "code",
   "execution_count": 1248,
   "metadata": {},
   "outputs": [
    {
     "data": {
      "text/plain": [
       "<matplotlib.axes._subplots.AxesSubplot at 0x15347d358>"
      ]
     },
     "execution_count": 1248,
     "metadata": {},
     "output_type": "execute_result"
    },
    {
     "data": {
      "image/png": "[encoded data removed]",
      "text/plain": [
       "<matplotlib.figure.Figure at 0x153865240>"
      ]
     },
     "metadata": {},
     "output_type": "display_data"
    }
   ],
   "source": [
    "#Sheltered VS Unsheltered kids\n",
    "df_kids.groupby(['Year', 'Measures'])['Count'].sum().unstack().plot.bar(stacked=True, title='Total Homeless in the USA', legend= True, colormap='Set3', figsize=(10,10))"
   ]
  },
  {
   "cell_type": "code",
   "execution_count": 1249,
   "metadata": {},
   "outputs": [
    {
     "data": {
      "text/html": [
       "<div>\n",
       "<style>\n",
       "    .dataframe thead tr:only-child th {\n",
       "        text-align: right;\n",
       "    }\n",
       "\n",
       "    .dataframe thead th {\n",
       "        text-align: left;\n",
       "    }\n",
       "\n",
       "    .dataframe tbody tr th {\n",
       "        vertical-align: top;\n",
       "    }\n",
       "</style>\n",
       "<table border=\"1\" class=\"dataframe\">\n",
       "  <thead>\n",
       "    <tr style=\"text-align: right;\">\n",
       "      <th></th>\n",
       "      <th>Year</th>\n",
       "      <th>State</th>\n",
       "      <th>Measures</th>\n",
       "      <th>Count</th>\n",
       "    </tr>\n",
       "  </thead>\n",
       "  <tbody>\n",
       "    <tr>\n",
       "      <th>0</th>\n",
       "      <td>2007</td>\n",
       "      <td>AK</td>\n",
       "      <td>Sheltered Homeless</td>\n",
       "      <td>842</td>\n",
       "    </tr>\n",
       "    <tr>\n",
       "      <th>1</th>\n",
       "      <td>2007</td>\n",
       "      <td>AK</td>\n",
       "      <td>Sheltered Homeless</td>\n",
       "      <td>545</td>\n",
       "    </tr>\n",
       "    <tr>\n",
       "      <th>2</th>\n",
       "      <td>2007</td>\n",
       "      <td>AL</td>\n",
       "      <td>Sheltered Homeless</td>\n",
       "      <td>1240</td>\n",
       "    </tr>\n",
       "    <tr>\n",
       "      <th>3</th>\n",
       "      <td>2007</td>\n",
       "      <td>AL</td>\n",
       "      <td>Sheltered Homeless</td>\n",
       "      <td>410</td>\n",
       "    </tr>\n",
       "    <tr>\n",
       "      <th>4</th>\n",
       "      <td>2007</td>\n",
       "      <td>AL</td>\n",
       "      <td>Sheltered Homeless</td>\n",
       "      <td>131</td>\n",
       "    </tr>\n",
       "  </tbody>\n",
       "</table>\n",
       "</div>"
      ],
      "text/plain": [
       "   Year State            Measures  Count\n",
       "0  2007    AK  Sheltered Homeless    842\n",
       "1  2007    AK  Sheltered Homeless    545\n",
       "2  2007    AL  Sheltered Homeless   1240\n",
       "3  2007    AL  Sheltered Homeless    410\n",
       "4  2007    AL  Sheltered Homeless    131"
      ]
     },
     "execution_count": 1249,
     "metadata": {},
     "output_type": "execute_result"
    }
   ],
   "source": [
    "df_new = pd.concat([shel, unshel], ignore_index=True)\n",
    "df_new.head()"
   ]
  },
  {
   "cell_type": "code",
   "execution_count": 1250,
   "metadata": {},
   "outputs": [],
   "source": [
    "#sns.barplot(x=\"Measures\", y=\"Count\", data=df)"
   ]
  },
  {
   "cell_type": "code",
   "execution_count": 1251,
   "metadata": {},
   "outputs": [],
   "source": [
    "#plt.rcParams['figure.figsize']=(10,10)\n",
    "#sns.barplot(x=\"Count\", y=\"Measures\", data=df)"
   ]
  },
  {
   "cell_type": "code",
   "execution_count": 1252,
   "metadata": {},
   "outputs": [
    {
     "data": {
      "text/plain": [
       "Year\n",
       "2007    647258\n",
       "2008    639784\n",
       "2009    630227\n",
       "2010    637077\n",
       "2011    623788\n",
       "2012    621553\n",
       "2013    590364\n",
       "2014    576450\n",
       "2015    564708\n",
       "2016    549928\n",
       "Name: Count, dtype: int64"
      ]
     },
     "execution_count": 1252,
     "metadata": {},
     "output_type": "execute_result"
    }
   ],
   "source": [
    "df_new.groupby('Year')['Count'].sum()"
   ]
  },
  {
   "cell_type": "code",
   "execution_count": 1253,
   "metadata": {},
   "outputs": [
    {
     "data": {
      "image/png": "[encoded data removed]",
      "text/plain": [
       "<matplotlib.figure.Figure at 0x151625630>"
      ]
     },
     "metadata": {},
     "output_type": "display_data"
    }
   ],
   "source": [
    "df_new.groupby('Year')['Count'].sum().plot()\n",
    "\n",
    "plt.savefig(\"homeless_diff.pdf\")"
   ]
  },
  {
   "cell_type": "code",
   "execution_count": 1313,
   "metadata": {},
   "outputs": [
    {
     "data": {
      "image/png": "[encoded data removed]",
      "text/plain": [
       "<matplotlib.figure.Figure at 0x164688908>"
      ]
     },
     "metadata": {},
     "output_type": "display_data"
    }
   ],
   "source": [
    "df_new[df_new['State'] == 'NY'].groupby('Year')['Count'].sum().plot()\n",
    "\n",
    "plt.savefig(\"ny_diff.pdf\")"
   ]
  },
  {
   "cell_type": "code",
   "execution_count": 1305,
   "metadata": {
    "scrolled": true
   },
   "outputs": [
    {
     "data": {
      "image/png": "[encoded data removed]",
      "text/plain": [
       "<matplotlib.figure.Figure at 0x162201cc0>"
      ]
     },
     "metadata": {},
     "output_type": "display_data"
    }
   ],
   "source": [
    "#Sheltered VS Unsheltered \n",
    "df_new.groupby(['Year', 'Measures'])['Count'].sum().unstack().plot.bar(stacked=True, \n",
    "    title='Total Homeless in the USA since 2007', legend= True, colormap='Set3', figsize=(10,10))\n",
    "\n",
    "plt.savefig(\"total.pdf\")"
   ]
  },
  {
   "cell_type": "code",
   "execution_count": 1256,
   "metadata": {},
   "outputs": [
    {
     "data": {
      "text/html": [
       "<div>\n",
       "<style>\n",
       "    .dataframe thead tr:only-child th {\n",
       "        text-align: right;\n",
       "    }\n",
       "\n",
       "    .dataframe thead th {\n",
       "        text-align: left;\n",
       "    }\n",
       "\n",
       "    .dataframe tbody tr th {\n",
       "        vertical-align: top;\n",
       "    }\n",
       "</style>\n",
       "<table border=\"1\" class=\"dataframe\">\n",
       "  <thead>\n",
       "    <tr style=\"text-align: right;\">\n",
       "      <th></th>\n",
       "      <th>State</th>\n",
       "      <th>2010</th>\n",
       "      <th>2011</th>\n",
       "      <th>2012</th>\n",
       "      <th>2013</th>\n",
       "      <th>2014</th>\n",
       "      <th>2015</th>\n",
       "      <th>2016</th>\n",
       "    </tr>\n",
       "  </thead>\n",
       "  <tbody>\n",
       "    <tr>\n",
       "      <th>0</th>\n",
       "      <td>Alabama</td>\n",
       "      <td>4,785,492</td>\n",
       "      <td>4,799,918</td>\n",
       "      <td>4,815,960</td>\n",
       "      <td>4,829,479</td>\n",
       "      <td>4,843,214</td>\n",
       "      <td>4,853,875</td>\n",
       "      <td>4,863,300</td>\n",
       "    </tr>\n",
       "    <tr>\n",
       "      <th>1</th>\n",
       "      <td>Alaska</td>\n",
       "      <td>714,031</td>\n",
       "      <td>722,713</td>\n",
       "      <td>731,089</td>\n",
       "      <td>736,879</td>\n",
       "      <td>736,705</td>\n",
       "      <td>737,709</td>\n",
       "      <td>741,894</td>\n",
       "    </tr>\n",
       "    <tr>\n",
       "      <th>2</th>\n",
       "      <td>Arizona</td>\n",
       "      <td>6,408,312</td>\n",
       "      <td>6,467,163</td>\n",
       "      <td>6,549,634</td>\n",
       "      <td>6,624,617</td>\n",
       "      <td>6,719,993</td>\n",
       "      <td>6,817,565</td>\n",
       "      <td>6,931,071</td>\n",
       "    </tr>\n",
       "    <tr>\n",
       "      <th>3</th>\n",
       "      <td>Arkansas</td>\n",
       "      <td>2,921,995</td>\n",
       "      <td>2,939,493</td>\n",
       "      <td>2,950,685</td>\n",
       "      <td>2,958,663</td>\n",
       "      <td>2,966,912</td>\n",
       "      <td>2,977,853</td>\n",
       "      <td>2,988,248</td>\n",
       "    </tr>\n",
       "    <tr>\n",
       "      <th>4</th>\n",
       "      <td>California</td>\n",
       "      <td>37,332,685</td>\n",
       "      <td>37,676,861</td>\n",
       "      <td>38,011,074</td>\n",
       "      <td>38,335,203</td>\n",
       "      <td>38,680,810</td>\n",
       "      <td>38,993,940</td>\n",
       "      <td>39,250,017</td>\n",
       "    </tr>\n",
       "  </tbody>\n",
       "</table>\n",
       "</div>"
      ],
      "text/plain": [
       "        State        2010        2011        2012        2013        2014  \\\n",
       "0     Alabama   4,785,492   4,799,918   4,815,960   4,829,479   4,843,214   \n",
       "1      Alaska     714,031     722,713     731,089     736,879     736,705   \n",
       "2     Arizona   6,408,312   6,467,163   6,549,634   6,624,617   6,719,993   \n",
       "3    Arkansas   2,921,995   2,939,493   2,950,685   2,958,663   2,966,912   \n",
       "4  California  37,332,685  37,676,861  38,011,074  38,335,203  38,680,810   \n",
       "\n",
       "         2015        2016  \n",
       "0   4,853,875   4,863,300  \n",
       "1     737,709     741,894  \n",
       "2   6,817,565   6,931,071  \n",
       "3   2,977,853   2,988,248  \n",
       "4  38,993,940  39,250,017  "
      ]
     },
     "execution_count": 1256,
     "metadata": {},
     "output_type": "execute_result"
    }
   ],
   "source": [
    "#population\n",
    "\n",
    "df_pop = pd.read_csv(\"population.csv\")\n",
    "df_pop.head()"
   ]
  },
  {
   "cell_type": "code",
   "execution_count": 1257,
   "metadata": {
    "scrolled": true
   },
   "outputs": [],
   "source": [
    "df_pop['State'] = df_pop['State'].replace({'Alaska':'AK', 'Alabama':'AL', 'Arkansas':'AR', 'Arizona':'AZ', \n",
    "                      'California':'CA', 'Colorado':'CO', 'Connecticut':'CT', \n",
    "                      'District of Columbia':'DC', 'Delaware':'DE', 'Florida':'FL', \n",
    "                      'Georgia':'GA', 'Hawaii':'HI', 'Iowa':'IA', \n",
    "                      'Idaho':'ID', 'Illinois':'IL', 'Indiana':'IN', 'Kansas':'KS', \n",
    "                      'Kentucky':'KY', 'Louisiana':'LA', 'Massachusetts':'MA', 'Maryland':'MD', \n",
    "                      'Maine':'ME', 'Michigan':'MI', 'Minnesota':'MN', 'Missouri':'MO', \n",
    "                      'Mississippi':'MS', 'Montana':'MT', 'North Carolina':'NC', \n",
    "                      'North Dakota':'ND', 'Nebraska':'NE', 'New Hampshire':'NH', \n",
    "                      'New Jersey':'NJ', 'New Mexico':'NM', 'Nevada':'NV', 'New York':'NY', \n",
    "                      'Ohio':'OH', 'Oklahoma':'OK', 'Oregon':'OR', 'Pennsylvania':'PA', \n",
    "                      'Puerto Rico':'PR', 'Rhode Island':'RI', 'South Carolina':'SC', \n",
    "                      'South Dakota':'SD', 'Tennessee':'TN', 'Texas':'TX', 'Utah':'UT', \n",
    "                      'Virginia':'VA', 'Vermont':'VT', 'Washington':'WA', \n",
    "                      'Wisconsin':'WI', 'West Virginia':'WV', 'Wyoming':'WY'})"
   ]
  },
  {
   "cell_type": "code",
   "execution_count": 1258,
   "metadata": {},
   "outputs": [
    {
     "data": {
      "text/html": [
       "<div>\n",
       "<style>\n",
       "    .dataframe thead tr:only-child th {\n",
       "        text-align: right;\n",
       "    }\n",
       "\n",
       "    .dataframe thead th {\n",
       "        text-align: left;\n",
       "    }\n",
       "\n",
       "    .dataframe tbody tr th {\n",
       "        vertical-align: top;\n",
       "    }\n",
       "</style>\n",
       "<table border=\"1\" class=\"dataframe\">\n",
       "  <thead>\n",
       "    <tr style=\"text-align: right;\">\n",
       "      <th></th>\n",
       "      <th>State</th>\n",
       "      <th>2010</th>\n",
       "      <th>2011</th>\n",
       "      <th>2012</th>\n",
       "      <th>2013</th>\n",
       "      <th>2014</th>\n",
       "      <th>2015</th>\n",
       "      <th>2016</th>\n",
       "    </tr>\n",
       "  </thead>\n",
       "  <tbody>\n",
       "    <tr>\n",
       "      <th>0</th>\n",
       "      <td>AL</td>\n",
       "      <td>4,785,492</td>\n",
       "      <td>4,799,918</td>\n",
       "      <td>4,815,960</td>\n",
       "      <td>4,829,479</td>\n",
       "      <td>4,843,214</td>\n",
       "      <td>4,853,875</td>\n",
       "      <td>4,863,300</td>\n",
       "    </tr>\n",
       "    <tr>\n",
       "      <th>1</th>\n",
       "      <td>AK</td>\n",
       "      <td>714,031</td>\n",
       "      <td>722,713</td>\n",
       "      <td>731,089</td>\n",
       "      <td>736,879</td>\n",
       "      <td>736,705</td>\n",
       "      <td>737,709</td>\n",
       "      <td>741,894</td>\n",
       "    </tr>\n",
       "    <tr>\n",
       "      <th>2</th>\n",
       "      <td>AZ</td>\n",
       "      <td>6,408,312</td>\n",
       "      <td>6,467,163</td>\n",
       "      <td>6,549,634</td>\n",
       "      <td>6,624,617</td>\n",
       "      <td>6,719,993</td>\n",
       "      <td>6,817,565</td>\n",
       "      <td>6,931,071</td>\n",
       "    </tr>\n",
       "    <tr>\n",
       "      <th>3</th>\n",
       "      <td>AR</td>\n",
       "      <td>2,921,995</td>\n",
       "      <td>2,939,493</td>\n",
       "      <td>2,950,685</td>\n",
       "      <td>2,958,663</td>\n",
       "      <td>2,966,912</td>\n",
       "      <td>2,977,853</td>\n",
       "      <td>2,988,248</td>\n",
       "    </tr>\n",
       "    <tr>\n",
       "      <th>4</th>\n",
       "      <td>CA</td>\n",
       "      <td>37,332,685</td>\n",
       "      <td>37,676,861</td>\n",
       "      <td>38,011,074</td>\n",
       "      <td>38,335,203</td>\n",
       "      <td>38,680,810</td>\n",
       "      <td>38,993,940</td>\n",
       "      <td>39,250,017</td>\n",
       "    </tr>\n",
       "  </tbody>\n",
       "</table>\n",
       "</div>"
      ],
      "text/plain": [
       "  State        2010        2011        2012        2013        2014  \\\n",
       "0    AL   4,785,492   4,799,918   4,815,960   4,829,479   4,843,214   \n",
       "1    AK     714,031     722,713     731,089     736,879     736,705   \n",
       "2    AZ   6,408,312   6,467,163   6,549,634   6,624,617   6,719,993   \n",
       "3    AR   2,921,995   2,939,493   2,950,685   2,958,663   2,966,912   \n",
       "4    CA  37,332,685  37,676,861  38,011,074  38,335,203  38,680,810   \n",
       "\n",
       "         2015        2016  \n",
       "0   4,853,875   4,863,300  \n",
       "1     737,709     741,894  \n",
       "2   6,817,565   6,931,071  \n",
       "3   2,977,853   2,988,248  \n",
       "4  38,993,940  39,250,017  "
      ]
     },
     "execution_count": 1258,
     "metadata": {},
     "output_type": "execute_result"
    }
   ],
   "source": [
    "df_pop.head()"
   ]
  },
  {
   "cell_type": "code",
   "execution_count": 1259,
   "metadata": {},
   "outputs": [
    {
     "data": {
      "text/plain": [
       "State    object\n",
       "2010     object\n",
       "2011     object\n",
       "2012     object\n",
       "2013     object\n",
       "2014     object\n",
       "2015     object\n",
       "2016     object\n",
       "dtype: object"
      ]
     },
     "execution_count": 1259,
     "metadata": {},
     "output_type": "execute_result"
    }
   ],
   "source": [
    "df_pop.dtypes"
   ]
  },
  {
   "cell_type": "code",
   "execution_count": 1260,
   "metadata": {},
   "outputs": [],
   "source": [
    "df_pop['2010'] = df_pop['2010'].str.replace(',', '').astype(int)"
   ]
  },
  {
   "cell_type": "code",
   "execution_count": 1261,
   "metadata": {},
   "outputs": [
    {
     "data": {
      "text/html": [
       "<div>\n",
       "<style>\n",
       "    .dataframe thead tr:only-child th {\n",
       "        text-align: right;\n",
       "    }\n",
       "\n",
       "    .dataframe thead th {\n",
       "        text-align: left;\n",
       "    }\n",
       "\n",
       "    .dataframe tbody tr th {\n",
       "        vertical-align: top;\n",
       "    }\n",
       "</style>\n",
       "<table border=\"1\" class=\"dataframe\">\n",
       "  <thead>\n",
       "    <tr style=\"text-align: right;\">\n",
       "      <th></th>\n",
       "      <th>State</th>\n",
       "      <th>2010</th>\n",
       "      <th>2011</th>\n",
       "      <th>2012</th>\n",
       "      <th>2013</th>\n",
       "      <th>2014</th>\n",
       "      <th>2015</th>\n",
       "      <th>2016</th>\n",
       "    </tr>\n",
       "  </thead>\n",
       "  <tbody>\n",
       "    <tr>\n",
       "      <th>0</th>\n",
       "      <td>AL</td>\n",
       "      <td>4785492</td>\n",
       "      <td>4,799,918</td>\n",
       "      <td>4,815,960</td>\n",
       "      <td>4,829,479</td>\n",
       "      <td>4,843,214</td>\n",
       "      <td>4,853,875</td>\n",
       "      <td>4,863,300</td>\n",
       "    </tr>\n",
       "    <tr>\n",
       "      <th>1</th>\n",
       "      <td>AK</td>\n",
       "      <td>714031</td>\n",
       "      <td>722,713</td>\n",
       "      <td>731,089</td>\n",
       "      <td>736,879</td>\n",
       "      <td>736,705</td>\n",
       "      <td>737,709</td>\n",
       "      <td>741,894</td>\n",
       "    </tr>\n",
       "    <tr>\n",
       "      <th>2</th>\n",
       "      <td>AZ</td>\n",
       "      <td>6408312</td>\n",
       "      <td>6,467,163</td>\n",
       "      <td>6,549,634</td>\n",
       "      <td>6,624,617</td>\n",
       "      <td>6,719,993</td>\n",
       "      <td>6,817,565</td>\n",
       "      <td>6,931,071</td>\n",
       "    </tr>\n",
       "    <tr>\n",
       "      <th>3</th>\n",
       "      <td>AR</td>\n",
       "      <td>2921995</td>\n",
       "      <td>2,939,493</td>\n",
       "      <td>2,950,685</td>\n",
       "      <td>2,958,663</td>\n",
       "      <td>2,966,912</td>\n",
       "      <td>2,977,853</td>\n",
       "      <td>2,988,248</td>\n",
       "    </tr>\n",
       "    <tr>\n",
       "      <th>4</th>\n",
       "      <td>CA</td>\n",
       "      <td>37332685</td>\n",
       "      <td>37,676,861</td>\n",
       "      <td>38,011,074</td>\n",
       "      <td>38,335,203</td>\n",
       "      <td>38,680,810</td>\n",
       "      <td>38,993,940</td>\n",
       "      <td>39,250,017</td>\n",
       "    </tr>\n",
       "  </tbody>\n",
       "</table>\n",
       "</div>"
      ],
      "text/plain": [
       "  State      2010        2011        2012        2013        2014        2015  \\\n",
       "0    AL   4785492   4,799,918   4,815,960   4,829,479   4,843,214   4,853,875   \n",
       "1    AK    714031     722,713     731,089     736,879     736,705     737,709   \n",
       "2    AZ   6408312   6,467,163   6,549,634   6,624,617   6,719,993   6,817,565   \n",
       "3    AR   2921995   2,939,493   2,950,685   2,958,663   2,966,912   2,977,853   \n",
       "4    CA  37332685  37,676,861  38,011,074  38,335,203  38,680,810  38,993,940   \n",
       "\n",
       "         2016  \n",
       "0   4,863,300  \n",
       "1     741,894  \n",
       "2   6,931,071  \n",
       "3   2,988,248  \n",
       "4  39,250,017  "
      ]
     },
     "execution_count": 1261,
     "metadata": {},
     "output_type": "execute_result"
    }
   ],
   "source": [
    "df_pop.head()"
   ]
  },
  {
   "cell_type": "code",
   "execution_count": 1262,
   "metadata": {},
   "outputs": [],
   "source": [
    "df_pop['2011'] = df_pop['2011'].str.replace(',', '').astype(int)"
   ]
  },
  {
   "cell_type": "code",
   "execution_count": 1263,
   "metadata": {
    "collapsed": true
   },
   "outputs": [],
   "source": [
    "df_pop['2012'] = df_pop['2012'].str.replace(',', '').astype(int)"
   ]
  },
  {
   "cell_type": "code",
   "execution_count": 1264,
   "metadata": {
    "collapsed": true
   },
   "outputs": [],
   "source": [
    "df_pop['2013'] = df_pop['2013'].str.replace(',', '').astype(int)"
   ]
  },
  {
   "cell_type": "code",
   "execution_count": 1265,
   "metadata": {
    "collapsed": true
   },
   "outputs": [],
   "source": [
    "df_pop['2014'] = df_pop['2014'].str.replace(',', '').astype(int)"
   ]
  },
  {
   "cell_type": "code",
   "execution_count": 1266,
   "metadata": {
    "collapsed": true
   },
   "outputs": [],
   "source": [
    "df_pop['2015'] = df_pop['2015'].str.replace(',', '').astype(int)"
   ]
  },
  {
   "cell_type": "code",
   "execution_count": 1267,
   "metadata": {
    "collapsed": true
   },
   "outputs": [],
   "source": [
    "df_pop['2016'] = df_pop['2016'].str.replace(',', '').astype(int)"
   ]
  },
  {
   "cell_type": "code",
   "execution_count": 1268,
   "metadata": {},
   "outputs": [
    {
     "data": {
      "text/html": [
       "<div>\n",
       "<style>\n",
       "    .dataframe thead tr:only-child th {\n",
       "        text-align: right;\n",
       "    }\n",
       "\n",
       "    .dataframe thead th {\n",
       "        text-align: left;\n",
       "    }\n",
       "\n",
       "    .dataframe tbody tr th {\n",
       "        vertical-align: top;\n",
       "    }\n",
       "</style>\n",
       "<table border=\"1\" class=\"dataframe\">\n",
       "  <thead>\n",
       "    <tr style=\"text-align: right;\">\n",
       "      <th></th>\n",
       "      <th>Year</th>\n",
       "      <th>State</th>\n",
       "      <th>Measures</th>\n",
       "      <th>Count</th>\n",
       "      <th>2010</th>\n",
       "      <th>2011</th>\n",
       "      <th>2012</th>\n",
       "      <th>2013</th>\n",
       "      <th>2014</th>\n",
       "      <th>2015</th>\n",
       "      <th>2016</th>\n",
       "    </tr>\n",
       "  </thead>\n",
       "  <tbody>\n",
       "    <tr>\n",
       "      <th>0</th>\n",
       "      <td>2007</td>\n",
       "      <td>AK</td>\n",
       "      <td>Chronically Homeless Individuals</td>\n",
       "      <td>224</td>\n",
       "      <td>714031</td>\n",
       "      <td>722713</td>\n",
       "      <td>731089</td>\n",
       "      <td>736879</td>\n",
       "      <td>736705</td>\n",
       "      <td>737709</td>\n",
       "      <td>741894</td>\n",
       "    </tr>\n",
       "    <tr>\n",
       "      <th>1</th>\n",
       "      <td>2007</td>\n",
       "      <td>AK</td>\n",
       "      <td>Homeless Individuals</td>\n",
       "      <td>696</td>\n",
       "      <td>714031</td>\n",
       "      <td>722713</td>\n",
       "      <td>731089</td>\n",
       "      <td>736879</td>\n",
       "      <td>736705</td>\n",
       "      <td>737709</td>\n",
       "      <td>741894</td>\n",
       "    </tr>\n",
       "    <tr>\n",
       "      <th>2</th>\n",
       "      <td>2007</td>\n",
       "      <td>AK</td>\n",
       "      <td>Homeless People in Families</td>\n",
       "      <td>278</td>\n",
       "      <td>714031</td>\n",
       "      <td>722713</td>\n",
       "      <td>731089</td>\n",
       "      <td>736879</td>\n",
       "      <td>736705</td>\n",
       "      <td>737709</td>\n",
       "      <td>741894</td>\n",
       "    </tr>\n",
       "    <tr>\n",
       "      <th>3</th>\n",
       "      <td>2007</td>\n",
       "      <td>AK</td>\n",
       "      <td>Sheltered Chronically Homeless Individuals</td>\n",
       "      <td>187</td>\n",
       "      <td>714031</td>\n",
       "      <td>722713</td>\n",
       "      <td>731089</td>\n",
       "      <td>736879</td>\n",
       "      <td>736705</td>\n",
       "      <td>737709</td>\n",
       "      <td>741894</td>\n",
       "    </tr>\n",
       "    <tr>\n",
       "      <th>4</th>\n",
       "      <td>2007</td>\n",
       "      <td>AK</td>\n",
       "      <td>Sheltered Homeless</td>\n",
       "      <td>842</td>\n",
       "      <td>714031</td>\n",
       "      <td>722713</td>\n",
       "      <td>731089</td>\n",
       "      <td>736879</td>\n",
       "      <td>736705</td>\n",
       "      <td>737709</td>\n",
       "      <td>741894</td>\n",
       "    </tr>\n",
       "  </tbody>\n",
       "</table>\n",
       "</div>"
      ],
      "text/plain": [
       "   Year State                                    Measures  Count    2010  \\\n",
       "0  2007    AK            Chronically Homeless Individuals    224  714031   \n",
       "1  2007    AK                        Homeless Individuals    696  714031   \n",
       "2  2007    AK                 Homeless People in Families    278  714031   \n",
       "3  2007    AK  Sheltered Chronically Homeless Individuals    187  714031   \n",
       "4  2007    AK                          Sheltered Homeless    842  714031   \n",
       "\n",
       "     2011    2012    2013    2014    2015    2016  \n",
       "0  722713  731089  736879  736705  737709  741894  \n",
       "1  722713  731089  736879  736705  737709  741894  \n",
       "2  722713  731089  736879  736705  737709  741894  \n",
       "3  722713  731089  736879  736705  737709  741894  \n",
       "4  722713  731089  736879  736705  737709  741894  "
      ]
     },
     "execution_count": 1268,
     "metadata": {},
     "output_type": "execute_result"
    }
   ],
   "source": [
    "df_merged = df.merge(df_pop, on='State')\n",
    "df_merged.head()"
   ]
  },
  {
   "cell_type": "code",
   "execution_count": 1269,
   "metadata": {},
   "outputs": [
    {
     "data": {
      "text/html": [
       "<div>\n",
       "<style>\n",
       "    .dataframe thead tr:only-child th {\n",
       "        text-align: right;\n",
       "    }\n",
       "\n",
       "    .dataframe thead th {\n",
       "        text-align: left;\n",
       "    }\n",
       "\n",
       "    .dataframe tbody tr th {\n",
       "        vertical-align: top;\n",
       "    }\n",
       "</style>\n",
       "<table border=\"1\" class=\"dataframe\">\n",
       "  <thead>\n",
       "    <tr style=\"text-align: right;\">\n",
       "      <th></th>\n",
       "      <th>Year</th>\n",
       "      <th>State</th>\n",
       "      <th>Measures</th>\n",
       "      <th>Count</th>\n",
       "      <th>2010</th>\n",
       "      <th>2011</th>\n",
       "      <th>2012</th>\n",
       "      <th>2013</th>\n",
       "      <th>2014</th>\n",
       "      <th>2015</th>\n",
       "      <th>2016</th>\n",
       "    </tr>\n",
       "  </thead>\n",
       "  <tbody>\n",
       "    <tr>\n",
       "      <th>86092</th>\n",
       "      <td>2016</td>\n",
       "      <td>WY</td>\n",
       "      <td>Unsheltered Homeless Unaccompanied Youth (Unde...</td>\n",
       "      <td>7</td>\n",
       "      <td>564513</td>\n",
       "      <td>567725</td>\n",
       "      <td>576765</td>\n",
       "      <td>582684</td>\n",
       "      <td>583642</td>\n",
       "      <td>586555</td>\n",
       "      <td>585501</td>\n",
       "    </tr>\n",
       "    <tr>\n",
       "      <th>86093</th>\n",
       "      <td>2016</td>\n",
       "      <td>WY</td>\n",
       "      <td>Unsheltered Homeless Veterans</td>\n",
       "      <td>31</td>\n",
       "      <td>564513</td>\n",
       "      <td>567725</td>\n",
       "      <td>576765</td>\n",
       "      <td>582684</td>\n",
       "      <td>583642</td>\n",
       "      <td>586555</td>\n",
       "      <td>585501</td>\n",
       "    </tr>\n",
       "    <tr>\n",
       "      <th>86094</th>\n",
       "      <td>2016</td>\n",
       "      <td>WY</td>\n",
       "      <td>Unsheltered Parenting Youth (Under 25)</td>\n",
       "      <td>3</td>\n",
       "      <td>564513</td>\n",
       "      <td>567725</td>\n",
       "      <td>576765</td>\n",
       "      <td>582684</td>\n",
       "      <td>583642</td>\n",
       "      <td>586555</td>\n",
       "      <td>585501</td>\n",
       "    </tr>\n",
       "    <tr>\n",
       "      <th>86095</th>\n",
       "      <td>2016</td>\n",
       "      <td>WY</td>\n",
       "      <td>Unsheltered Parenting Youth Age 18-24</td>\n",
       "      <td>3</td>\n",
       "      <td>564513</td>\n",
       "      <td>567725</td>\n",
       "      <td>576765</td>\n",
       "      <td>582684</td>\n",
       "      <td>583642</td>\n",
       "      <td>586555</td>\n",
       "      <td>585501</td>\n",
       "    </tr>\n",
       "    <tr>\n",
       "      <th>86096</th>\n",
       "      <td>2016</td>\n",
       "      <td>WY</td>\n",
       "      <td>Unsheltered Parenting Youth Under 18</td>\n",
       "      <td>0</td>\n",
       "      <td>564513</td>\n",
       "      <td>567725</td>\n",
       "      <td>576765</td>\n",
       "      <td>582684</td>\n",
       "      <td>583642</td>\n",
       "      <td>586555</td>\n",
       "      <td>585501</td>\n",
       "    </tr>\n",
       "  </tbody>\n",
       "</table>\n",
       "</div>"
      ],
      "text/plain": [
       "       Year State                                           Measures  Count  \\\n",
       "86092  2016    WY  Unsheltered Homeless Unaccompanied Youth (Unde...      7   \n",
       "86093  2016    WY                      Unsheltered Homeless Veterans     31   \n",
       "86094  2016    WY             Unsheltered Parenting Youth (Under 25)      3   \n",
       "86095  2016    WY              Unsheltered Parenting Youth Age 18-24      3   \n",
       "86096  2016    WY               Unsheltered Parenting Youth Under 18      0   \n",
       "\n",
       "         2010    2011    2012    2013    2014    2015    2016  \n",
       "86092  564513  567725  576765  582684  583642  586555  585501  \n",
       "86093  564513  567725  576765  582684  583642  586555  585501  \n",
       "86094  564513  567725  576765  582684  583642  586555  585501  \n",
       "86095  564513  567725  576765  582684  583642  586555  585501  \n",
       "86096  564513  567725  576765  582684  583642  586555  585501  "
      ]
     },
     "execution_count": 1269,
     "metadata": {},
     "output_type": "execute_result"
    }
   ],
   "source": [
    "df_merged.tail()"
   ]
  },
  {
   "cell_type": "code",
   "execution_count": 1270,
   "metadata": {},
   "outputs": [],
   "source": [
    "df_2016 = df_merged[df_merged['Year']=='2016']"
   ]
  },
  {
   "cell_type": "code",
   "execution_count": 1271,
   "metadata": {},
   "outputs": [
    {
     "data": {
      "text/html": [
       "<div>\n",
       "<style>\n",
       "    .dataframe thead tr:only-child th {\n",
       "        text-align: right;\n",
       "    }\n",
       "\n",
       "    .dataframe thead th {\n",
       "        text-align: left;\n",
       "    }\n",
       "\n",
       "    .dataframe tbody tr th {\n",
       "        vertical-align: top;\n",
       "    }\n",
       "</style>\n",
       "<table border=\"1\" class=\"dataframe\">\n",
       "  <thead>\n",
       "    <tr style=\"text-align: right;\">\n",
       "      <th></th>\n",
       "      <th>Year</th>\n",
       "      <th>State</th>\n",
       "      <th>Measures</th>\n",
       "      <th>Count</th>\n",
       "      <th>2010</th>\n",
       "      <th>2011</th>\n",
       "      <th>2012</th>\n",
       "      <th>2013</th>\n",
       "      <th>2014</th>\n",
       "      <th>2015</th>\n",
       "      <th>2016</th>\n",
       "    </tr>\n",
       "  </thead>\n",
       "  <tbody>\n",
       "    <tr>\n",
       "      <th>348</th>\n",
       "      <td>2016</td>\n",
       "      <td>AK</td>\n",
       "      <td>Children of Parenting Youth</td>\n",
       "      <td>6</td>\n",
       "      <td>714031</td>\n",
       "      <td>722713</td>\n",
       "      <td>731089</td>\n",
       "      <td>736879</td>\n",
       "      <td>736705</td>\n",
       "      <td>737709</td>\n",
       "      <td>741894</td>\n",
       "    </tr>\n",
       "    <tr>\n",
       "      <th>349</th>\n",
       "      <td>2016</td>\n",
       "      <td>AK</td>\n",
       "      <td>Chronically Homeless</td>\n",
       "      <td>50</td>\n",
       "      <td>714031</td>\n",
       "      <td>722713</td>\n",
       "      <td>731089</td>\n",
       "      <td>736879</td>\n",
       "      <td>736705</td>\n",
       "      <td>737709</td>\n",
       "      <td>741894</td>\n",
       "    </tr>\n",
       "    <tr>\n",
       "      <th>350</th>\n",
       "      <td>2016</td>\n",
       "      <td>AK</td>\n",
       "      <td>Chronically Homeless Individuals</td>\n",
       "      <td>48</td>\n",
       "      <td>714031</td>\n",
       "      <td>722713</td>\n",
       "      <td>731089</td>\n",
       "      <td>736879</td>\n",
       "      <td>736705</td>\n",
       "      <td>737709</td>\n",
       "      <td>741894</td>\n",
       "    </tr>\n",
       "    <tr>\n",
       "      <th>351</th>\n",
       "      <td>2016</td>\n",
       "      <td>AK</td>\n",
       "      <td>Chronically Homeless People in Families</td>\n",
       "      <td>2</td>\n",
       "      <td>714031</td>\n",
       "      <td>722713</td>\n",
       "      <td>731089</td>\n",
       "      <td>736879</td>\n",
       "      <td>736705</td>\n",
       "      <td>737709</td>\n",
       "      <td>741894</td>\n",
       "    </tr>\n",
       "    <tr>\n",
       "      <th>352</th>\n",
       "      <td>2016</td>\n",
       "      <td>AK</td>\n",
       "      <td>Homeless Individuals</td>\n",
       "      <td>905</td>\n",
       "      <td>714031</td>\n",
       "      <td>722713</td>\n",
       "      <td>731089</td>\n",
       "      <td>736879</td>\n",
       "      <td>736705</td>\n",
       "      <td>737709</td>\n",
       "      <td>741894</td>\n",
       "    </tr>\n",
       "  </tbody>\n",
       "</table>\n",
       "</div>"
      ],
      "text/plain": [
       "     Year State                                 Measures  Count    2010  \\\n",
       "348  2016    AK              Children of Parenting Youth      6  714031   \n",
       "349  2016    AK                     Chronically Homeless     50  714031   \n",
       "350  2016    AK         Chronically Homeless Individuals     48  714031   \n",
       "351  2016    AK  Chronically Homeless People in Families      2  714031   \n",
       "352  2016    AK                     Homeless Individuals    905  714031   \n",
       "\n",
       "       2011    2012    2013    2014    2015    2016  \n",
       "348  722713  731089  736879  736705  737709  741894  \n",
       "349  722713  731089  736879  736705  737709  741894  \n",
       "350  722713  731089  736879  736705  737709  741894  \n",
       "351  722713  731089  736879  736705  737709  741894  \n",
       "352  722713  731089  736879  736705  737709  741894  "
      ]
     },
     "execution_count": 1271,
     "metadata": {},
     "output_type": "execute_result"
    }
   ],
   "source": [
    "df_2016.head()"
   ]
  },
  {
   "cell_type": "code",
   "execution_count": 1272,
   "metadata": {},
   "outputs": [],
   "source": [
    "#Sheltered VS Unsheltered \n",
    "#df_2016.groupby(['State', 'Measures'])['Count'].sum().unstack().plot.bar(stacked=True, title='Total Homeless in the USA', legend= True, colormap='Set3', figsize=(10,20))"
   ]
  },
  {
   "cell_type": "code",
   "execution_count": 1273,
   "metadata": {},
   "outputs": [],
   "source": [
    "#California has the most\n",
    "cal = df_2016[df_2016['State']=='CA']"
   ]
  },
  {
   "cell_type": "code",
   "execution_count": 1274,
   "metadata": {},
   "outputs": [
    {
     "data": {
      "text/plain": [
       "<matplotlib.axes._subplots.AxesSubplot at 0x14d6b1fd0>"
      ]
     },
     "execution_count": 1274,
     "metadata": {},
     "output_type": "execute_result"
    },
    {
     "data": {
      "image/png": "[encoded data removed]",
      "text/plain": [
       "<matplotlib.figure.Figure at 0x158f87978>"
      ]
     },
     "metadata": {},
     "output_type": "display_data"
    }
   ],
   "source": [
    "#what categories ?\n",
    "cal.groupby('Measures')['Count'].sum().sort_values(ascending=False).plot(kind='bar', figsize=(10,10))"
   ]
  },
  {
   "cell_type": "code",
   "execution_count": 1275,
   "metadata": {},
   "outputs": [
    {
     "data": {
      "text/plain": [
       "<matplotlib.axes._subplots.AxesSubplot at 0x1519c9da0>"
      ]
     },
     "execution_count": 1275,
     "metadata": {},
     "output_type": "execute_result"
    },
    {
     "data": {
      "image/png": "[encoded data removed]",
      "text/plain": [
       "<matplotlib.figure.Figure at 0x14d6c2048>"
      ]
     },
     "metadata": {},
     "output_type": "display_data"
    }
   ],
   "source": [
    "#New York has the most\n",
    "ny = df_2016[df_2016['State']=='NY']\n",
    "ny.groupby('Measures')['Count'].sum().sort_values(ascending=False).plot(kind='bar', figsize=(10,10))"
   ]
  },
  {
   "cell_type": "code",
   "execution_count": 1276,
   "metadata": {},
   "outputs": [
    {
     "data": {
      "text/plain": [
       "Measures\n",
       "Total Homeless                                                 86352\n",
       "Sheltered Homeless                                             82761\n",
       "Homeless People in Families                                    51037\n",
       "Sheltered Homeless People in Families                          50968\n",
       "Homeless Individuals                                           35315\n",
       "Sheltered Homeless Individuals                                 31793\n",
       "Chronically Homeless                                            5368\n",
       "Chronically Homeless Individuals                                4112\n",
       "Unsheltered Homeless                                            3591\n",
       "Unsheltered Homeless Individuals                                3522\n",
       "Children of Parenting Youth                                     3311\n",
       "Sheltered Children of Parenting Youth                           3304\n",
       "Sheltered Chronically Homeless                                  3299\n",
       "Homeless Unaccompanied Youth (Under 25)                         2889\n",
       "Parenting Youth (Under 25)                                      2724\n",
       "Sheltered Parenting Youth (Under 25)                            2718\n",
       "Parenting Youth Age 18-24                                       2713\n",
       "Sheltered Parenting Youth Age 18-24                             2707\n",
       "Homeless Unaccompanied Young Adults (Age 18-24)                 2701\n",
       "Sheltered Homeless Unaccompanied Youth (Under 25)               2641\n",
       "Sheltered Homeless Unaccompanied Young Adults (Age 18-24)       2476\n",
       "Unsheltered Chronically Homeless                                2069\n",
       "Sheltered Chronically Homeless Individuals                      2063\n",
       "Unsheltered Chronically Homeless Individuals                    2049\n",
       "Chronically Homeless People in Families                         1256\n",
       "Homeless Veterans                                               1248\n",
       "Sheltered Chronically Homeless People in Families               1236\n",
       "Sheltered Homeless Veterans                                     1156\n",
       "Unsheltered Homeless Unaccompanied Youth (Under 25)              248\n",
       "Unsheltered Homeless Unaccompanied Young Adults (Age 18-24)      225\n",
       "Homeless Unaccompanied Children (Under 18)                       188\n",
       "Sheltered Homeless Unaccompanied Children (Under 18)             165\n",
       "Unsheltered Homeless Veterans                                     92\n",
       "Unsheltered Homeless People in Families                           69\n",
       "Unsheltered Homeless Unaccompanied Children (Under 18)            23\n",
       "Unsheltered Chronically Homeless People in Families               20\n",
       "Parenting Youth Under 18                                          11\n",
       "Sheltered Parenting Youth Under 18                                11\n",
       "Unsheltered Children of Parenting Youth                            7\n",
       "Unsheltered Parenting Youth Age 18-24                              6\n",
       "Unsheltered Parenting Youth (Under 25)                             6\n",
       "Unsheltered Parenting Youth Under 18                               0\n",
       "Name: Count, dtype: int64"
      ]
     },
     "execution_count": 1276,
     "metadata": {},
     "output_type": "execute_result"
    }
   ],
   "source": [
    "ny.groupby('Measures')['Count'].sum().sort_values(ascending=False)"
   ]
  },
  {
   "cell_type": "code",
   "execution_count": 1277,
   "metadata": {},
   "outputs": [
    {
     "data": {
      "text/plain": [
       "Measures\n",
       "Total Homeless                                                 118142\n",
       "Homeless Individuals                                            97660\n",
       "Unsheltered Homeless                                            78390\n",
       "Unsheltered Homeless Individuals                                73940\n",
       "Sheltered Homeless                                              39752\n",
       "Chronically Homeless                                            31548\n",
       "Chronically Homeless Individuals                                29802\n",
       "Unsheltered Chronically Homeless                                27070\n",
       "Unsheltered Chronically Homeless Individuals                    25892\n",
       "Sheltered Homeless Individuals                                  23720\n",
       "Homeless People in Families                                     20482\n",
       "Sheltered Homeless People in Families                           16032\n",
       "Homeless Unaccompanied Youth (Under 25)                         11222\n",
       "Homeless Unaccompanied Young Adults (Age 18-24)                 10375\n",
       "Homeless Veterans                                                9612\n",
       "Unsheltered Homeless Unaccompanied Youth (Under 25)              8691\n",
       "Unsheltered Homeless Unaccompanied Young Adults (Age 18-24)      8057\n",
       "Unsheltered Homeless Veterans                                    5600\n",
       "Sheltered Chronically Homeless                                   4478\n",
       "Unsheltered Homeless People in Families                          4450\n",
       "Sheltered Homeless Veterans                                      4012\n",
       "Sheltered Chronically Homeless Individuals                       3910\n",
       "Sheltered Homeless Unaccompanied Youth (Under 25)                2531\n",
       "Sheltered Homeless Unaccompanied Young Adults (Age 18-24)        2318\n",
       "Chronically Homeless People in Families                          1746\n",
       "Unsheltered Chronically Homeless People in Families              1178\n",
       "Children of Parenting Youth                                      1098\n",
       "Sheltered Children of Parenting Youth                             935\n",
       "Parenting Youth (Under 25)                                        862\n",
       "Parenting Youth Age 18-24                                         852\n",
       "Homeless Unaccompanied Children (Under 18)                        847\n",
       "Sheltered Parenting Youth (Under 25)                              751\n",
       "Sheltered Parenting Youth Age 18-24                               741\n",
       "Unsheltered Homeless Unaccompanied Children (Under 18)            634\n",
       "Sheltered Chronically Homeless People in Families                 568\n",
       "Sheltered Homeless Unaccompanied Children (Under 18)              213\n",
       "Unsheltered Children of Parenting Youth                           163\n",
       "Unsheltered Parenting Youth Age 18-24                             111\n",
       "Unsheltered Parenting Youth (Under 25)                            111\n",
       "Parenting Youth Under 18                                           10\n",
       "Sheltered Parenting Youth Under 18                                 10\n",
       "Unsheltered Parenting Youth Under 18                                0\n",
       "Name: Count, dtype: int64"
      ]
     },
     "execution_count": 1277,
     "metadata": {},
     "output_type": "execute_result"
    }
   ],
   "source": [
    "cal.groupby('Measures')['Count'].sum().sort_values(ascending=False)"
   ]
  },
  {
   "cell_type": "code",
   "execution_count": 1278,
   "metadata": {},
   "outputs": [
    {
     "data": {
      "text/html": [
       "<div>\n",
       "<style>\n",
       "    .dataframe thead tr:only-child th {\n",
       "        text-align: right;\n",
       "    }\n",
       "\n",
       "    .dataframe thead th {\n",
       "        text-align: left;\n",
       "    }\n",
       "\n",
       "    .dataframe tbody tr th {\n",
       "        vertical-align: top;\n",
       "    }\n",
       "</style>\n",
       "<table border=\"1\" class=\"dataframe\">\n",
       "  <thead>\n",
       "    <tr style=\"text-align: right;\">\n",
       "      <th></th>\n",
       "      <th></th>\n",
       "      <th>Count</th>\n",
       "    </tr>\n",
       "    <tr>\n",
       "      <th>State</th>\n",
       "      <th>Year</th>\n",
       "      <th></th>\n",
       "    </tr>\n",
       "  </thead>\n",
       "  <tbody>\n",
       "    <tr>\n",
       "      <th>AK</th>\n",
       "      <th>2016</th>\n",
       "      <td>1940</td>\n",
       "    </tr>\n",
       "    <tr>\n",
       "      <th>AL</th>\n",
       "      <th>2016</th>\n",
       "      <td>4111</td>\n",
       "    </tr>\n",
       "    <tr>\n",
       "      <th>AR</th>\n",
       "      <th>2016</th>\n",
       "      <td>2463</td>\n",
       "    </tr>\n",
       "    <tr>\n",
       "      <th>AZ</th>\n",
       "      <th>2016</th>\n",
       "      <td>9707</td>\n",
       "    </tr>\n",
       "    <tr>\n",
       "      <th>CA</th>\n",
       "      <th>2016</th>\n",
       "      <td>118142</td>\n",
       "    </tr>\n",
       "  </tbody>\n",
       "</table>\n",
       "</div>"
      ],
      "text/plain": [
       "             Count\n",
       "State Year        \n",
       "AK    2016    1940\n",
       "AL    2016    4111\n",
       "AR    2016    2463\n",
       "AZ    2016    9707\n",
       "CA    2016  118142"
      ]
     },
     "execution_count": 1278,
     "metadata": {},
     "output_type": "execute_result"
    }
   ],
   "source": [
    "#Let's standarize with the population\n",
    "df_2016 = df_2016[df_2016['Measures']=='Total Homeless']\n",
    "df_2016 = df_2016.groupby(['State','Year',])[['Count']].sum()\n",
    "df_2016.head()"
   ]
  },
  {
   "cell_type": "code",
   "execution_count": 1279,
   "metadata": {
    "collapsed": true
   },
   "outputs": [],
   "source": [
    "df_2016.reset_index(inplace=True)"
   ]
  },
  {
   "cell_type": "code",
   "execution_count": 1280,
   "metadata": {},
   "outputs": [
    {
     "data": {
      "text/html": [
       "<div>\n",
       "<style>\n",
       "    .dataframe thead tr:only-child th {\n",
       "        text-align: right;\n",
       "    }\n",
       "\n",
       "    .dataframe thead th {\n",
       "        text-align: left;\n",
       "    }\n",
       "\n",
       "    .dataframe tbody tr th {\n",
       "        vertical-align: top;\n",
       "    }\n",
       "</style>\n",
       "<table border=\"1\" class=\"dataframe\">\n",
       "  <thead>\n",
       "    <tr style=\"text-align: right;\">\n",
       "      <th></th>\n",
       "      <th>State</th>\n",
       "      <th>Year</th>\n",
       "      <th>Count</th>\n",
       "      <th>2010</th>\n",
       "      <th>2011</th>\n",
       "      <th>2012</th>\n",
       "      <th>2013</th>\n",
       "      <th>2014</th>\n",
       "      <th>2015</th>\n",
       "      <th>2016</th>\n",
       "    </tr>\n",
       "  </thead>\n",
       "  <tbody>\n",
       "    <tr>\n",
       "      <th>0</th>\n",
       "      <td>AK</td>\n",
       "      <td>2016</td>\n",
       "      <td>1940</td>\n",
       "      <td>714031</td>\n",
       "      <td>722713</td>\n",
       "      <td>731089</td>\n",
       "      <td>736879</td>\n",
       "      <td>736705</td>\n",
       "      <td>737709</td>\n",
       "      <td>741894</td>\n",
       "    </tr>\n",
       "    <tr>\n",
       "      <th>1</th>\n",
       "      <td>AL</td>\n",
       "      <td>2016</td>\n",
       "      <td>4111</td>\n",
       "      <td>4785492</td>\n",
       "      <td>4799918</td>\n",
       "      <td>4815960</td>\n",
       "      <td>4829479</td>\n",
       "      <td>4843214</td>\n",
       "      <td>4853875</td>\n",
       "      <td>4863300</td>\n",
       "    </tr>\n",
       "    <tr>\n",
       "      <th>2</th>\n",
       "      <td>AR</td>\n",
       "      <td>2016</td>\n",
       "      <td>2463</td>\n",
       "      <td>2921995</td>\n",
       "      <td>2939493</td>\n",
       "      <td>2950685</td>\n",
       "      <td>2958663</td>\n",
       "      <td>2966912</td>\n",
       "      <td>2977853</td>\n",
       "      <td>2988248</td>\n",
       "    </tr>\n",
       "    <tr>\n",
       "      <th>3</th>\n",
       "      <td>AZ</td>\n",
       "      <td>2016</td>\n",
       "      <td>9707</td>\n",
       "      <td>6408312</td>\n",
       "      <td>6467163</td>\n",
       "      <td>6549634</td>\n",
       "      <td>6624617</td>\n",
       "      <td>6719993</td>\n",
       "      <td>6817565</td>\n",
       "      <td>6931071</td>\n",
       "    </tr>\n",
       "    <tr>\n",
       "      <th>4</th>\n",
       "      <td>CA</td>\n",
       "      <td>2016</td>\n",
       "      <td>118142</td>\n",
       "      <td>37332685</td>\n",
       "      <td>37676861</td>\n",
       "      <td>38011074</td>\n",
       "      <td>38335203</td>\n",
       "      <td>38680810</td>\n",
       "      <td>38993940</td>\n",
       "      <td>39250017</td>\n",
       "    </tr>\n",
       "  </tbody>\n",
       "</table>\n",
       "</div>"
      ],
      "text/plain": [
       "  State  Year   Count      2010      2011      2012      2013      2014  \\\n",
       "0    AK  2016    1940    714031    722713    731089    736879    736705   \n",
       "1    AL  2016    4111   4785492   4799918   4815960   4829479   4843214   \n",
       "2    AR  2016    2463   2921995   2939493   2950685   2958663   2966912   \n",
       "3    AZ  2016    9707   6408312   6467163   6549634   6624617   6719993   \n",
       "4    CA  2016  118142  37332685  37676861  38011074  38335203  38680810   \n",
       "\n",
       "       2015      2016  \n",
       "0    737709    741894  \n",
       "1   4853875   4863300  \n",
       "2   2977853   2988248  \n",
       "3   6817565   6931071  \n",
       "4  38993940  39250017  "
      ]
     },
     "execution_count": 1280,
     "metadata": {},
     "output_type": "execute_result"
    }
   ],
   "source": [
    "df_2016 = df_2016.merge(df_pop, on='State')\n",
    "df_2016.head()"
   ]
  },
  {
   "cell_type": "code",
   "execution_count": 1281,
   "metadata": {},
   "outputs": [],
   "source": [
    "#what percent of the population are homeless?\n",
    "df_2016['per'] = df_2016['Count']/df_2016['2016']"
   ]
  },
  {
   "cell_type": "code",
   "execution_count": 1282,
   "metadata": {},
   "outputs": [],
   "source": [
    "df_2016['total_hom']= df_2016['Count']/df_2016['Count'].sum()"
   ]
  },
  {
   "cell_type": "code",
   "execution_count": 1283,
   "metadata": {},
   "outputs": [
    {
     "data": {
      "text/html": [
       "<div>\n",
       "<style>\n",
       "    .dataframe thead tr:only-child th {\n",
       "        text-align: right;\n",
       "    }\n",
       "\n",
       "    .dataframe thead th {\n",
       "        text-align: left;\n",
       "    }\n",
       "\n",
       "    .dataframe tbody tr th {\n",
       "        vertical-align: top;\n",
       "    }\n",
       "</style>\n",
       "<table border=\"1\" class=\"dataframe\">\n",
       "  <thead>\n",
       "    <tr style=\"text-align: right;\">\n",
       "      <th></th>\n",
       "      <th>State</th>\n",
       "      <th>Year</th>\n",
       "      <th>Count</th>\n",
       "      <th>2010</th>\n",
       "      <th>2011</th>\n",
       "      <th>2012</th>\n",
       "      <th>2013</th>\n",
       "      <th>2014</th>\n",
       "      <th>2015</th>\n",
       "      <th>2016</th>\n",
       "      <th>per</th>\n",
       "      <th>total_hom</th>\n",
       "    </tr>\n",
       "  </thead>\n",
       "  <tbody>\n",
       "    <tr>\n",
       "      <th>0</th>\n",
       "      <td>AK</td>\n",
       "      <td>2016</td>\n",
       "      <td>1940</td>\n",
       "      <td>714031</td>\n",
       "      <td>722713</td>\n",
       "      <td>731089</td>\n",
       "      <td>736879</td>\n",
       "      <td>736705</td>\n",
       "      <td>737709</td>\n",
       "      <td>741894</td>\n",
       "      <td>0.002615</td>\n",
       "      <td>0.003537</td>\n",
       "    </tr>\n",
       "    <tr>\n",
       "      <th>1</th>\n",
       "      <td>AL</td>\n",
       "      <td>2016</td>\n",
       "      <td>4111</td>\n",
       "      <td>4785492</td>\n",
       "      <td>4799918</td>\n",
       "      <td>4815960</td>\n",
       "      <td>4829479</td>\n",
       "      <td>4843214</td>\n",
       "      <td>4853875</td>\n",
       "      <td>4863300</td>\n",
       "      <td>0.000845</td>\n",
       "      <td>0.007495</td>\n",
       "    </tr>\n",
       "    <tr>\n",
       "      <th>2</th>\n",
       "      <td>AR</td>\n",
       "      <td>2016</td>\n",
       "      <td>2463</td>\n",
       "      <td>2921995</td>\n",
       "      <td>2939493</td>\n",
       "      <td>2950685</td>\n",
       "      <td>2958663</td>\n",
       "      <td>2966912</td>\n",
       "      <td>2977853</td>\n",
       "      <td>2988248</td>\n",
       "      <td>0.000824</td>\n",
       "      <td>0.004490</td>\n",
       "    </tr>\n",
       "    <tr>\n",
       "      <th>3</th>\n",
       "      <td>AZ</td>\n",
       "      <td>2016</td>\n",
       "      <td>9707</td>\n",
       "      <td>6408312</td>\n",
       "      <td>6467163</td>\n",
       "      <td>6549634</td>\n",
       "      <td>6624617</td>\n",
       "      <td>6719993</td>\n",
       "      <td>6817565</td>\n",
       "      <td>6931071</td>\n",
       "      <td>0.001401</td>\n",
       "      <td>0.017697</td>\n",
       "    </tr>\n",
       "    <tr>\n",
       "      <th>4</th>\n",
       "      <td>CA</td>\n",
       "      <td>2016</td>\n",
       "      <td>118142</td>\n",
       "      <td>37332685</td>\n",
       "      <td>37676861</td>\n",
       "      <td>38011074</td>\n",
       "      <td>38335203</td>\n",
       "      <td>38680810</td>\n",
       "      <td>38993940</td>\n",
       "      <td>39250017</td>\n",
       "      <td>0.003010</td>\n",
       "      <td>0.215390</td>\n",
       "    </tr>\n",
       "  </tbody>\n",
       "</table>\n",
       "</div>"
      ],
      "text/plain": [
       "  State  Year   Count      2010      2011      2012      2013      2014  \\\n",
       "0    AK  2016    1940    714031    722713    731089    736879    736705   \n",
       "1    AL  2016    4111   4785492   4799918   4815960   4829479   4843214   \n",
       "2    AR  2016    2463   2921995   2939493   2950685   2958663   2966912   \n",
       "3    AZ  2016    9707   6408312   6467163   6549634   6624617   6719993   \n",
       "4    CA  2016  118142  37332685  37676861  38011074  38335203  38680810   \n",
       "\n",
       "       2015      2016       per  total_hom  \n",
       "0    737709    741894  0.002615   0.003537  \n",
       "1   4853875   4863300  0.000845   0.007495  \n",
       "2   2977853   2988248  0.000824   0.004490  \n",
       "3   6817565   6931071  0.001401   0.017697  \n",
       "4  38993940  39250017  0.003010   0.215390  "
      ]
     },
     "execution_count": 1283,
     "metadata": {},
     "output_type": "execute_result"
    }
   ],
   "source": [
    "df_2016.head()"
   ]
  },
  {
   "cell_type": "code",
   "execution_count": 1308,
   "metadata": {},
   "outputs": [
    {
     "data": {
      "image/png": "[encoded data removed]",
      "text/plain": [
       "<matplotlib.figure.Figure at 0x162e1b940>"
      ]
     },
     "metadata": {},
     "output_type": "display_data"
    }
   ],
   "source": [
    "plt.figure(figsize=(18,6))\n",
    "sns.barplot(y='Count', x='State', data=df_2016)\n",
    "plt.ylabel('Percentage')\n",
    "plt.title('Estimated number of homeless people in the United States in 2016, by state')\n",
    "\n",
    "plt.savefig(\"no_pop.pdf\")"
   ]
  },
  {
   "cell_type": "code",
   "execution_count": 1311,
   "metadata": {},
   "outputs": [
    {
     "data": {
      "image/png": "[encoded data removed]",
      "text/plain": [
       "<matplotlib.figure.Figure at 0x163c724a8>"
      ]
     },
     "metadata": {},
     "output_type": "display_data"
    }
   ],
   "source": [
    "#population standardized\n",
    "plt.figure(figsize=(18,6))\n",
    "sns.barplot(y='per', x='State', data=df_2016)\n",
    "plt.ylabel('Percentage')\n",
    "plt.title('Estimated number of homeless people in the United States in 2016, by state (population standardized)')\n",
    "\n",
    "plt.savefig(\"pop_stand.pdf\")"
   ]
  },
  {
   "cell_type": "code",
   "execution_count": 1306,
   "metadata": {},
   "outputs": [
    {
     "data": {
      "image/png": "[encoded data removed]",
      "text/plain": [
       "<matplotlib.figure.Figure at 0x16247df98>"
      ]
     },
     "metadata": {},
     "output_type": "display_data"
    }
   ],
   "source": [
    "#population standardized\n",
    "plt.figure(figsize=(18,6))\n",
    "sns.barplot(y='total_hom', x='State', data=df_2016)\n",
    "plt.ylabel('Percentage')\n",
    "plt.title('Percentage of total homeless, per state')\n",
    "\n",
    "plt.savefig(\"per_hom.pdf\")"
   ]
  },
  {
   "cell_type": "code",
   "execution_count": 1287,
   "metadata": {},
   "outputs": [
    {
     "data": {
      "text/plain": [
       "<matplotlib.text.Text at 0x16118d358>"
      ]
     },
     "execution_count": 1287,
     "metadata": {},
     "output_type": "execute_result"
    },
    {
     "data": {
      "image/png": "[encoded data removed]",
      "text/plain": [
       "<matplotlib.figure.Figure at 0x1610f7da0>"
      ]
     },
     "metadata": {},
     "output_type": "display_data"
    }
   ],
   "source": [
    "#stand\n",
    "plt.figure(figsize=(18,6))\n",
    "sns.barplot(y='Count', x='State', data=df_2016, order=[\"DC\", \"HI\", \"NY\", \"CA\", \"WA\"])\n",
    "plt.ylabel('Percentage')\n",
    "plt.title('Cities with the most homeless')"
   ]
  },
  {
   "cell_type": "code",
   "execution_count": 1288,
   "metadata": {},
   "outputs": [
    {
     "data": {
      "text/plain": [
       "<matplotlib.text.Text at 0x16157f0b8>"
      ]
     },
     "execution_count": 1288,
     "metadata": {},
     "output_type": "execute_result"
    },
    {
     "data": {
      "image/png": "[encoded data removed]",
      "text/plain": [
       "<matplotlib.figure.Figure at 0x1613a5898>"
      ]
     },
     "metadata": {},
     "output_type": "display_data"
    }
   ],
   "source": [
    "#stand\n",
    "plt.figure(figsize=(18,6))\n",
    "sns.barplot(y='per', x='State', data=df_2016, order=[\"DC\", \"HI\", \"NY\", \"CA\", \"WA\"])\n",
    "plt.ylabel('Percentage')\n",
    "plt.title('Cities with the most homeless')"
   ]
  },
  {
   "cell_type": "code",
   "execution_count": 1289,
   "metadata": {
    "collapsed": true
   },
   "outputs": [],
   "source": [
    "df2 = df[df['Measures']=='Total Homeless'].groupby(['State', 'Year'])[['Count']].sum()\n",
    "df3 = df2.reset_index()"
   ]
  },
  {
   "cell_type": "code",
   "execution_count": 1290,
   "metadata": {},
   "outputs": [
    {
     "data": {
      "text/html": [
       "<div>\n",
       "<style>\n",
       "    .dataframe thead tr:only-child th {\n",
       "        text-align: right;\n",
       "    }\n",
       "\n",
       "    .dataframe thead th {\n",
       "        text-align: left;\n",
       "    }\n",
       "\n",
       "    .dataframe tbody tr th {\n",
       "        vertical-align: top;\n",
       "    }\n",
       "</style>\n",
       "<table border=\"1\" class=\"dataframe\">\n",
       "  <thead>\n",
       "    <tr style=\"text-align: right;\">\n",
       "      <th></th>\n",
       "      <th>State</th>\n",
       "      <th>Year</th>\n",
       "      <th>Count</th>\n",
       "    </tr>\n",
       "  </thead>\n",
       "  <tbody>\n",
       "    <tr>\n",
       "      <th>0</th>\n",
       "      <td>AK</td>\n",
       "      <td>2007</td>\n",
       "      <td>1642</td>\n",
       "    </tr>\n",
       "    <tr>\n",
       "      <th>1</th>\n",
       "      <td>AK</td>\n",
       "      <td>2008</td>\n",
       "      <td>1646</td>\n",
       "    </tr>\n",
       "    <tr>\n",
       "      <th>2</th>\n",
       "      <td>AK</td>\n",
       "      <td>2009</td>\n",
       "      <td>1992</td>\n",
       "    </tr>\n",
       "    <tr>\n",
       "      <th>3</th>\n",
       "      <td>AK</td>\n",
       "      <td>2010</td>\n",
       "      <td>1863</td>\n",
       "    </tr>\n",
       "    <tr>\n",
       "      <th>4</th>\n",
       "      <td>AK</td>\n",
       "      <td>2011</td>\n",
       "      <td>2128</td>\n",
       "    </tr>\n",
       "  </tbody>\n",
       "</table>\n",
       "</div>"
      ],
      "text/plain": [
       "  State  Year  Count\n",
       "0    AK  2007   1642\n",
       "1    AK  2008   1646\n",
       "2    AK  2009   1992\n",
       "3    AK  2010   1863\n",
       "4    AK  2011   2128"
      ]
     },
     "execution_count": 1290,
     "metadata": {},
     "output_type": "execute_result"
    }
   ],
   "source": [
    "df3.head()"
   ]
  },
  {
   "cell_type": "code",
   "execution_count": 1291,
   "metadata": {},
   "outputs": [
    {
     "data": {
      "text/html": [
       "<div>\n",
       "<style>\n",
       "    .dataframe thead tr:only-child th {\n",
       "        text-align: right;\n",
       "    }\n",
       "\n",
       "    .dataframe thead th {\n",
       "        text-align: left;\n",
       "    }\n",
       "\n",
       "    .dataframe tbody tr th {\n",
       "        vertical-align: top;\n",
       "    }\n",
       "</style>\n",
       "<table border=\"1\" class=\"dataframe\">\n",
       "  <thead>\n",
       "    <tr style=\"text-align: right;\">\n",
       "      <th></th>\n",
       "      <th>State</th>\n",
       "      <th>Year</th>\n",
       "      <th>Count</th>\n",
       "    </tr>\n",
       "  </thead>\n",
       "  <tbody>\n",
       "    <tr>\n",
       "      <th>3</th>\n",
       "      <td>AK</td>\n",
       "      <td>2010</td>\n",
       "      <td>1863</td>\n",
       "    </tr>\n",
       "    <tr>\n",
       "      <th>9</th>\n",
       "      <td>AK</td>\n",
       "      <td>2016</td>\n",
       "      <td>1940</td>\n",
       "    </tr>\n",
       "    <tr>\n",
       "      <th>13</th>\n",
       "      <td>AL</td>\n",
       "      <td>2010</td>\n",
       "      <td>6046</td>\n",
       "    </tr>\n",
       "    <tr>\n",
       "      <th>19</th>\n",
       "      <td>AL</td>\n",
       "      <td>2016</td>\n",
       "      <td>4111</td>\n",
       "    </tr>\n",
       "    <tr>\n",
       "      <th>23</th>\n",
       "      <td>AR</td>\n",
       "      <td>2010</td>\n",
       "      <td>2762</td>\n",
       "    </tr>\n",
       "  </tbody>\n",
       "</table>\n",
       "</div>"
      ],
      "text/plain": [
       "   State  Year  Count\n",
       "3     AK  2010   1863\n",
       "9     AK  2016   1940\n",
       "13    AL  2010   6046\n",
       "19    AL  2016   4111\n",
       "23    AR  2010   2762"
      ]
     },
     "execution_count": 1291,
     "metadata": {},
     "output_type": "execute_result"
    }
   ],
   "source": [
    "df4 = df3[(df3['Year']=='2016') | (df3['Year']=='2010')]\n",
    "df4.head()"
   ]
  },
  {
   "cell_type": "code",
   "execution_count": 1292,
   "metadata": {},
   "outputs": [
    {
     "data": {
      "text/html": [
       "<div>\n",
       "<style>\n",
       "    .dataframe thead tr:only-child th {\n",
       "        text-align: right;\n",
       "    }\n",
       "\n",
       "    .dataframe thead th {\n",
       "        text-align: left;\n",
       "    }\n",
       "\n",
       "    .dataframe tbody tr th {\n",
       "        vertical-align: top;\n",
       "    }\n",
       "</style>\n",
       "<table border=\"1\" class=\"dataframe\">\n",
       "  <thead>\n",
       "    <tr style=\"text-align: right;\">\n",
       "      <th></th>\n",
       "      <th>Count</th>\n",
       "    </tr>\n",
       "  </thead>\n",
       "  <tbody>\n",
       "    <tr>\n",
       "      <th>3</th>\n",
       "      <td>0.0</td>\n",
       "    </tr>\n",
       "  </tbody>\n",
       "</table>\n",
       "</div>"
      ],
      "text/plain": [
       "   Count\n",
       "3    0.0"
      ]
     },
     "execution_count": 1292,
     "metadata": {},
     "output_type": "execute_result"
    }
   ],
   "source": [
    "diff = df4.groupby('State')[['Count']].diff().fillna(0)\n",
    "diff.head(1)"
   ]
  },
  {
   "cell_type": "code",
   "execution_count": 1293,
   "metadata": {},
   "outputs": [
    {
     "data": {
      "text/html": [
       "<div>\n",
       "<style>\n",
       "    .dataframe thead tr:only-child th {\n",
       "        text-align: right;\n",
       "    }\n",
       "\n",
       "    .dataframe thead th {\n",
       "        text-align: left;\n",
       "    }\n",
       "\n",
       "    .dataframe tbody tr th {\n",
       "        vertical-align: top;\n",
       "    }\n",
       "</style>\n",
       "<table border=\"1\" class=\"dataframe\">\n",
       "  <thead>\n",
       "    <tr style=\"text-align: right;\">\n",
       "      <th></th>\n",
       "      <th>Diff</th>\n",
       "    </tr>\n",
       "  </thead>\n",
       "  <tbody>\n",
       "    <tr>\n",
       "      <th>3</th>\n",
       "      <td>0.0</td>\n",
       "    </tr>\n",
       "  </tbody>\n",
       "</table>\n",
       "</div>"
      ],
      "text/plain": [
       "   Diff\n",
       "3   0.0"
      ]
     },
     "execution_count": 1293,
     "metadata": {},
     "output_type": "execute_result"
    }
   ],
   "source": [
    "diff.columns=['Diff']\n",
    "diff.head(1)"
   ]
  },
  {
   "cell_type": "code",
   "execution_count": 1294,
   "metadata": {},
   "outputs": [
    {
     "data": {
      "text/html": [
       "<div>\n",
       "<style>\n",
       "    .dataframe thead tr:only-child th {\n",
       "        text-align: right;\n",
       "    }\n",
       "\n",
       "    .dataframe thead th {\n",
       "        text-align: left;\n",
       "    }\n",
       "\n",
       "    .dataframe tbody tr th {\n",
       "        vertical-align: top;\n",
       "    }\n",
       "</style>\n",
       "<table border=\"1\" class=\"dataframe\">\n",
       "  <thead>\n",
       "    <tr style=\"text-align: right;\">\n",
       "      <th></th>\n",
       "      <th>Diff</th>\n",
       "      <th>State</th>\n",
       "      <th>Year</th>\n",
       "      <th>Count</th>\n",
       "    </tr>\n",
       "  </thead>\n",
       "  <tbody>\n",
       "    <tr>\n",
       "      <th>3</th>\n",
       "      <td>0.0</td>\n",
       "      <td>AK</td>\n",
       "      <td>2010</td>\n",
       "      <td>1863</td>\n",
       "    </tr>\n",
       "    <tr>\n",
       "      <th>9</th>\n",
       "      <td>77.0</td>\n",
       "      <td>AK</td>\n",
       "      <td>2016</td>\n",
       "      <td>1940</td>\n",
       "    </tr>\n",
       "  </tbody>\n",
       "</table>\n",
       "</div>"
      ],
      "text/plain": [
       "   Diff State  Year  Count\n",
       "3   0.0    AK  2010   1863\n",
       "9  77.0    AK  2016   1940"
      ]
     },
     "execution_count": 1294,
     "metadata": {},
     "output_type": "execute_result"
    }
   ],
   "source": [
    "df_join = diff.join(df4)\n",
    "df_join.head(2)"
   ]
  },
  {
   "cell_type": "code",
   "execution_count": 1295,
   "metadata": {},
   "outputs": [
    {
     "data": {
      "text/plain": [
       "State\n",
       "AK       77.0\n",
       "AL    -1935.0\n",
       "AR     -299.0\n",
       "AZ    -4004.0\n",
       "CA    -5338.0\n",
       "CO    -4932.0\n",
       "CT     -414.0\n",
       "DC     1811.0\n",
       "DE       88.0\n",
       "FL   -23992.0\n",
       "GA    -6927.0\n",
       "GU     -550.0\n",
       "HI     2087.0\n",
       "IA       50.0\n",
       "ID      -99.0\n",
       "IL    -2805.0\n",
       "IN     -654.0\n",
       "KS      199.0\n",
       "KY    -2386.0\n",
       "LA    -8488.0\n",
       "MA     2962.0\n",
       "MD    -3156.0\n",
       "ME     -138.0\n",
       "MI    -3742.0\n",
       "MN     -528.0\n",
       "MO    -1896.0\n",
       "MS    -1005.0\n",
       "MT     -197.0\n",
       "NC    -2632.0\n",
       "ND      124.0\n",
       "NE    -1123.0\n",
       "NH     -208.0\n",
       "NJ    -4842.0\n",
       "NM    -1212.0\n",
       "NV    -3807.0\n",
       "NY    20746.0\n",
       "OH    -2165.0\n",
       "OK    -1122.0\n",
       "OR    -6254.0\n",
       "PA      823.0\n",
       "PR      269.0\n",
       "RI     -122.0\n",
       "SC      578.0\n",
       "SD      341.0\n",
       "TN    -1497.0\n",
       "TX   -11999.0\n",
       "UT     -477.0\n",
       "VA    -2812.0\n",
       "VI     -146.0\n",
       "VT     -103.0\n",
       "WA    -2051.0\n",
       "WI     -648.0\n",
       "WV     -877.0\n",
       "WY      278.0\n",
       "Name: Diff, dtype: float64"
      ]
     },
     "execution_count": 1295,
     "metadata": {},
     "output_type": "execute_result"
    }
   ],
   "source": [
    "diff1 = df_join.groupby('State')['Diff'].sum()\n",
    "diff1"
   ]
  },
  {
   "cell_type": "code",
   "execution_count": 1296,
   "metadata": {},
   "outputs": [
    {
     "data": {
      "image/png": "[encoded data removed]",
      "text/plain": [
       "<matplotlib.figure.Figure at 0x161604780>"
      ]
     },
     "metadata": {},
     "output_type": "display_data"
    },
    {
     "data": {
      "text/plain": [
       "<matplotlib.figure.Figure at 0x1615bc6d8>"
      ]
     },
     "metadata": {},
     "output_type": "display_data"
    }
   ],
   "source": [
    "diff1.plot.bar(figsize=(14,6))\n",
    "plt.title('Difference in homeless population between 2010-2016, (number of homeless)')\n",
    "plt.show()\n",
    "\n",
    "plt.savefig(\"nyhomeless_diff.pdf\")"
   ]
  },
  {
   "cell_type": "code",
   "execution_count": 1297,
   "metadata": {},
   "outputs": [
    {
     "data": {
      "text/html": [
       "<div>\n",
       "<style>\n",
       "    .dataframe thead tr:only-child th {\n",
       "        text-align: right;\n",
       "    }\n",
       "\n",
       "    .dataframe thead th {\n",
       "        text-align: left;\n",
       "    }\n",
       "\n",
       "    .dataframe tbody tr th {\n",
       "        vertical-align: top;\n",
       "    }\n",
       "</style>\n",
       "<table border=\"1\" class=\"dataframe\">\n",
       "  <thead>\n",
       "    <tr style=\"text-align: right;\">\n",
       "      <th></th>\n",
       "      <th>state</th>\n",
       "      <th>Change in Total Homelessness, 2015-2016</th>\n",
       "      <th>Change in Total Homelessness, 2014-2016</th>\n",
       "      <th>Change in Total Homelessness, 2013-2016</th>\n",
       "      <th>Change in Total Homelessness, 2012-2016</th>\n",
       "      <th>Change in Total Homelessness, 2011-2016</th>\n",
       "      <th>Change in Total Homelessness, 2010-2016</th>\n",
       "      <th>Change in Total Homelessness, 2009-2016</th>\n",
       "      <th>Change in Total Homelessness, 2008-2016</th>\n",
       "      <th>Change in Total Homelessness, 2007-2016</th>\n",
       "    </tr>\n",
       "  </thead>\n",
       "  <tbody>\n",
       "    <tr>\n",
       "      <th>0</th>\n",
       "      <td>AK</td>\n",
       "      <td>-0.008180</td>\n",
       "      <td>0.087444</td>\n",
       "      <td>-0.003083</td>\n",
       "      <td>0.014114</td>\n",
       "      <td>-0.088346</td>\n",
       "      <td>0.041331</td>\n",
       "      <td>-0.026104</td>\n",
       "      <td>0.178615</td>\n",
       "      <td>0.181486</td>\n",
       "    </tr>\n",
       "    <tr>\n",
       "      <th>1</th>\n",
       "      <td>AL</td>\n",
       "      <td>0.035516</td>\n",
       "      <td>-0.098663</td>\n",
       "      <td>-0.123267</td>\n",
       "      <td>-0.210789</td>\n",
       "      <td>-0.260345</td>\n",
       "      <td>-0.320046</td>\n",
       "      <td>-0.323849</td>\n",
       "      <td>-0.236867</td>\n",
       "      <td>-0.245965</td>\n",
       "    </tr>\n",
       "    <tr>\n",
       "      <th>2</th>\n",
       "      <td>AR</td>\n",
       "      <td>-0.037891</td>\n",
       "      <td>-0.161104</td>\n",
       "      <td>-0.353882</td>\n",
       "      <td>-0.415520</td>\n",
       "      <td>-0.280666</td>\n",
       "      <td>-0.108255</td>\n",
       "      <td>-0.136396</td>\n",
       "      <td>-0.243318</td>\n",
       "      <td>-0.357925</td>\n",
       "    </tr>\n",
       "    <tr>\n",
       "      <th>3</th>\n",
       "      <td>AZ</td>\n",
       "      <td>-0.019099</td>\n",
       "      <td>-0.075083</td>\n",
       "      <td>-0.080951</td>\n",
       "      <td>-0.141125</td>\n",
       "      <td>-0.075876</td>\n",
       "      <td>-0.292028</td>\n",
       "      <td>-0.340602</td>\n",
       "      <td>-0.222694</td>\n",
       "      <td>-0.337225</td>\n",
       "    </tr>\n",
       "    <tr>\n",
       "      <th>4</th>\n",
       "      <td>CA</td>\n",
       "      <td>0.020771</td>\n",
       "      <td>0.036770</td>\n",
       "      <td>-0.003458</td>\n",
       "      <td>-0.016287</td>\n",
       "      <td>-0.055831</td>\n",
       "      <td>-0.043230</td>\n",
       "      <td>-0.044761</td>\n",
       "      <td>-0.134687</td>\n",
       "      <td>-0.149972</td>\n",
       "    </tr>\n",
       "  </tbody>\n",
       "</table>\n",
       "</div>"
      ],
      "text/plain": [
       "  state  Change in Total Homelessness, 2015-2016  \\\n",
       "0    AK                                -0.008180   \n",
       "1    AL                                 0.035516   \n",
       "2    AR                                -0.037891   \n",
       "3    AZ                                -0.019099   \n",
       "4    CA                                 0.020771   \n",
       "\n",
       "   Change in Total Homelessness, 2014-2016  \\\n",
       "0                                 0.087444   \n",
       "1                                -0.098663   \n",
       "2                                -0.161104   \n",
       "3                                -0.075083   \n",
       "4                                 0.036770   \n",
       "\n",
       "   Change in Total Homelessness, 2013-2016  \\\n",
       "0                                -0.003083   \n",
       "1                                -0.123267   \n",
       "2                                -0.353882   \n",
       "3                                -0.080951   \n",
       "4                                -0.003458   \n",
       "\n",
       "   Change in Total Homelessness, 2012-2016  \\\n",
       "0                                 0.014114   \n",
       "1                                -0.210789   \n",
       "2                                -0.415520   \n",
       "3                                -0.141125   \n",
       "4                                -0.016287   \n",
       "\n",
       "   Change in Total Homelessness, 2011-2016  \\\n",
       "0                                -0.088346   \n",
       "1                                -0.260345   \n",
       "2                                -0.280666   \n",
       "3                                -0.075876   \n",
       "4                                -0.055831   \n",
       "\n",
       "   Change in Total Homelessness, 2010-2016  \\\n",
       "0                                 0.041331   \n",
       "1                                -0.320046   \n",
       "2                                -0.108255   \n",
       "3                                -0.292028   \n",
       "4                                -0.043230   \n",
       "\n",
       "   Change in Total Homelessness, 2009-2016  \\\n",
       "0                                -0.026104   \n",
       "1                                -0.323849   \n",
       "2                                -0.136396   \n",
       "3                                -0.340602   \n",
       "4                                -0.044761   \n",
       "\n",
       "   Change in Total Homelessness, 2008-2016  \\\n",
       "0                                 0.178615   \n",
       "1                                -0.236867   \n",
       "2                                -0.243318   \n",
       "3                                -0.222694   \n",
       "4                                -0.134687   \n",
       "\n",
       "   Change in Total Homelessness, 2007-2016  \n",
       "0                                 0.181486  \n",
       "1                                -0.245965  \n",
       "2                                -0.357925  \n",
       "3                                -0.337225  \n",
       "4                                -0.149972  "
      ]
     },
     "execution_count": 1297,
     "metadata": {},
     "output_type": "execute_result"
    }
   ],
   "source": [
    "states.head()"
   ]
  },
  {
   "cell_type": "code",
   "execution_count": 1298,
   "metadata": {
    "collapsed": true
   },
   "outputs": [],
   "source": [
    "states.drop(['Change in Total Homelessness, 2015-2016', 'Change in Total Homelessness, 2014-2016','Change in Total Homelessness, 2013-2016', 'Change in Total Homelessness, 2012-2016', 'Change in Total Homelessness, 2011-2016', 'Change in Total Homelessness, 2009-2016', 'Change in Total Homelessness, 2008-2016', 'Change in Total Homelessness, 2007-2016'], axis=1, inplace=True)"
   ]
  },
  {
   "cell_type": "code",
   "execution_count": 1299,
   "metadata": {},
   "outputs": [
    {
     "data": {
      "text/html": [
       "<div>\n",
       "<style>\n",
       "    .dataframe thead tr:only-child th {\n",
       "        text-align: right;\n",
       "    }\n",
       "\n",
       "    .dataframe thead th {\n",
       "        text-align: left;\n",
       "    }\n",
       "\n",
       "    .dataframe tbody tr th {\n",
       "        vertical-align: top;\n",
       "    }\n",
       "</style>\n",
       "<table border=\"1\" class=\"dataframe\">\n",
       "  <thead>\n",
       "    <tr style=\"text-align: right;\">\n",
       "      <th></th>\n",
       "      <th>state</th>\n",
       "      <th>Change in Total Homelessness, 2010-2016</th>\n",
       "    </tr>\n",
       "  </thead>\n",
       "  <tbody>\n",
       "    <tr>\n",
       "      <th>0</th>\n",
       "      <td>AK</td>\n",
       "      <td>0.041331</td>\n",
       "    </tr>\n",
       "    <tr>\n",
       "      <th>1</th>\n",
       "      <td>AL</td>\n",
       "      <td>-0.320046</td>\n",
       "    </tr>\n",
       "    <tr>\n",
       "      <th>2</th>\n",
       "      <td>AR</td>\n",
       "      <td>-0.108255</td>\n",
       "    </tr>\n",
       "    <tr>\n",
       "      <th>3</th>\n",
       "      <td>AZ</td>\n",
       "      <td>-0.292028</td>\n",
       "    </tr>\n",
       "    <tr>\n",
       "      <th>4</th>\n",
       "      <td>CA</td>\n",
       "      <td>-0.043230</td>\n",
       "    </tr>\n",
       "  </tbody>\n",
       "</table>\n",
       "</div>"
      ],
      "text/plain": [
       "  state  Change in Total Homelessness, 2010-2016\n",
       "0    AK                                 0.041331\n",
       "1    AL                                -0.320046\n",
       "2    AR                                -0.108255\n",
       "3    AZ                                -0.292028\n",
       "4    CA                                -0.043230"
      ]
     },
     "execution_count": 1299,
     "metadata": {},
     "output_type": "execute_result"
    }
   ],
   "source": [
    "states.head()"
   ]
  },
  {
   "cell_type": "code",
   "execution_count": 1300,
   "metadata": {},
   "outputs": [
    {
     "data": {
      "text/html": [
       "<div>\n",
       "<style>\n",
       "    .dataframe thead tr:only-child th {\n",
       "        text-align: right;\n",
       "    }\n",
       "\n",
       "    .dataframe thead th {\n",
       "        text-align: left;\n",
       "    }\n",
       "\n",
       "    .dataframe tbody tr th {\n",
       "        vertical-align: top;\n",
       "    }\n",
       "</style>\n",
       "<table border=\"1\" class=\"dataframe\">\n",
       "  <thead>\n",
       "    <tr style=\"text-align: right;\">\n",
       "      <th></th>\n",
       "      <th>Diff</th>\n",
       "      <th>State</th>\n",
       "      <th>Year</th>\n",
       "      <th>Count</th>\n",
       "      <th>state</th>\n",
       "      <th>Change in Total Homelessness, 2010-2016</th>\n",
       "    </tr>\n",
       "  </thead>\n",
       "  <tbody>\n",
       "    <tr>\n",
       "      <th>0</th>\n",
       "      <td>0.0</td>\n",
       "      <td>AK</td>\n",
       "      <td>2010</td>\n",
       "      <td>1863</td>\n",
       "      <td>AK</td>\n",
       "      <td>0.041331</td>\n",
       "    </tr>\n",
       "    <tr>\n",
       "      <th>1</th>\n",
       "      <td>77.0</td>\n",
       "      <td>AK</td>\n",
       "      <td>2016</td>\n",
       "      <td>1940</td>\n",
       "      <td>AK</td>\n",
       "      <td>0.041331</td>\n",
       "    </tr>\n",
       "    <tr>\n",
       "      <th>2</th>\n",
       "      <td>0.0</td>\n",
       "      <td>AL</td>\n",
       "      <td>2010</td>\n",
       "      <td>6046</td>\n",
       "      <td>AL</td>\n",
       "      <td>-0.320046</td>\n",
       "    </tr>\n",
       "    <tr>\n",
       "      <th>3</th>\n",
       "      <td>-1935.0</td>\n",
       "      <td>AL</td>\n",
       "      <td>2016</td>\n",
       "      <td>4111</td>\n",
       "      <td>AL</td>\n",
       "      <td>-0.320046</td>\n",
       "    </tr>\n",
       "    <tr>\n",
       "      <th>4</th>\n",
       "      <td>0.0</td>\n",
       "      <td>AR</td>\n",
       "      <td>2010</td>\n",
       "      <td>2762</td>\n",
       "      <td>AR</td>\n",
       "      <td>-0.108255</td>\n",
       "    </tr>\n",
       "  </tbody>\n",
       "</table>\n",
       "</div>"
      ],
      "text/plain": [
       "     Diff State  Year  Count state  Change in Total Homelessness, 2010-2016\n",
       "0     0.0    AK  2010   1863    AK                                 0.041331\n",
       "1    77.0    AK  2016   1940    AK                                 0.041331\n",
       "2     0.0    AL  2010   6046    AL                                -0.320046\n",
       "3 -1935.0    AL  2016   4111    AL                                -0.320046\n",
       "4     0.0    AR  2010   2762    AR                                -0.108255"
      ]
     },
     "execution_count": 1300,
     "metadata": {},
     "output_type": "execute_result"
    }
   ],
   "source": [
    "combined_df = df_join.merge(states, left_on=\"State\", right_on=\"state\")\n",
    "combined_df.head()"
   ]
  },
  {
   "cell_type": "code",
   "execution_count": 1316,
   "metadata": {},
   "outputs": [
    {
     "data": {
      "text/plain": [
       "State\n",
       "AK    0.082662\n",
       "AL   -0.640092\n",
       "AR   -0.216510\n",
       "AZ   -0.584056\n",
       "CA   -0.086460\n",
       "CO   -0.637126\n",
       "CT   -0.191844\n",
       "DC    0.553907\n",
       "DE    0.179226\n",
       "FL   -0.833764\n",
       "GA   -0.698428\n",
       "GU   -0.672782\n",
       "HI    0.715461\n",
       "IA    0.033179\n",
       "ID   -0.084398\n",
       "IL   -0.389718\n",
       "IN   -0.202728\n",
       "KS    0.228261\n",
       "KY   -0.720520\n",
       "LA   -1.360038\n",
       "MA    0.355881\n",
       "MD   -0.582020\n",
       "ME   -0.116016\n",
       "MI   -0.573136\n",
       "MN   -0.134198\n",
       "MO   -0.474760\n",
       "MS   -0.732774\n",
       "MT   -0.243962\n",
       "NC   -0.431794\n",
       "ND    0.310388\n",
       "NE   -0.579314\n",
       "NH   -0.264294\n",
       "NJ   -0.704958\n",
       "NM   -0.697554\n",
       "NV   -0.679518\n",
       "NY    0.632442\n",
       "OH   -0.344498\n",
       "OK   -0.429146\n",
       "OR   -0.641700\n",
       "PA    0.113392\n",
       "PR    0.129670\n",
       "RI   -0.190328\n",
       "SC    0.258440\n",
       "SD    0.932969\n",
       "TN   -0.291358\n",
       "TX   -0.683294\n",
       "UT   -0.290500\n",
       "VA   -0.619384\n",
       "VI   -0.599590\n",
       "VT   -0.168852\n",
       "WA   -0.179298\n",
       "WI   -0.204642\n",
       "WV   -0.774734\n",
       "WY    0.960276\n",
       "Name: Change in Total Homelessness, 2010-2016, dtype: float64"
      ]
     },
     "execution_count": 1316,
     "metadata": {},
     "output_type": "execute_result"
    }
   ],
   "source": [
    "diff2 = combined_df.groupby('State')['Change in Total Homelessness, 2010-2016'].sum()\n",
    "diff2"
   ]
  },
  {
   "cell_type": "code",
   "execution_count": 1302,
   "metadata": {},
   "outputs": [
    {
     "data": {
      "image/png": "[encoded data removed]",
      "text/plain": [
       "<matplotlib.figure.Figure at 0x16119cfd0>"
      ]
     },
     "metadata": {},
     "output_type": "display_data"
    },
    {
     "data": {
      "text/plain": [
       "<matplotlib.figure.Figure at 0x161382d68>"
      ]
     },
     "metadata": {},
     "output_type": "display_data"
    }
   ],
   "source": [
    "diff2.plot.bar(figsize=(14,6))\n",
    "plt.title('Difference in homeless population between 2010-2016')\n",
    "plt.show()\n",
    "\n",
    "plt.savefig(\"nyhomeless_diff2.pdf\")"
   ]
  },
  {
   "cell_type": "code",
   "execution_count": 1312,
   "metadata": {},
   "outputs": [
    {
     "data": {
      "image/png": "[encoded data removed]",
      "text/plain": [
       "<matplotlib.figure.Figure at 0x1640f3ba8>"
      ]
     },
     "metadata": {},
     "output_type": "display_data"
    }
   ],
   "source": [
    "\n",
    "plt.figure(figsize=(18,6))\n",
    "sns.barplot(y='Change in Total Homelessness, 2010-2016', x='State', data=combined_df)\n",
    "plt.ylabel('Percentage')\n",
    "plt.title('Difference in homeless population between 2010-2016')\n",
    "\n",
    "plt.savefig(\"pop_stand2.pdf\")"
   ]
  }
 ],
 "metadata": {
  "kernelspec": {
   "display_name": "Python 3",
   "language": "python",
   "name": "python3"
  },
  "language_info": {
   "codemirror_mode": {
    "name": "ipython",
    "version": 3
   },
   "file_extension": ".py",
   "mimetype": "text/x-python",
   "name": "python",
   "nbconvert_exporter": "python",
   "pygments_lexer": "ipython3",
   "version": "3.6.2"
  }
 },
 "nbformat": 4,
 "nbformat_minor": 2
}
