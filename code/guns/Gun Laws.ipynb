{
 "cells": [
  {
   "cell_type": "code",
   "execution_count": 1,
   "metadata": {
    "collapsed": true
   },
   "outputs": [],
   "source": [
    "from urllib.request import urlopen\n",
    "from bs4 import BeautifulSoup\n",
    "%matplotlib inline\n",
    "import pandas as pd\n",
    "import matplotlib.pyplot as plt\n",
    "import matplotlib\n",
    "matplotlib.rcParams['pdf.fonttype'] = 42\n",
    "import numpy as np\n",
    "import seaborn as sns\n"
   ]
  },
  {
   "cell_type": "code",
   "execution_count": 2,
   "metadata": {
    "collapsed": true
   },
   "outputs": [],
   "source": [
    "df = pd.read_csv(\"SHR1976_2015.csv\", dtype={\"VicAge\": object, \"OffAge\": object}, na_values=['999','Unknown','0'])"
   ]
  },
  {
   "cell_type": "code",
   "execution_count": 3,
   "metadata": {
    "collapsed": true
   },
   "outputs": [],
   "source": [
    "pd.set_option('display.max_columns', 100)"
   ]
  },
  {
   "cell_type": "code",
   "execution_count": 4,
   "metadata": {},
   "outputs": [
    {
     "data": {
      "text/html": [
       "<div>\n",
       "<style>\n",
       "    .dataframe thead tr:only-child th {\n",
       "        text-align: right;\n",
       "    }\n",
       "\n",
       "    .dataframe thead th {\n",
       "        text-align: left;\n",
       "    }\n",
       "\n",
       "    .dataframe tbody tr th {\n",
       "        vertical-align: top;\n",
       "    }\n",
       "</style>\n",
       "<table border=\"1\" class=\"dataframe\">\n",
       "  <thead>\n",
       "    <tr style=\"text-align: right;\">\n",
       "      <th></th>\n",
       "      <th>ID</th>\n",
       "      <th>CNTYFIPS</th>\n",
       "      <th>Ori</th>\n",
       "      <th>State</th>\n",
       "      <th>Agency</th>\n",
       "      <th>Agentype</th>\n",
       "      <th>Source</th>\n",
       "      <th>Solved</th>\n",
       "      <th>Year</th>\n",
       "      <th>StateName</th>\n",
       "      <th>Month</th>\n",
       "      <th>Incident</th>\n",
       "      <th>ActionType</th>\n",
       "      <th>Homicide</th>\n",
       "      <th>Situation</th>\n",
       "      <th>VicAge</th>\n",
       "      <th>VicSex</th>\n",
       "      <th>VicRace</th>\n",
       "      <th>VicEthnic</th>\n",
       "      <th>OffAge</th>\n",
       "      <th>OffSex</th>\n",
       "      <th>OffRace</th>\n",
       "      <th>OffEthnic</th>\n",
       "      <th>Weapon</th>\n",
       "      <th>Relationship</th>\n",
       "      <th>Circumstance</th>\n",
       "      <th>Subcircum</th>\n",
       "      <th>VicCount</th>\n",
       "      <th>OffCount</th>\n",
       "      <th>FileDate</th>\n",
       "      <th>fstate</th>\n",
       "      <th>MSA</th>\n",
       "      <th>StateName2</th>\n",
       "    </tr>\n",
       "  </thead>\n",
       "  <tbody>\n",
       "    <tr>\n",
       "      <th>0</th>\n",
       "      <td>197601001AKASP00</td>\n",
       "      <td>Juneau, AK</td>\n",
       "      <td>AKASP00</td>\n",
       "      <td>Alaska</td>\n",
       "      <td>State Troopers</td>\n",
       "      <td>Primary state LE</td>\n",
       "      <td>FBI</td>\n",
       "      <td>Yes</td>\n",
       "      <td>1976</td>\n",
       "      <td>ALASKA</td>\n",
       "      <td>January</td>\n",
       "      <td>1.0</td>\n",
       "      <td>Normal update</td>\n",
       "      <td>Murder and non-negligent manslaughter</td>\n",
       "      <td>Single victim/single offender</td>\n",
       "      <td>48</td>\n",
       "      <td>Male</td>\n",
       "      <td>American Indian or Alaskan Native</td>\n",
       "      <td>Unknown or not reported</td>\n",
       "      <td>55</td>\n",
       "      <td>Female</td>\n",
       "      <td>American Indian or Alaskan Native</td>\n",
       "      <td>Unknown or not reported</td>\n",
       "      <td>Knife or cutting instrument</td>\n",
       "      <td>Husband</td>\n",
       "      <td>Other arguments</td>\n",
       "      <td>NaN</td>\n",
       "      <td>NaN</td>\n",
       "      <td>NaN</td>\n",
       "      <td>30180</td>\n",
       "      <td>Alaska</td>\n",
       "      <td>Rural Alaska</td>\n",
       "      <td>ALASKA</td>\n",
       "    </tr>\n",
       "    <tr>\n",
       "      <th>1</th>\n",
       "      <td>197601001AL00102</td>\n",
       "      <td>Jefferson, AL</td>\n",
       "      <td>AL00102</td>\n",
       "      <td>Alabama</td>\n",
       "      <td>Birmingham</td>\n",
       "      <td>Municipal police</td>\n",
       "      <td>FBI</td>\n",
       "      <td>Yes</td>\n",
       "      <td>1976</td>\n",
       "      <td>ALA</td>\n",
       "      <td>January</td>\n",
       "      <td>1.0</td>\n",
       "      <td>Normal update</td>\n",
       "      <td>Murder and non-negligent manslaughter</td>\n",
       "      <td>Single victim/single offender</td>\n",
       "      <td>65</td>\n",
       "      <td>Male</td>\n",
       "      <td>Black</td>\n",
       "      <td>Unknown or not reported</td>\n",
       "      <td>67</td>\n",
       "      <td>Male</td>\n",
       "      <td>Black</td>\n",
       "      <td>Unknown or not reported</td>\n",
       "      <td>Shotgun</td>\n",
       "      <td>Acquaintance</td>\n",
       "      <td>Felon killed by private citizen</td>\n",
       "      <td>Felon killed in commission of a crime</td>\n",
       "      <td>NaN</td>\n",
       "      <td>NaN</td>\n",
       "      <td>30180</td>\n",
       "      <td>Alabama</td>\n",
       "      <td>Birmingham-Hoover, AL</td>\n",
       "      <td>ALA</td>\n",
       "    </tr>\n",
       "    <tr>\n",
       "      <th>2</th>\n",
       "      <td>197601001AL00104</td>\n",
       "      <td>Jefferson, AL</td>\n",
       "      <td>AL00104</td>\n",
       "      <td>Alabama</td>\n",
       "      <td>Fairfield</td>\n",
       "      <td>Municipal police</td>\n",
       "      <td>FBI</td>\n",
       "      <td>Yes</td>\n",
       "      <td>1976</td>\n",
       "      <td>ALA</td>\n",
       "      <td>January</td>\n",
       "      <td>1.0</td>\n",
       "      <td>Normal update</td>\n",
       "      <td>Murder and non-negligent manslaughter</td>\n",
       "      <td>Single victim/single offender</td>\n",
       "      <td>45</td>\n",
       "      <td>Female</td>\n",
       "      <td>Black</td>\n",
       "      <td>Unknown or not reported</td>\n",
       "      <td>53</td>\n",
       "      <td>Male</td>\n",
       "      <td>Black</td>\n",
       "      <td>Unknown or not reported</td>\n",
       "      <td>Shotgun</td>\n",
       "      <td>Wife</td>\n",
       "      <td>Other</td>\n",
       "      <td>NaN</td>\n",
       "      <td>NaN</td>\n",
       "      <td>NaN</td>\n",
       "      <td>30180</td>\n",
       "      <td>Alabama</td>\n",
       "      <td>Birmingham-Hoover, AL</td>\n",
       "      <td>ALA</td>\n",
       "    </tr>\n",
       "    <tr>\n",
       "      <th>3</th>\n",
       "      <td>197601001AL00106</td>\n",
       "      <td>Jefferson, AL</td>\n",
       "      <td>AL00106</td>\n",
       "      <td>Alabama</td>\n",
       "      <td>Leeds</td>\n",
       "      <td>Municipal police</td>\n",
       "      <td>FBI</td>\n",
       "      <td>Yes</td>\n",
       "      <td>1976</td>\n",
       "      <td>ALA</td>\n",
       "      <td>January</td>\n",
       "      <td>1.0</td>\n",
       "      <td>Normal update</td>\n",
       "      <td>Murder and non-negligent manslaughter</td>\n",
       "      <td>Single victim/single offender</td>\n",
       "      <td>43</td>\n",
       "      <td>Male</td>\n",
       "      <td>Black</td>\n",
       "      <td>Unknown or not reported</td>\n",
       "      <td>35</td>\n",
       "      <td>Female</td>\n",
       "      <td>Black</td>\n",
       "      <td>Unknown or not reported</td>\n",
       "      <td>Knife or cutting instrument</td>\n",
       "      <td>Brother</td>\n",
       "      <td>Other arguments</td>\n",
       "      <td>NaN</td>\n",
       "      <td>NaN</td>\n",
       "      <td>NaN</td>\n",
       "      <td>30180</td>\n",
       "      <td>Alabama</td>\n",
       "      <td>Birmingham-Hoover, AL</td>\n",
       "      <td>ALA</td>\n",
       "    </tr>\n",
       "    <tr>\n",
       "      <th>4</th>\n",
       "      <td>197601001AL00201</td>\n",
       "      <td>Mobile, AL</td>\n",
       "      <td>AL00201</td>\n",
       "      <td>Alabama</td>\n",
       "      <td>Mobile</td>\n",
       "      <td>Municipal police</td>\n",
       "      <td>FBI</td>\n",
       "      <td>Yes</td>\n",
       "      <td>1976</td>\n",
       "      <td>ALA</td>\n",
       "      <td>January</td>\n",
       "      <td>1.0</td>\n",
       "      <td>Adjustment</td>\n",
       "      <td>Murder and non-negligent manslaughter</td>\n",
       "      <td>Single victim/single offender</td>\n",
       "      <td>35</td>\n",
       "      <td>Male</td>\n",
       "      <td>White</td>\n",
       "      <td>Unknown or not reported</td>\n",
       "      <td>25</td>\n",
       "      <td>Female</td>\n",
       "      <td>White</td>\n",
       "      <td>Unknown or not reported</td>\n",
       "      <td>Strangulation - hanging</td>\n",
       "      <td>Acquaintance</td>\n",
       "      <td>Circumstances undetermined</td>\n",
       "      <td>NaN</td>\n",
       "      <td>NaN</td>\n",
       "      <td>NaN</td>\n",
       "      <td>30180</td>\n",
       "      <td>Alabama</td>\n",
       "      <td>Mobile, AL</td>\n",
       "      <td>ALA</td>\n",
       "    </tr>\n",
       "  </tbody>\n",
       "</table>\n",
       "</div>"
      ],
      "text/plain": [
       "                 ID       CNTYFIPS      Ori    State          Agency  \\\n",
       "0  197601001AKASP00     Juneau, AK  AKASP00   Alaska  State Troopers   \n",
       "1  197601001AL00102  Jefferson, AL  AL00102  Alabama      Birmingham   \n",
       "2  197601001AL00104  Jefferson, AL  AL00104  Alabama       Fairfield   \n",
       "3  197601001AL00106  Jefferson, AL  AL00106  Alabama           Leeds   \n",
       "4  197601001AL00201     Mobile, AL  AL00201  Alabama          Mobile   \n",
       "\n",
       "           Agentype Source Solved  Year StateName    Month  Incident  \\\n",
       "0  Primary state LE    FBI    Yes  1976    ALASKA  January       1.0   \n",
       "1  Municipal police    FBI    Yes  1976       ALA  January       1.0   \n",
       "2  Municipal police    FBI    Yes  1976       ALA  January       1.0   \n",
       "3  Municipal police    FBI    Yes  1976       ALA  January       1.0   \n",
       "4  Municipal police    FBI    Yes  1976       ALA  January       1.0   \n",
       "\n",
       "      ActionType                               Homicide  \\\n",
       "0  Normal update  Murder and non-negligent manslaughter   \n",
       "1  Normal update  Murder and non-negligent manslaughter   \n",
       "2  Normal update  Murder and non-negligent manslaughter   \n",
       "3  Normal update  Murder and non-negligent manslaughter   \n",
       "4     Adjustment  Murder and non-negligent manslaughter   \n",
       "\n",
       "                       Situation VicAge  VicSex  \\\n",
       "0  Single victim/single offender     48    Male   \n",
       "1  Single victim/single offender     65    Male   \n",
       "2  Single victim/single offender     45  Female   \n",
       "3  Single victim/single offender     43    Male   \n",
       "4  Single victim/single offender     35    Male   \n",
       "\n",
       "                             VicRace                VicEthnic OffAge  OffSex  \\\n",
       "0  American Indian or Alaskan Native  Unknown or not reported     55  Female   \n",
       "1                              Black  Unknown or not reported     67    Male   \n",
       "2                              Black  Unknown or not reported     53    Male   \n",
       "3                              Black  Unknown or not reported     35  Female   \n",
       "4                              White  Unknown or not reported     25  Female   \n",
       "\n",
       "                             OffRace                OffEthnic  \\\n",
       "0  American Indian or Alaskan Native  Unknown or not reported   \n",
       "1                              Black  Unknown or not reported   \n",
       "2                              Black  Unknown or not reported   \n",
       "3                              Black  Unknown or not reported   \n",
       "4                              White  Unknown or not reported   \n",
       "\n",
       "                        Weapon  Relationship                     Circumstance  \\\n",
       "0  Knife or cutting instrument       Husband                  Other arguments   \n",
       "1                      Shotgun  Acquaintance  Felon killed by private citizen   \n",
       "2                      Shotgun          Wife                            Other   \n",
       "3  Knife or cutting instrument       Brother                  Other arguments   \n",
       "4      Strangulation - hanging  Acquaintance       Circumstances undetermined   \n",
       "\n",
       "                               Subcircum  VicCount  OffCount  FileDate  \\\n",
       "0                                    NaN       NaN       NaN     30180   \n",
       "1  Felon killed in commission of a crime       NaN       NaN     30180   \n",
       "2                                    NaN       NaN       NaN     30180   \n",
       "3                                    NaN       NaN       NaN     30180   \n",
       "4                                    NaN       NaN       NaN     30180   \n",
       "\n",
       "    fstate                    MSA StateName2  \n",
       "0   Alaska           Rural Alaska     ALASKA  \n",
       "1  Alabama  Birmingham-Hoover, AL        ALA  \n",
       "2  Alabama  Birmingham-Hoover, AL        ALA  \n",
       "3  Alabama  Birmingham-Hoover, AL        ALA  \n",
       "4  Alabama             Mobile, AL        ALA  "
      ]
     },
     "execution_count": 4,
     "metadata": {},
     "output_type": "execute_result"
    }
   ],
   "source": [
    "df.head()"
   ]
  },
  {
   "cell_type": "code",
   "execution_count": 5,
   "metadata": {},
   "outputs": [
    {
     "data": {
      "text/plain": [
       "(732171, 33)"
      ]
     },
     "execution_count": 5,
     "metadata": {},
     "output_type": "execute_result"
    }
   ],
   "source": [
    "df.shape"
   ]
  },
  {
   "cell_type": "code",
   "execution_count": 6,
   "metadata": {},
   "outputs": [
    {
     "data": {
      "text/plain": [
       "ID               object\n",
       "CNTYFIPS         object\n",
       "Ori              object\n",
       "State            object\n",
       "Agency           object\n",
       "Agentype         object\n",
       "Source           object\n",
       "Solved           object\n",
       "Year              int64\n",
       "StateName        object\n",
       "Month            object\n",
       "Incident        float64\n",
       "ActionType       object\n",
       "Homicide         object\n",
       "Situation        object\n",
       "VicAge           object\n",
       "VicSex           object\n",
       "VicRace          object\n",
       "VicEthnic        object\n",
       "OffAge           object\n",
       "OffSex           object\n",
       "OffRace          object\n",
       "OffEthnic        object\n",
       "Weapon           object\n",
       "Relationship     object\n",
       "Circumstance     object\n",
       "Subcircum        object\n",
       "VicCount        float64\n",
       "OffCount        float64\n",
       "FileDate          int64\n",
       "fstate           object\n",
       "MSA              object\n",
       "StateName2       object\n",
       "dtype: object"
      ]
     },
     "execution_count": 6,
     "metadata": {},
     "output_type": "execute_result"
    }
   ],
   "source": [
    "df.dtypes"
   ]
  },
  {
   "cell_type": "code",
   "execution_count": 7,
   "metadata": {},
   "outputs": [
    {
     "data": {
      "text/plain": [
       "array(['Knife or cutting instrument', 'Shotgun', 'Strangulation - hanging',\n",
       "       'Rifle', 'Handgun - pistol, revolver, etc',\n",
       "       'Personal weapons, includes beating', 'Fire',\n",
       "       'Other or type unknown', 'Firearm, type not stated',\n",
       "       'Asphyxiation - includes death by gas',\n",
       "       'Narcotics or drugs, sleeping pills',\n",
       "       'Blunt object - hammer, club, etc', 'Drowning',\n",
       "       'Pushed or thrown out window', 'Other gun',\n",
       "       'Poison - does not include gas', 'Explosives'], dtype=object)"
      ]
     },
     "execution_count": 7,
     "metadata": {},
     "output_type": "execute_result"
    }
   ],
   "source": [
    "df['Weapon'].unique()"
   ]
  },
  {
   "cell_type": "code",
   "execution_count": 8,
   "metadata": {
    "collapsed": true
   },
   "outputs": [],
   "source": [
    "df = df[df['Homicide'] == 'Murder and non-negligent manslaughter']"
   ]
  },
  {
   "cell_type": "code",
   "execution_count": 9,
   "metadata": {},
   "outputs": [
    {
     "data": {
      "text/plain": [
       "(721898, 33)"
      ]
     },
     "execution_count": 9,
     "metadata": {},
     "output_type": "execute_result"
    }
   ],
   "source": [
    "df.shape"
   ]
  },
  {
   "cell_type": "code",
   "execution_count": 10,
   "metadata": {
    "collapsed": true
   },
   "outputs": [],
   "source": [
    "#df = df[df['Solved'] == \"Yes\"]"
   ]
  },
  {
   "cell_type": "code",
   "execution_count": 11,
   "metadata": {
    "collapsed": true
   },
   "outputs": [],
   "source": [
    "#df['VicAge'] = df['VicAge'].str.replace(\"99 years old or more\",\"99\").astype(float)"
   ]
  },
  {
   "cell_type": "code",
   "execution_count": 12,
   "metadata": {
    "collapsed": true
   },
   "outputs": [],
   "source": [
    "#df['OffAge'] = df['OffAge'].str.replace(\"1 year old\",\"1\").astype(float)"
   ]
  },
  {
   "cell_type": "code",
   "execution_count": 13,
   "metadata": {
    "collapsed": true
   },
   "outputs": [],
   "source": [
    "#df = df[df['OffAge'] >= 4]"
   ]
  },
  {
   "cell_type": "code",
   "execution_count": 14,
   "metadata": {
    "collapsed": true
   },
   "outputs": [],
   "source": [
    "#df[['VicAge', 'OffAge']] = df[['VicAge', 'OffAge']].astype(int)"
   ]
  },
  {
   "cell_type": "code",
   "execution_count": 15,
   "metadata": {
    "collapsed": true
   },
   "outputs": [],
   "source": [
    "df = df.replace('Unknown', np.nan)"
   ]
  },
  {
   "cell_type": "code",
   "execution_count": 16,
   "metadata": {},
   "outputs": [
    {
     "data": {
      "text/plain": [
       "(721898, 33)"
      ]
     },
     "execution_count": 16,
     "metadata": {},
     "output_type": "execute_result"
    }
   ],
   "source": [
    "df.shape"
   ]
  },
  {
   "cell_type": "code",
   "execution_count": 17,
   "metadata": {
    "collapsed": true
   },
   "outputs": [],
   "source": [
    "df.drop(['CNTYFIPS', 'Ori','Agency', 'Agentype', 'StateName', 'VicEthnic', 'OffEthnic','Subcircum', 'FileDate', 'fstate','MSA', 'StateName2','VicCount','OffCount'],axis=1,inplace=True)"
   ]
  },
  {
   "cell_type": "code",
   "execution_count": 18,
   "metadata": {
    "collapsed": true
   },
   "outputs": [],
   "source": [
    "#df.drop('CNTYFIPS', axis=1, inplace=True)"
   ]
  },
  {
   "cell_type": "code",
   "execution_count": 19,
   "metadata": {},
   "outputs": [
    {
     "data": {
      "text/plain": [
       "(721898, 19)"
      ]
     },
     "execution_count": 19,
     "metadata": {},
     "output_type": "execute_result"
    }
   ],
   "source": [
    "df.shape"
   ]
  },
  {
   "cell_type": "code",
   "execution_count": 20,
   "metadata": {},
   "outputs": [
    {
     "data": {
      "text/html": [
       "<div>\n",
       "<style>\n",
       "    .dataframe thead tr:only-child th {\n",
       "        text-align: right;\n",
       "    }\n",
       "\n",
       "    .dataframe thead th {\n",
       "        text-align: left;\n",
       "    }\n",
       "\n",
       "    .dataframe tbody tr th {\n",
       "        vertical-align: top;\n",
       "    }\n",
       "</style>\n",
       "<table border=\"1\" class=\"dataframe\">\n",
       "  <thead>\n",
       "    <tr style=\"text-align: right;\">\n",
       "      <th></th>\n",
       "      <th>ID</th>\n",
       "      <th>State</th>\n",
       "      <th>Source</th>\n",
       "      <th>Solved</th>\n",
       "      <th>Year</th>\n",
       "      <th>Month</th>\n",
       "      <th>Incident</th>\n",
       "      <th>ActionType</th>\n",
       "      <th>Homicide</th>\n",
       "      <th>Situation</th>\n",
       "      <th>VicAge</th>\n",
       "      <th>VicSex</th>\n",
       "      <th>VicRace</th>\n",
       "      <th>OffAge</th>\n",
       "      <th>OffSex</th>\n",
       "      <th>OffRace</th>\n",
       "      <th>Weapon</th>\n",
       "      <th>Relationship</th>\n",
       "      <th>Circumstance</th>\n",
       "    </tr>\n",
       "  </thead>\n",
       "  <tbody>\n",
       "    <tr>\n",
       "      <th>0</th>\n",
       "      <td>197601001AKASP00</td>\n",
       "      <td>Alaska</td>\n",
       "      <td>FBI</td>\n",
       "      <td>Yes</td>\n",
       "      <td>1976</td>\n",
       "      <td>January</td>\n",
       "      <td>1.0</td>\n",
       "      <td>Normal update</td>\n",
       "      <td>Murder and non-negligent manslaughter</td>\n",
       "      <td>Single victim/single offender</td>\n",
       "      <td>48</td>\n",
       "      <td>Male</td>\n",
       "      <td>American Indian or Alaskan Native</td>\n",
       "      <td>55</td>\n",
       "      <td>Female</td>\n",
       "      <td>American Indian or Alaskan Native</td>\n",
       "      <td>Knife or cutting instrument</td>\n",
       "      <td>Husband</td>\n",
       "      <td>Other arguments</td>\n",
       "    </tr>\n",
       "    <tr>\n",
       "      <th>1</th>\n",
       "      <td>197601001AL00102</td>\n",
       "      <td>Alabama</td>\n",
       "      <td>FBI</td>\n",
       "      <td>Yes</td>\n",
       "      <td>1976</td>\n",
       "      <td>January</td>\n",
       "      <td>1.0</td>\n",
       "      <td>Normal update</td>\n",
       "      <td>Murder and non-negligent manslaughter</td>\n",
       "      <td>Single victim/single offender</td>\n",
       "      <td>65</td>\n",
       "      <td>Male</td>\n",
       "      <td>Black</td>\n",
       "      <td>67</td>\n",
       "      <td>Male</td>\n",
       "      <td>Black</td>\n",
       "      <td>Shotgun</td>\n",
       "      <td>Acquaintance</td>\n",
       "      <td>Felon killed by private citizen</td>\n",
       "    </tr>\n",
       "  </tbody>\n",
       "</table>\n",
       "</div>"
      ],
      "text/plain": [
       "                 ID    State Source Solved  Year    Month  Incident  \\\n",
       "0  197601001AKASP00   Alaska    FBI    Yes  1976  January       1.0   \n",
       "1  197601001AL00102  Alabama    FBI    Yes  1976  January       1.0   \n",
       "\n",
       "      ActionType                               Homicide  \\\n",
       "0  Normal update  Murder and non-negligent manslaughter   \n",
       "1  Normal update  Murder and non-negligent manslaughter   \n",
       "\n",
       "                       Situation VicAge VicSex  \\\n",
       "0  Single victim/single offender     48   Male   \n",
       "1  Single victim/single offender     65   Male   \n",
       "\n",
       "                             VicRace OffAge  OffSex  \\\n",
       "0  American Indian or Alaskan Native     55  Female   \n",
       "1                              Black     67    Male   \n",
       "\n",
       "                             OffRace                       Weapon  \\\n",
       "0  American Indian or Alaskan Native  Knife or cutting instrument   \n",
       "1                              Black                      Shotgun   \n",
       "\n",
       "   Relationship                     Circumstance  \n",
       "0       Husband                  Other arguments  \n",
       "1  Acquaintance  Felon killed by private citizen  "
      ]
     },
     "execution_count": 20,
     "metadata": {},
     "output_type": "execute_result"
    }
   ],
   "source": [
    "df.head(2)"
   ]
  },
  {
   "cell_type": "code",
   "execution_count": 21,
   "metadata": {},
   "outputs": [
    {
     "data": {
      "text/plain": [
       "State      Weapon                              \n",
       "Alabama    Handgun - pistol, revolver, etc         7305\n",
       "           Knife or cutting instrument             1904\n",
       "           Shotgun                                 1365\n",
       "           Other or type unknown                   1054\n",
       "           Personal weapons, includes beating       607\n",
       "           Rifle                                    512\n",
       "           Blunt object - hammer, club, etc         294\n",
       "           Firearm, type not stated                 138\n",
       "           Strangulation - hanging                   47\n",
       "           Fire                                      35\n",
       "           Drowning                                  15\n",
       "           Asphyxiation - includes death by gas      12\n",
       "           Explosives                                 5\n",
       "           Poison - does not include gas              5\n",
       "           Other gun                                  3\n",
       "           Narcotics or drugs, sleeping pills         1\n",
       "           Pushed or thrown out window                1\n",
       "Alaska     Handgun - pistol, revolver, etc          627\n",
       "           Knife or cutting instrument              277\n",
       "           Rifle                                    191\n",
       "           Firearm, type not stated                 148\n",
       "           Personal weapons, includes beating       128\n",
       "           Other or type unknown                    105\n",
       "           Shotgun                                   98\n",
       "           Blunt object - hammer, club, etc          89\n",
       "           Strangulation - hanging                   31\n",
       "           Fire                                      24\n",
       "           Asphyxiation - includes death by gas      13\n",
       "           Narcotics or drugs, sleeping pills         6\n",
       "           Other gun                                  5\n",
       "                                                   ... \n",
       "Wisconsin  Knife or cutting instrument             1041\n",
       "           Personal weapons, includes beating       565\n",
       "           Firearm, type not stated                 502\n",
       "           Other or type unknown                    364\n",
       "           Shotgun                                  348\n",
       "           Rifle                                    310\n",
       "           Blunt object - hammer, club, etc         301\n",
       "           Asphyxiation - includes death by gas     124\n",
       "           Strangulation - hanging                   89\n",
       "           Fire                                      87\n",
       "           Narcotics or drugs, sleeping pills        37\n",
       "           Drowning                                  16\n",
       "           Other gun                                  9\n",
       "           Explosives                                 6\n",
       "           Poison - does not include gas              4\n",
       "Wyoming    Handgun - pistol, revolver, etc          266\n",
       "           Personal weapons, includes beating       103\n",
       "           Knife or cutting instrument              101\n",
       "           Rifle                                     73\n",
       "           Shotgun                                   45\n",
       "           Blunt object - hammer, club, etc          28\n",
       "           Other or type unknown                     26\n",
       "           Firearm, type not stated                  22\n",
       "           Strangulation - hanging                   15\n",
       "           Asphyxiation - includes death by gas      13\n",
       "           Fire                                      10\n",
       "           Narcotics or drugs, sleeping pills         3\n",
       "           Pushed or thrown out window                2\n",
       "           Drowning                                   1\n",
       "           Other gun                                  1\n",
       "Name: Weapon, Length: 833, dtype: int64"
      ]
     },
     "execution_count": 21,
     "metadata": {},
     "output_type": "execute_result"
    }
   ],
   "source": [
    "df.groupby('State')['Weapon'].value_counts()"
   ]
  },
  {
   "cell_type": "code",
   "execution_count": 22,
   "metadata": {},
   "outputs": [
    {
     "data": {
      "text/plain": [
       "State           Weapon                            \n",
       "California      Handgun - pistol, revolver, etc       60221\n",
       "Texas           Handgun - pistol, revolver, etc       34090\n",
       "New York        Handgun - pistol, revolver, etc       30203\n",
       "Illinois        Handgun - pistol, revolver, etc       18458\n",
       "California      Knife or cutting instrument           17591\n",
       "Florida         Handgun - pistol, revolver, etc       15708\n",
       "Pennsylvania    Handgun - pistol, revolver, etc       14946\n",
       "Louisiana       Handgun - pistol, revolver, etc       13564\n",
       "Michigan        Handgun - pistol, revolver, etc       13549\n",
       "Georgia         Handgun - pistol, revolver, etc       13442\n",
       "Maryland        Handgun - pistol, revolver, etc       11783\n",
       "New York        Knife or cutting instrument           11287\n",
       "Texas           Knife or cutting instrument           11121\n",
       "Ohio            Handgun - pistol, revolver, etc       10896\n",
       "North Carolina  Handgun - pistol, revolver, etc       10301\n",
       "Tennessee       Handgun - pistol, revolver, etc        8242\n",
       "Virginia        Handgun - pistol, revolver, etc        8143\n",
       "New Jersey      Handgun - pistol, revolver, etc        7562\n",
       "Arizona         Handgun - pistol, revolver, etc        7436\n",
       "Florida         Firearm, type not stated               7347\n",
       "Alabama         Handgun - pistol, revolver, etc        7305\n",
       "Indiana         Handgun - pistol, revolver, etc        6766\n",
       "Missouri        Handgun - pistol, revolver, etc        6422\n",
       "South Carolina  Handgun - pistol, revolver, etc        6348\n",
       "California      Personal weapons, includes beating     5978\n",
       "                Blunt object - hammer, club, etc       5641\n",
       "Florida         Knife or cutting instrument            5623\n",
       "Texas           Firearm, type not stated               5569\n",
       "California      Firearm, type not stated               5421\n",
       "                Shotgun                                5071\n",
       "                                                      ...  \n",
       "Connecticut     Poison - does not include gas             2\n",
       "Maine           Pushed or thrown out window               1\n",
       "Delaware        Narcotics or drugs, sleeping pills        1\n",
       "Montana         Narcotics or drugs, sleeping pills        1\n",
       "                Poison - does not include gas             1\n",
       "Vermont         Drowning                                  1\n",
       "Nebraska        Other gun                                 1\n",
       "South Dakota    Poison - does not include gas             1\n",
       "Vermont         Explosives                                1\n",
       "                Pushed or thrown out window               1\n",
       "Nebraska        Poison - does not include gas             1\n",
       "Nevada          Pushed or thrown out window               1\n",
       "Colorado        Pushed or thrown out window               1\n",
       "Delaware        Pushed or thrown out window               1\n",
       "Mississippi     Narcotics or drugs, sleeping pills        1\n",
       "Alabama         Narcotics or drugs, sleeping pills        1\n",
       "                Pushed or thrown out window               1\n",
       "Wyoming         Drowning                                  1\n",
       "South Carolina  Explosives                                1\n",
       "Hawaii          Poison - does not include gas             1\n",
       "Idaho           Explosives                                1\n",
       "New Mexico      Poison - does not include gas             1\n",
       "Rhodes Island   Pushed or thrown out window               1\n",
       "                Other gun                                 1\n",
       "Iowa            Poison - does not include gas             1\n",
       "West Virginia   Poison - does not include gas             1\n",
       "North Dakota    Poison - does not include gas             1\n",
       "Alaska          Poison - does not include gas             1\n",
       "West Virginia   Pushed or thrown out window               1\n",
       "Wyoming         Other gun                                 1\n",
       "Name: Weapon, Length: 833, dtype: int64"
      ]
     },
     "execution_count": 22,
     "metadata": {},
     "output_type": "execute_result"
    }
   ],
   "source": [
    "df.groupby('State')['Weapon'].value_counts().sort_values(ascending = False)"
   ]
  },
  {
   "cell_type": "code",
   "execution_count": 23,
   "metadata": {
    "collapsed": true
   },
   "outputs": [],
   "source": [
    "weapons = pd.crosstab(df.State, df.Weapon)"
   ]
  },
  {
   "cell_type": "code",
   "execution_count": 24,
   "metadata": {
    "collapsed": true
   },
   "outputs": [],
   "source": [
    "weapons_new = weapons[['Firearm, type not stated', 'Handgun - pistol, revolver, etc',\n",
    "                       'Rifle', 'Shotgun', 'Other gun']]"
   ]
  },
  {
   "cell_type": "code",
   "execution_count": 25,
   "metadata": {},
   "outputs": [
    {
     "data": {
      "text/plain": [
       "Weapon\n",
       "Firearm, type not stated           int64\n",
       "Handgun - pistol, revolver, etc    int64\n",
       "Rifle                              int64\n",
       "Shotgun                            int64\n",
       "Other gun                          int64\n",
       "dtype: object"
      ]
     },
     "execution_count": 25,
     "metadata": {},
     "output_type": "execute_result"
    }
   ],
   "source": [
    "weapons_new.dtypes"
   ]
  },
  {
   "cell_type": "code",
   "execution_count": 26,
   "metadata": {},
   "outputs": [
    {
     "data": {
      "text/html": [
       "<div>\n",
       "<style>\n",
       "    .dataframe thead tr:only-child th {\n",
       "        text-align: right;\n",
       "    }\n",
       "\n",
       "    .dataframe thead th {\n",
       "        text-align: left;\n",
       "    }\n",
       "\n",
       "    .dataframe tbody tr th {\n",
       "        vertical-align: top;\n",
       "    }\n",
       "</style>\n",
       "<table border=\"1\" class=\"dataframe\">\n",
       "  <thead>\n",
       "    <tr style=\"text-align: right;\">\n",
       "      <th>Weapon</th>\n",
       "      <th>Firearm, type not stated</th>\n",
       "      <th>Handgun - pistol, revolver, etc</th>\n",
       "      <th>Rifle</th>\n",
       "      <th>Shotgun</th>\n",
       "      <th>Other gun</th>\n",
       "    </tr>\n",
       "    <tr>\n",
       "      <th>State</th>\n",
       "      <th></th>\n",
       "      <th></th>\n",
       "      <th></th>\n",
       "      <th></th>\n",
       "      <th></th>\n",
       "    </tr>\n",
       "  </thead>\n",
       "  <tbody>\n",
       "    <tr>\n",
       "      <th>Alabama</th>\n",
       "      <td>138</td>\n",
       "      <td>7305</td>\n",
       "      <td>512</td>\n",
       "      <td>1365</td>\n",
       "      <td>3</td>\n",
       "    </tr>\n",
       "    <tr>\n",
       "      <th>Alaska</th>\n",
       "      <td>148</td>\n",
       "      <td>627</td>\n",
       "      <td>191</td>\n",
       "      <td>98</td>\n",
       "      <td>5</td>\n",
       "    </tr>\n",
       "    <tr>\n",
       "      <th>Arizona</th>\n",
       "      <td>691</td>\n",
       "      <td>7436</td>\n",
       "      <td>646</td>\n",
       "      <td>540</td>\n",
       "      <td>38</td>\n",
       "    </tr>\n",
       "    <tr>\n",
       "      <th>Arkansas</th>\n",
       "      <td>651</td>\n",
       "      <td>3559</td>\n",
       "      <td>525</td>\n",
       "      <td>694</td>\n",
       "      <td>33</td>\n",
       "    </tr>\n",
       "    <tr>\n",
       "      <th>California</th>\n",
       "      <td>5421</td>\n",
       "      <td>60221</td>\n",
       "      <td>4705</td>\n",
       "      <td>5071</td>\n",
       "      <td>38</td>\n",
       "    </tr>\n",
       "  </tbody>\n",
       "</table>\n",
       "</div>"
      ],
      "text/plain": [
       "Weapon      Firearm, type not stated  Handgun - pistol, revolver, etc  Rifle  \\\n",
       "State                                                                          \n",
       "Alabama                          138                             7305    512   \n",
       "Alaska                           148                              627    191   \n",
       "Arizona                          691                             7436    646   \n",
       "Arkansas                         651                             3559    525   \n",
       "California                      5421                            60221   4705   \n",
       "\n",
       "Weapon      Shotgun  Other gun  \n",
       "State                           \n",
       "Alabama        1365          3  \n",
       "Alaska           98          5  \n",
       "Arizona         540         38  \n",
       "Arkansas        694         33  \n",
       "California     5071         38  "
      ]
     },
     "execution_count": 26,
     "metadata": {},
     "output_type": "execute_result"
    }
   ],
   "source": [
    "weapons_new.head()"
   ]
  },
  {
   "cell_type": "code",
   "execution_count": null,
   "metadata": {
    "collapsed": true
   },
   "outputs": [],
   "source": []
  },
  {
   "cell_type": "code",
   "execution_count": 27,
   "metadata": {},
   "outputs": [
    {
     "data": {
      "text/plain": [
       "<matplotlib.axes._subplots.AxesSubplot at 0x1217069b0>"
      ]
     },
     "execution_count": 27,
     "metadata": {},
     "output_type": "execute_result"
    },
    {
     "data": {
      "image/png": "[encoded data removed]",
      "text/plain": [
       "<matplotlib.figure.Figure at 0x1217086a0>"
      ]
     },
     "metadata": {},
     "output_type": "display_data"
    }
   ],
   "source": [
    "weapons_new.plot(figsize=(10,10))\n",
    "\n",
    "#plt.savefig(\"weapons_age.pdf\")"
   ]
  },
  {
   "cell_type": "code",
   "execution_count": 28,
   "metadata": {
    "collapsed": true
   },
   "outputs": [],
   "source": [
    "#df.to_csv(\"cleaned.csv\", encoding = 'utf-8', index = False)"
   ]
  },
  {
   "cell_type": "code",
   "execution_count": 29,
   "metadata": {
    "collapsed": true
   },
   "outputs": [],
   "source": [
    "#df_cleaned= pd.read_csv(\"cleaned-csv.csv\")"
   ]
  },
  {
   "cell_type": "code",
   "execution_count": 30,
   "metadata": {
    "collapsed": true
   },
   "outputs": [],
   "source": [
    "sum_weapons = df"
   ]
  },
  {
   "cell_type": "code",
   "execution_count": 31,
   "metadata": {
    "collapsed": true
   },
   "outputs": [],
   "source": [
    "sum_weapons.loc[(sum_weapons['Weapon'] == 'Shotgun') | (sum_weapons['Weapon'] == 'Rifle') \n",
    "                | (sum_weapons['Weapon'] == 'Handgun - pistol, revolver, etc')\n",
    "                | (sum_weapons['Weapon'] == 'Firearm, type not stated') \n",
    "                | (sum_weapons['Weapon'] == 'Other gun'),\n",
    "               'Gun'] = 'Gun'"
   ]
  },
  {
   "cell_type": "code",
   "execution_count": 32,
   "metadata": {},
   "outputs": [
    {
     "data": {
      "text/html": [
       "<div>\n",
       "<style>\n",
       "    .dataframe thead tr:only-child th {\n",
       "        text-align: right;\n",
       "    }\n",
       "\n",
       "    .dataframe thead th {\n",
       "        text-align: left;\n",
       "    }\n",
       "\n",
       "    .dataframe tbody tr th {\n",
       "        vertical-align: top;\n",
       "    }\n",
       "</style>\n",
       "<table border=\"1\" class=\"dataframe\">\n",
       "  <thead>\n",
       "    <tr style=\"text-align: right;\">\n",
       "      <th></th>\n",
       "      <th>ID</th>\n",
       "      <th>State</th>\n",
       "      <th>Source</th>\n",
       "      <th>Solved</th>\n",
       "      <th>Year</th>\n",
       "      <th>Month</th>\n",
       "      <th>Incident</th>\n",
       "      <th>ActionType</th>\n",
       "      <th>Homicide</th>\n",
       "      <th>Situation</th>\n",
       "      <th>VicAge</th>\n",
       "      <th>VicSex</th>\n",
       "      <th>VicRace</th>\n",
       "      <th>OffAge</th>\n",
       "      <th>OffSex</th>\n",
       "      <th>OffRace</th>\n",
       "      <th>Weapon</th>\n",
       "      <th>Relationship</th>\n",
       "      <th>Circumstance</th>\n",
       "      <th>Gun</th>\n",
       "    </tr>\n",
       "  </thead>\n",
       "  <tbody>\n",
       "    <tr>\n",
       "      <th>0</th>\n",
       "      <td>197601001AKASP00</td>\n",
       "      <td>Alaska</td>\n",
       "      <td>FBI</td>\n",
       "      <td>Yes</td>\n",
       "      <td>1976</td>\n",
       "      <td>January</td>\n",
       "      <td>1.0</td>\n",
       "      <td>Normal update</td>\n",
       "      <td>Murder and non-negligent manslaughter</td>\n",
       "      <td>Single victim/single offender</td>\n",
       "      <td>48</td>\n",
       "      <td>Male</td>\n",
       "      <td>American Indian or Alaskan Native</td>\n",
       "      <td>55</td>\n",
       "      <td>Female</td>\n",
       "      <td>American Indian or Alaskan Native</td>\n",
       "      <td>Knife or cutting instrument</td>\n",
       "      <td>Husband</td>\n",
       "      <td>Other arguments</td>\n",
       "      <td>NaN</td>\n",
       "    </tr>\n",
       "    <tr>\n",
       "      <th>1</th>\n",
       "      <td>197601001AL00102</td>\n",
       "      <td>Alabama</td>\n",
       "      <td>FBI</td>\n",
       "      <td>Yes</td>\n",
       "      <td>1976</td>\n",
       "      <td>January</td>\n",
       "      <td>1.0</td>\n",
       "      <td>Normal update</td>\n",
       "      <td>Murder and non-negligent manslaughter</td>\n",
       "      <td>Single victim/single offender</td>\n",
       "      <td>65</td>\n",
       "      <td>Male</td>\n",
       "      <td>Black</td>\n",
       "      <td>67</td>\n",
       "      <td>Male</td>\n",
       "      <td>Black</td>\n",
       "      <td>Shotgun</td>\n",
       "      <td>Acquaintance</td>\n",
       "      <td>Felon killed by private citizen</td>\n",
       "      <td>Gun</td>\n",
       "    </tr>\n",
       "    <tr>\n",
       "      <th>2</th>\n",
       "      <td>197601001AL00104</td>\n",
       "      <td>Alabama</td>\n",
       "      <td>FBI</td>\n",
       "      <td>Yes</td>\n",
       "      <td>1976</td>\n",
       "      <td>January</td>\n",
       "      <td>1.0</td>\n",
       "      <td>Normal update</td>\n",
       "      <td>Murder and non-negligent manslaughter</td>\n",
       "      <td>Single victim/single offender</td>\n",
       "      <td>45</td>\n",
       "      <td>Female</td>\n",
       "      <td>Black</td>\n",
       "      <td>53</td>\n",
       "      <td>Male</td>\n",
       "      <td>Black</td>\n",
       "      <td>Shotgun</td>\n",
       "      <td>Wife</td>\n",
       "      <td>Other</td>\n",
       "      <td>Gun</td>\n",
       "    </tr>\n",
       "    <tr>\n",
       "      <th>3</th>\n",
       "      <td>197601001AL00106</td>\n",
       "      <td>Alabama</td>\n",
       "      <td>FBI</td>\n",
       "      <td>Yes</td>\n",
       "      <td>1976</td>\n",
       "      <td>January</td>\n",
       "      <td>1.0</td>\n",
       "      <td>Normal update</td>\n",
       "      <td>Murder and non-negligent manslaughter</td>\n",
       "      <td>Single victim/single offender</td>\n",
       "      <td>43</td>\n",
       "      <td>Male</td>\n",
       "      <td>Black</td>\n",
       "      <td>35</td>\n",
       "      <td>Female</td>\n",
       "      <td>Black</td>\n",
       "      <td>Knife or cutting instrument</td>\n",
       "      <td>Brother</td>\n",
       "      <td>Other arguments</td>\n",
       "      <td>NaN</td>\n",
       "    </tr>\n",
       "    <tr>\n",
       "      <th>4</th>\n",
       "      <td>197601001AL00201</td>\n",
       "      <td>Alabama</td>\n",
       "      <td>FBI</td>\n",
       "      <td>Yes</td>\n",
       "      <td>1976</td>\n",
       "      <td>January</td>\n",
       "      <td>1.0</td>\n",
       "      <td>Adjustment</td>\n",
       "      <td>Murder and non-negligent manslaughter</td>\n",
       "      <td>Single victim/single offender</td>\n",
       "      <td>35</td>\n",
       "      <td>Male</td>\n",
       "      <td>White</td>\n",
       "      <td>25</td>\n",
       "      <td>Female</td>\n",
       "      <td>White</td>\n",
       "      <td>Strangulation - hanging</td>\n",
       "      <td>Acquaintance</td>\n",
       "      <td>Circumstances undetermined</td>\n",
       "      <td>NaN</td>\n",
       "    </tr>\n",
       "  </tbody>\n",
       "</table>\n",
       "</div>"
      ],
      "text/plain": [
       "                 ID    State Source Solved  Year    Month  Incident  \\\n",
       "0  197601001AKASP00   Alaska    FBI    Yes  1976  January       1.0   \n",
       "1  197601001AL00102  Alabama    FBI    Yes  1976  January       1.0   \n",
       "2  197601001AL00104  Alabama    FBI    Yes  1976  January       1.0   \n",
       "3  197601001AL00106  Alabama    FBI    Yes  1976  January       1.0   \n",
       "4  197601001AL00201  Alabama    FBI    Yes  1976  January       1.0   \n",
       "\n",
       "      ActionType                               Homicide  \\\n",
       "0  Normal update  Murder and non-negligent manslaughter   \n",
       "1  Normal update  Murder and non-negligent manslaughter   \n",
       "2  Normal update  Murder and non-negligent manslaughter   \n",
       "3  Normal update  Murder and non-negligent manslaughter   \n",
       "4     Adjustment  Murder and non-negligent manslaughter   \n",
       "\n",
       "                       Situation VicAge  VicSex  \\\n",
       "0  Single victim/single offender     48    Male   \n",
       "1  Single victim/single offender     65    Male   \n",
       "2  Single victim/single offender     45  Female   \n",
       "3  Single victim/single offender     43    Male   \n",
       "4  Single victim/single offender     35    Male   \n",
       "\n",
       "                             VicRace OffAge  OffSex  \\\n",
       "0  American Indian or Alaskan Native     55  Female   \n",
       "1                              Black     67    Male   \n",
       "2                              Black     53    Male   \n",
       "3                              Black     35  Female   \n",
       "4                              White     25  Female   \n",
       "\n",
       "                             OffRace                       Weapon  \\\n",
       "0  American Indian or Alaskan Native  Knife or cutting instrument   \n",
       "1                              Black                      Shotgun   \n",
       "2                              Black                      Shotgun   \n",
       "3                              Black  Knife or cutting instrument   \n",
       "4                              White      Strangulation - hanging   \n",
       "\n",
       "   Relationship                     Circumstance  Gun  \n",
       "0       Husband                  Other arguments  NaN  \n",
       "1  Acquaintance  Felon killed by private citizen  Gun  \n",
       "2          Wife                            Other  Gun  \n",
       "3       Brother                  Other arguments  NaN  \n",
       "4  Acquaintance       Circumstances undetermined  NaN  "
      ]
     },
     "execution_count": 32,
     "metadata": {},
     "output_type": "execute_result"
    }
   ],
   "source": [
    "sum_weapons.head()"
   ]
  },
  {
   "cell_type": "code",
   "execution_count": 33,
   "metadata": {},
   "outputs": [
    {
     "data": {
      "text/plain": [
       "Gun    475827\n",
       "Name: Gun, dtype: int64"
      ]
     },
     "execution_count": 33,
     "metadata": {},
     "output_type": "execute_result"
    }
   ],
   "source": [
    "sum_weapons['Gun'].value_counts()"
   ]
  },
  {
   "cell_type": "code",
   "execution_count": 34,
   "metadata": {},
   "outputs": [
    {
     "data": {
      "text/plain": [
       "<matplotlib.axes._subplots.AxesSubplot at 0x121708278>"
      ]
     },
     "execution_count": 34,
     "metadata": {},
     "output_type": "execute_result"
    },
    {
     "data": {
      "image/png": "[encoded data removed]",
      "text/plain": [
       "<matplotlib.figure.Figure at 0x10aa801d0>"
      ]
     },
     "metadata": {},
     "output_type": "display_data"
    }
   ],
   "source": [
    "sum_weapons.groupby('State')['Gun'].value_counts().plot(kind='bar', figsize=(10,10))\n",
    "\n",
    "#plt.savefig(\"guns.pdf\")"
   ]
  },
  {
   "cell_type": "code",
   "execution_count": null,
   "metadata": {
    "collapsed": true
   },
   "outputs": [],
   "source": []
  }
 ],
 "metadata": {
  "kernelspec": {
   "display_name": "Python 3",
   "language": "python",
   "name": "python3"
  },
  "language_info": {
   "codemirror_mode": {
    "name": "ipython",
    "version": 3
   },
   "file_extension": ".py",
   "mimetype": "text/x-python",
   "name": "python",
   "nbconvert_exporter": "python",
   "pygments_lexer": "ipython3",
   "version": "3.6.2"
  }
 },
 "nbformat": 4,
 "nbformat_minor": 2
}
